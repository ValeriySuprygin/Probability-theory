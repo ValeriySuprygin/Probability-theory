{
 "cells": [
  {
   "cell_type": "markdown",
   "id": "1b94d1b9",
   "metadata": {},
   "source": [
    "### Задача 1"
   ]
  },
  {
   "cell_type": "markdown",
   "id": "09cd39ac",
   "metadata": {},
   "source": [
    "Контрольная работа состоит из пяти вопросов. На каждый вопрос приведено четыре варианта ответа, один из которых правильный. Составьте закон распределения числа правильных ответов при простом угадывании. Найдите M(X), D(X)."
   ]
  },
  {
   "cell_type": "markdown",
   "id": "c1cf8f00",
   "metadata": {},
   "source": [
    "Зададим дискретную случайную величину - число правильных ответов, как $X$, которая распределена по биномиальному закону с параметрами n = 5 (число вопросов) и вероятностью угадать ответ $p = \\frac{1}{4}$ (вероятность правильного ответа из 4-х возможных вариантов). Исходя из параметра n, возможные значения величины $X$: $x_1 = 0$, $x_2 = 1$, $x_3 = 2$, $x_4 = 3$, $x_5 = 4$, $x_6 = 5$. Посчитаем вероятность для каждого значения по формуле Бернулли:"
   ]
  },
  {
   "cell_type": "markdown",
   "id": "712f34c1",
   "metadata": {},
   "source": [
    "$$P(X = x) = C_n^x p^x (1 - p)^{n - x} = C_5^x (\\frac{1}{4})^{x} (1 - \\frac{1}{4})^{5 - x} = C_5^x (\\frac{1}{4})^{x} (\\frac{3}{4})^{5 - x}$$"
   ]
  },
  {
   "cell_type": "code",
   "execution_count": 1,
   "id": "a5e80309",
   "metadata": {},
   "outputs": [],
   "source": [
    "from math import factorial"
   ]
  },
  {
   "cell_type": "code",
   "execution_count": 2,
   "id": "f5410003",
   "metadata": {},
   "outputs": [],
   "source": [
    "def combinations(n, k):\n",
    "    return int(factorial(n) / (factorial(k) * factorial(n - k)))"
   ]
  },
  {
   "cell_type": "markdown",
   "id": "f3e07720",
   "metadata": {},
   "source": [
    "Считаем значения вероятностей для возможный значений $X$:"
   ]
  },
  {
   "cell_type": "code",
   "execution_count": 3,
   "id": "11477964",
   "metadata": {},
   "outputs": [
    {
     "data": {
      "text/plain": [
       "0.2373046875"
      ]
     },
     "execution_count": 3,
     "metadata": {},
     "output_type": "execute_result"
    }
   ],
   "source": [
    "Px_1 = combinations(5, 0) * (0.25 ** 0) * (0.75 ** 5)\n",
    "Px_1"
   ]
  },
  {
   "cell_type": "code",
   "execution_count": 4,
   "id": "6631c0c0",
   "metadata": {},
   "outputs": [
    {
     "data": {
      "text/plain": [
       "0.3955078125"
      ]
     },
     "execution_count": 4,
     "metadata": {},
     "output_type": "execute_result"
    }
   ],
   "source": [
    "Px_2 = combinations(5, 1) * (0.25 ** 1) * (0.75 ** 4)\n",
    "Px_2"
   ]
  },
  {
   "cell_type": "code",
   "execution_count": 5,
   "id": "1ee23a84",
   "metadata": {},
   "outputs": [
    {
     "data": {
      "text/plain": [
       "0.263671875"
      ]
     },
     "execution_count": 5,
     "metadata": {},
     "output_type": "execute_result"
    }
   ],
   "source": [
    "Px_3 = combinations(5, 2) * (0.25 ** 2) * (0.75 ** 3)\n",
    "Px_3"
   ]
  },
  {
   "cell_type": "code",
   "execution_count": 6,
   "id": "533c9b70",
   "metadata": {},
   "outputs": [
    {
     "data": {
      "text/plain": [
       "0.087890625"
      ]
     },
     "execution_count": 6,
     "metadata": {},
     "output_type": "execute_result"
    }
   ],
   "source": [
    "Px_4 = combinations(5, 3) * (0.25 ** 3) * (0.75 ** 2)\n",
    "Px_4"
   ]
  },
  {
   "cell_type": "code",
   "execution_count": 7,
   "id": "878ef1bd",
   "metadata": {},
   "outputs": [
    {
     "data": {
      "text/plain": [
       "0.0146484375"
      ]
     },
     "execution_count": 7,
     "metadata": {},
     "output_type": "execute_result"
    }
   ],
   "source": [
    "Px_5 = combinations(5, 4) * (0.25 ** 4) * (0.75 ** 1)\n",
    "Px_5"
   ]
  },
  {
   "cell_type": "code",
   "execution_count": 8,
   "id": "ec57af72",
   "metadata": {},
   "outputs": [
    {
     "data": {
      "text/plain": [
       "0.0009765625"
      ]
     },
     "execution_count": 8,
     "metadata": {},
     "output_type": "execute_result"
    }
   ],
   "source": [
    "Px_6 = combinations(5, 5) * (0.25 ** 5) * (0.75 ** 0)\n",
    "Px_6"
   ]
  },
  {
   "cell_type": "markdown",
   "id": "acd689d6",
   "metadata": {},
   "source": [
    "Таким образом, закон распределения случайной величины $X$:"
   ]
  },
  {
   "cell_type": "markdown",
   "id": "9c38145e",
   "metadata": {},
   "source": [
    "<table border=\"3\">\n",
    "    <tr>\n",
    "        <th>$x$</th>\n",
    "        <td>0</td>\n",
    "        <td>1</td>\n",
    "        <td>2</td>\n",
    "        <td>3</td>\n",
    "        <td>4</td>\n",
    "        <td>5</td>\n",
    "    </tr>\n",
    "    <tr>\n",
    "        <th>$P(X = x)$</th>\n",
    "        <td>0.2373046875</td>\n",
    "        <td>0.3955078125</td>\n",
    "        <td>0.263671875</td>\n",
    "        <td>0.087890625</td>\n",
    "        <td>0.0146484375</td>\n",
    "        <td>0.0009765625</td>\n",
    "    </tr>\n",
    "</table>"
   ]
  },
  {
   "cell_type": "markdown",
   "id": "5a74745e",
   "metadata": {},
   "source": [
    "Математическое ожидание для биномиально распределенной величины $X$ считаем по формуле: $$M(X) = np = 5 \\cdot \\frac{1}{4} = 1.25$$"
   ]
  },
  {
   "cell_type": "markdown",
   "id": "4d144a4a",
   "metadata": {},
   "source": [
    "Дисперсию для биномиально распределенной величины $X$ считаем по формуле: $$D(X) = np(1 - p) = 5 \\cdot \\frac{1}{4} \\cdot (1 - \\frac{1}{4}) = 5 \\cdot \\frac{1}{4} \\cdot \\frac{3}{4} = \\frac{15}{16} = 0.9375$$"
   ]
  },
  {
   "cell_type": "markdown",
   "id": "9e087ed2",
   "metadata": {},
   "source": [
    "### Задача 2"
   ]
  },
  {
   "cell_type": "markdown",
   "id": "52a730e1",
   "metadata": {},
   "source": [
    "Вероятность попадания в цель при одном выстреле равна 0.01. Какова вероятность того, что число попаданий при 200 выстрелах будет не менее 5 и не более 10?"
   ]
  },
  {
   "cell_type": "markdown",
   "id": "0e475431",
   "metadata": {},
   "source": [
    "Зададим дискретную случайную величину - число попаданий в цель, как $X$. Так как число выстрелов (n = 200) достаточно велико, а вероятность попадания в цель достаточно мала (p = 0.01), то искомую вероятность можно расчитать по формуле Пуассона с параметром $a = n \\cdot p = 200 \\cdot 0.01 = 2$."
   ]
  },
  {
   "cell_type": "markdown",
   "id": "43082ee6",
   "metadata": {},
   "source": [
    "Поскольку по условию задачи дипазон числа попаданий: не менее 5 и не более 10 - это означает, что крайние значения дипазона должны быть включены в расчет. Таким образом расчет искомой вероятности будет выглядеть следующим образом: $$Px = P(5 \\leq X \\leq 10) = \\displaystyle\\sum_{i = 5}^{10} \\dfrac{2^{i} e^{-2}}{i!}$$ "
   ]
  },
  {
   "cell_type": "code",
   "execution_count": 9,
   "id": "1506af20",
   "metadata": {},
   "outputs": [],
   "source": [
    "import numpy as np"
   ]
  },
  {
   "cell_type": "code",
   "execution_count": 10,
   "id": "e543d703",
   "metadata": {},
   "outputs": [],
   "source": [
    "def poisson_proba(k, a):\n",
    "    \n",
    "    return (a ** k) * (np.exp(-a)) / np.math.factorial(k)"
   ]
  },
  {
   "cell_type": "code",
   "execution_count": 11,
   "id": "4e0870e4",
   "metadata": {},
   "outputs": [
    {
     "data": {
      "text/plain": [
       "0.052644709119342686"
      ]
     },
     "execution_count": 11,
     "metadata": {},
     "output_type": "execute_result"
    }
   ],
   "source": [
    "Px = sum(poisson_proba(k=i, a=2) for i in range(5, 11))\n",
    "Px"
   ]
  },
  {
   "cell_type": "markdown",
   "id": "897edfd1",
   "metadata": {},
   "source": [
    "### Задача 3"
   ]
  },
  {
   "cell_type": "markdown",
   "id": "57903a3a",
   "metadata": {},
   "source": [
    "В условиях предыдущей задачи сколько выстрелов нужно сделать чтобы быть уверенным с вероятностью 0.9, что хотя бы 10 раз будет совершено попадание?"
   ]
  },
  {
   "cell_type": "markdown",
   "id": "43606593",
   "metadata": {},
   "source": [
    "#### Имеющиеся входные данные:"
   ]
  },
  {
   "cell_type": "markdown",
   "id": "ea9d73d3",
   "metadata": {},
   "source": [
    "1. Попадание хотя бы 10 раз - это 10 и более попаданий, таким образом выражение вероятности:"
   ]
  },
  {
   "cell_type": "markdown",
   "id": "7ca63dac",
   "metadata": {},
   "source": [
    "2. $P(X \\geq 10) = 0.9$"
   ]
  },
  {
   "cell_type": "markdown",
   "id": "a02c0249",
   "metadata": {},
   "source": [
    "3. Поскольку суммировать от 10 до бесконечности невозможно, поэтому, используя условие, что сумма вероятностей случайной величины всегда равна $1$, получаем что вероятность можно выразить следующим образом:\n",
    "$$P(X \\geq 10) = 1 - P(X < 10)$$ $$P(X < 10) = 1 - 0.9 = 0.1$$"
   ]
  },
  {
   "cell_type": "markdown",
   "id": "c354b292",
   "metadata": {},
   "source": [
    "4. Вероятность попадания в цель при одном выстреле равна: $$p = 0.01$$"
   ]
  },
  {
   "cell_type": "markdown",
   "id": "fd74e76a",
   "metadata": {},
   "source": [
    "Количество выстрелов будем находить путем подбора с использованием формулы Пуассона в примерном дипазоне от 100 до 10000 с шагом 1 (для большей точности):"
   ]
  },
  {
   "cell_type": "code",
   "execution_count": 12,
   "id": "18ac9762",
   "metadata": {},
   "outputs": [
    {
     "name": "stdout",
     "output_type": "stream",
     "text": [
      " Количество выстрелов: 1421\n"
     ]
    }
   ],
   "source": [
    "p = 0.01\n",
    "for i in range(100, 10001):\n",
    "    Px = sum(poisson_proba(k=j, a=i * p) for j in range(10))\n",
    "    if 0 < Px <= 0.1:\n",
    "        break\n",
    "print(f\" Количество выстрелов: {i}\")"
   ]
  },
  {
   "cell_type": "markdown",
   "id": "6e7d070d",
   "metadata": {},
   "source": [
    "Если теперь вычислить параметр $a = n \\cdot p = 1421 \\cdot 0.01 = 14.21$ и подставить в формулу Пуассона для расчета $P(X < 10)$: "
   ]
  },
  {
   "cell_type": "code",
   "execution_count": 13,
   "id": "15b000c9",
   "metadata": {},
   "outputs": [
    {
     "data": {
      "text/plain": [
       "0.1"
      ]
     },
     "execution_count": 13,
     "metadata": {},
     "output_type": "execute_result"
    }
   ],
   "source": [
    "Px_check = sum(poisson_proba(k=i, a=14.21) for i in range(10))\n",
    "round(Px_check, 2)"
   ]
  },
  {
   "cell_type": "markdown",
   "id": "3aaec30d",
   "metadata": {},
   "source": [
    "Заданная вероятность $P(X < 10)$ равна вероятности с расчетным числом выстрелов $Px(check)$, таким образом ответ на вопрос задачи:"
   ]
  },
  {
   "cell_type": "markdown",
   "id": "840e5494",
   "metadata": {},
   "source": [
    "Количество выстрелов, которые необходимо сделать, чтобы быть уверенным с вероятностью 0.9, что хотя бы 10 раз будет совершено попадание: $$n = 1421$$"
   ]
  },
  {
   "cell_type": "code",
   "execution_count": null,
   "id": "6a6727e2",
   "metadata": {},
   "outputs": [],
   "source": []
  }
 ],
 "metadata": {
  "kernelspec": {
   "display_name": "Python 3 (ipykernel)",
   "language": "python",
   "name": "python3"
  },
  "language_info": {
   "codemirror_mode": {
    "name": "ipython",
    "version": 3
   },
   "file_extension": ".py",
   "mimetype": "text/x-python",
   "name": "python",
   "nbconvert_exporter": "python",
   "pygments_lexer": "ipython3",
   "version": "3.9.12"
  }
 },
 "nbformat": 4,
 "nbformat_minor": 5
}

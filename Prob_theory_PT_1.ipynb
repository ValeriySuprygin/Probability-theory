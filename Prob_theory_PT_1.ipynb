{
 "cells": [
  {
   "cell_type": "code",
   "execution_count": 1,
   "id": "e43fb2bd",
   "metadata": {},
   "outputs": [],
   "source": [
    "from math import factorial"
   ]
  },
  {
   "cell_type": "code",
   "execution_count": 2,
   "id": "5006fe4a",
   "metadata": {},
   "outputs": [],
   "source": [
    "def combinations(n, k):\n",
    "    return int(factorial(n) / (factorial(k) * factorial(n - k)))"
   ]
  },
  {
   "cell_type": "code",
   "execution_count": 3,
   "id": "9bb98563",
   "metadata": {},
   "outputs": [],
   "source": [
    "def arrangements(n, k):\n",
    "    return int(factorial(n) / factorial(n - k))"
   ]
  },
  {
   "cell_type": "code",
   "execution_count": 4,
   "id": "a5186507",
   "metadata": {},
   "outputs": [],
   "source": [
    "def permutations(n):\n",
    "    return int(factorial(n))"
   ]
  },
  {
   "cell_type": "markdown",
   "id": "ed97b502",
   "metadata": {},
   "source": [
    "### Задача 1"
   ]
  },
  {
   "cell_type": "markdown",
   "id": "50212ea1",
   "metadata": {},
   "source": [
    "Группа студентов изучает 10 различных дисциплин. Сколькими способами можно составить расписание на понедельник, если в этот день должно быть 4 разных занятия?"
   ]
  },
  {
   "cell_type": "markdown",
   "id": "5bc2d50b",
   "metadata": {},
   "source": [
    "#### Вариант а"
   ]
  },
  {
   "cell_type": "markdown",
   "id": "eeabd7f4",
   "metadata": {},
   "source": [
    "Если не учитывать порядок следования занятий (всем студентам из группы без разницы), то для вычисления количества способов можно использовать сочетания."
   ]
  },
  {
   "cell_type": "code",
   "execution_count": 5,
   "id": "8f9b449e",
   "metadata": {},
   "outputs": [
    {
     "data": {
      "text/plain": [
       "210"
      ]
     },
     "execution_count": 5,
     "metadata": {},
     "output_type": "execute_result"
    }
   ],
   "source": [
    "combinations(10, 4)"
   ]
  },
  {
   "cell_type": "markdown",
   "id": "81910b8c",
   "metadata": {},
   "source": [
    "#### Вариант b"
   ]
  },
  {
   "cell_type": "markdown",
   "id": "555290a3",
   "metadata": {},
   "source": [
    "Если учитывать порядок следования занятий (студенты оказались капризными), то для вычисления количества способов можно использовать размещения."
   ]
  },
  {
   "cell_type": "code",
   "execution_count": 6,
   "id": "db42d1c2",
   "metadata": {},
   "outputs": [
    {
     "data": {
      "text/plain": [
       "5040"
      ]
     },
     "execution_count": 6,
     "metadata": {},
     "output_type": "execute_result"
    }
   ],
   "source": [
    "arrangements(10, 4)"
   ]
  },
  {
   "cell_type": "markdown",
   "id": "85f79109",
   "metadata": {},
   "source": [
    "### Задача 2"
   ]
  },
  {
   "cell_type": "markdown",
   "id": "2e641004",
   "metadata": {},
   "source": [
    "Из колоды в 52 карты вынимают случайным образом 4 карты. Найти число исходов, соответствующих тому, что был вытянут хотя бы один туз."
   ]
  },
  {
   "cell_type": "markdown",
   "id": "e158cc85",
   "metadata": {},
   "source": [
    "Условие \"хотя бы один туз\" означает, что может быть вытянут один туз или более, то есть, исходя из условия вынимания 4 карт: 1 ИЛИ 2 ИЛИ 3 ИЛИ 4"
   ]
  },
  {
   "cell_type": "markdown",
   "id": "67d1004e",
   "metadata": {},
   "source": [
    "Поскольку, исходя из условия задачи, порядок вытаскивания карт не важен, то можно применить сочетания. Для решения сначала подсчитам сочетания вытягивания тузов по каждому из вариантов (1 туз, 2 туза, 3 туза, 4 туза):\n",
    "\n",
    "$$C_4^1 * С_{48}^3$$ - выпадание 1-ого туза из 4 выбранных карт И (умножение) выборка остальных 3-х карт, за исключением 4-х уже выбранных из колоды (для вариантов 2 туза, 3 туза и 4 туза - по анологии).\n",
    "\n",
    "Далее, для подсчета общего числа исходов воспользуемся сложением (ИЛИ): $$C_4^1 * С_{48}^3 + C_4^2 * С_{48}^2 ...$$"
   ]
  },
  {
   "cell_type": "code",
   "execution_count": 7,
   "id": "b129f4c4",
   "metadata": {},
   "outputs": [
    {
     "data": {
      "text/plain": [
       "76145"
      ]
     },
     "execution_count": 7,
     "metadata": {},
     "output_type": "execute_result"
    }
   ],
   "source": [
    "outcome = combinations(4, 1) * combinations(48, 3) + combinations(4, 2) * combinations(48, 2) \\\n",
    "          + combinations(4, 3) * combinations(48, 1) + combinations(4, 4) * combinations(48, 0)\n",
    "outcome"
   ]
  },
  {
   "cell_type": "markdown",
   "id": "e87393fd",
   "metadata": {},
   "source": [
    "### Задача 3"
   ]
  },
  {
   "cell_type": "markdown",
   "id": "dd4618a8",
   "metadata": {},
   "source": [
    "Семь человек рассаживаются наудачу на скамейке. Какова вероятность того, что два определённых человека будут сидеть рядом?"
   ]
  },
  {
   "cell_type": "markdown",
   "id": "67425f46",
   "metadata": {},
   "source": [
    "Поскольку, исходя из условия задачи, порядок рассадки людей на скамейке важен, то все равновозможные исходы можно подсчитать, используя престановки.\n",
    "\n",
    "Случаи размещения двух определенных людей на скамейке на соседних местах выражаются перестановками (2!), **И** для каждой такой перестановки других людей можно разместить 5! способами (оставшиеся 5 мест из 7). Таким образом, число благоприятных исходов равно 2! * 5!.\n",
    "\n",
    "Рассуждения выше справедливы для каждой пары соседних мест, которых на 7-ми местной скамейке - 6, таким образом, окончательное количество благоприятствующих исходов: 6 * 2! * 5!.\n",
    "\n",
    "Поскольку все вероятные исходы известны и они равновозможны, вычисляем вероятность по классической формуле:\n",
    "\n",
    "$$P(A) = \\frac{6*2!*5!}{7!}$$"
   ]
  },
  {
   "cell_type": "code",
   "execution_count": 8,
   "id": "ce769d03",
   "metadata": {},
   "outputs": [
    {
     "data": {
      "text/plain": [
       "0.2857142857142857"
      ]
     },
     "execution_count": 8,
     "metadata": {},
     "output_type": "execute_result"
    }
   ],
   "source": [
    "p = (6 * permutations(2) * permutations(5)) / permutations(7)\n",
    "p"
   ]
  },
  {
   "cell_type": "markdown",
   "id": "1525850f",
   "metadata": {},
   "source": [
    "### Задача 4"
   ]
  },
  {
   "cell_type": "markdown",
   "id": "bdf9df8a",
   "metadata": {},
   "source": [
    "Из 60 вопросов, входящих в экзаменационные билеты, студент знает 50. Какова вероятность того, что среди трёх наугад выбранных вопросов студент знает: а) все? б) два?"
   ]
  },
  {
   "cell_type": "markdown",
   "id": "3f656c1d",
   "metadata": {},
   "source": [
    "Исходя из условий задачи, порядок вопросов не важен и можно использовать сочетания для подсчета исходов."
   ]
  },
  {
   "cell_type": "markdown",
   "id": "550c1af7",
   "metadata": {},
   "source": [
    "Общее количество равновозможных исходов:"
   ]
  },
  {
   "cell_type": "code",
   "execution_count": 9,
   "id": "32857fb1",
   "metadata": {},
   "outputs": [
    {
     "data": {
      "text/plain": [
       "34220"
      ]
     },
     "execution_count": 9,
     "metadata": {},
     "output_type": "execute_result"
    }
   ],
   "source": [
    "total_outcome = combinations(60, 3)\n",
    "total_outcome"
   ]
  },
  {
   "cell_type": "markdown",
   "id": "7cc44021",
   "metadata": {},
   "source": [
    "#### Вариант а)"
   ]
  },
  {
   "cell_type": "markdown",
   "id": "45ae32d6",
   "metadata": {},
   "source": [
    "Количество благоприятных исходов - правильных ответов на все 3-и вопроса:"
   ]
  },
  {
   "cell_type": "code",
   "execution_count": 10,
   "id": "475ee3cb",
   "metadata": {},
   "outputs": [
    {
     "data": {
      "text/plain": [
       "19600"
      ]
     },
     "execution_count": 10,
     "metadata": {},
     "output_type": "execute_result"
    }
   ],
   "source": [
    "correct_response = combinations(50, 3)\n",
    "correct_response"
   ]
  },
  {
   "cell_type": "markdown",
   "id": "ca7c6646",
   "metadata": {},
   "source": [
    "Поскольку все вероятные исходы известны и они равновозможны, вычисляем вероятность по классической формуле. Таким образом вероятность того, что среди наугад выбранных трёх вопросов, студент знает три равна: "
   ]
  },
  {
   "cell_type": "code",
   "execution_count": 11,
   "id": "4fba9381",
   "metadata": {},
   "outputs": [
    {
     "data": {
      "text/plain": [
       "0.5727644652250146"
      ]
     },
     "execution_count": 11,
     "metadata": {},
     "output_type": "execute_result"
    }
   ],
   "source": [
    "p_correct_all = correct_response / total_outcome\n",
    "p_correct_all"
   ]
  },
  {
   "cell_type": "markdown",
   "id": "75fd2f3a",
   "metadata": {},
   "source": [
    "#### Вариант б)"
   ]
  },
  {
   "cell_type": "markdown",
   "id": "e7c9d483",
   "metadata": {},
   "source": [
    "Количество благоприятных исходов при 2-х правильных ответах из 3-х вопросов может быть подсчитана путем умножения сочетаний 2-х правильных ответов, исходя из количетва тех, которые он знает $$C_{50}^2$$ и 1-ого неправильного ответа из оставшихся, исходя из остатка вопросов, которые он не знает (60 - 50) $$C_{10}^1$$."
   ]
  },
  {
   "cell_type": "code",
   "execution_count": 12,
   "id": "bf8444e4",
   "metadata": {},
   "outputs": [
    {
     "data": {
      "text/plain": [
       "12250"
      ]
     },
     "execution_count": 12,
     "metadata": {},
     "output_type": "execute_result"
    }
   ],
   "source": [
    "two_correct_response = combinations(50, 2) * combinations(10, 1)\n",
    "two_correct_response"
   ]
  },
  {
   "cell_type": "markdown",
   "id": "e03ec017",
   "metadata": {},
   "source": [
    "Поскольку все вероятные исходы известны и они равновозможны, вычисляем вероятность по классической формуле. Таким образом вероятность того, что среди наугад выбранных трёх вопросов, студент знает два равна:"
   ]
  },
  {
   "cell_type": "code",
   "execution_count": 13,
   "id": "6b9b2698",
   "metadata": {},
   "outputs": [
    {
     "data": {
      "text/plain": [
       "0.35797779076563413"
      ]
     },
     "execution_count": 13,
     "metadata": {},
     "output_type": "execute_result"
    }
   ],
   "source": [
    "p_correct_two = two_correct_response / total_outcome\n",
    "p_correct_two"
   ]
  },
  {
   "cell_type": "markdown",
   "id": "f2fd4d0a",
   "metadata": {},
   "source": [
    "### Задача 5"
   ]
  },
  {
   "cell_type": "markdown",
   "id": "ccc75f17",
   "metadata": {},
   "source": [
    "Бросается игральная кость. Пусть событие A - появление чётного числа, событие B - появление числа больше трёх. Являются ли эти события независимыми?"
   ]
  },
  {
   "cell_type": "markdown",
   "id": "75eff548",
   "metadata": {},
   "source": [
    "**Появление четного числа (событие А)**. Таких случаев может быть три: это события, при которых выпадают числа 2, 4 и 6. Вероятность для каждого из них равна 1/6. Так как эти три события являются несовместными, вероятность их суммы равна сумме их вероятностей:\n",
    "\n",
    "$$P(А) = \\frac{1}{6} + \\frac{1}{6} + \\frac{1}{6} = \\frac{3}{6} = \\frac{1}{2}$$"
   ]
  },
  {
   "cell_type": "markdown",
   "id": "d46bad4e",
   "metadata": {},
   "source": [
    "**Появление числа больше трех (событие В)**. Таких случаев может быть три: это события, при которых выпадают числа 4, 5 и 6. Вероятность для каждого из них равна 1/6. Так как эти три события являются несовместными, вероятность их суммы равна сумме их вероятностей:\n",
    "\n",
    "$$P(В) = \\frac{1}{6} + \\frac{1}{6} + \\frac{1}{6} = \\frac{3}{6} = \\frac{1}{2}$$"
   ]
  },
  {
   "cell_type": "markdown",
   "id": "c35384e1",
   "metadata": {},
   "source": [
    "Делаем предположение, что события независимы и вычисляем условную вероятность, например для события А:\n",
    "\n",
    "$$P(А\\:|\\:В) = \\frac{P(A) \\cdot P(B)}{P(В)} = \\frac{\\frac{1}{2} \\cdot \\frac{1}{2}}{\\frac{1}{2}} = \\frac{1}{2}$$"
   ]
  },
  {
   "cell_type": "markdown",
   "id": "45927251",
   "metadata": {},
   "source": [
    "Сравниваем значение условной вероятности со значением вероятности события А:\n",
    "\n",
    "$$P(А\\:|\\:В) = \\frac{1}{2}$$\n",
    "\n",
    "$$P(А) = \\frac{1}{2}$$\n",
    "\n",
    "$$P(А\\:|\\:В) = P(А)$$"
   ]
  },
  {
   "cell_type": "markdown",
   "id": "de7ba109",
   "metadata": {},
   "source": [
    "Таким образом события А и В являются независимыми."
   ]
  },
  {
   "cell_type": "markdown",
   "id": "7557957b",
   "metadata": {},
   "source": [
    "### Задача 6"
   ]
  },
  {
   "cell_type": "markdown",
   "id": "870e5416",
   "metadata": {},
   "source": [
    "Допустим, имеется некоторая очень редкая болезнь (поражает 0.1 % населения). Вы приходите к врачу, вам делают тест на эту болезнь, и тест оказывается положительным. Врач говорит вам, что этот тест верно выявляет 99 % больных этой болезнью и всего лишь в 1 % случаев даёт ложный положительный ответ.\n",
    "Вопрос: какова вероятность, что вы действительно больны ей?\n",
    "Подсказка: вновь используйте формулу Байеса с раскрытием знаменателя с помощью формулы полной вероятности."
   ]
  },
  {
   "cell_type": "markdown",
   "id": "444c5435",
   "metadata": {},
   "source": [
    "По условию задачи имеем уже произошедшее событие - тест положительный, обозначим его как событие $В$. Событие $В$ может наступить только при двух исходах, пациент либо болен, либо здоров. Обозначим болен - $А_{1}$ здоров - $А_{2}$.\n",
    "\n",
    "Вероятность болезни по условию задачи равна $P(А_{1}) = 0.001$. Соответственно вероятность того, что пациент здоров равна $P(А_{2}) = (1 - 0.001) = 0.999$."
   ]
  },
  {
   "cell_type": "markdown",
   "id": "7ce3efe4",
   "metadata": {},
   "source": [
    "Также, по условию задачи, имеется значение условной вероятности того, что пациент болен при положительном тесте: $P(В\\:|\\:А_{1}) = 0.99$ и, того, что здоров: $P(В\\:|\\:А_{2}) = 0.01$. "
   ]
  },
  {
   "cell_type": "markdown",
   "id": "36ee2ed0",
   "metadata": {},
   "source": [
    "Таким образом необходимо найти условную вероятность того, что пациент болен при положительном тесте: \n",
    "\n",
    "$$P(А_{1}\\:|\\:В) = ?$$"
   ]
  },
  {
   "cell_type": "markdown",
   "id": "d7acaab3",
   "metadata": {},
   "source": [
    "Для этого используем формулу Байеса:\n",
    "\n",
    "$$P(А_{1}\\:|\\:В) = \\frac{P(А_{1}) \\cdot P(В\\:|\\:А_{1})}{P(В)}$$\n",
    "\n",
    "где $P(В)$ должна быть расчитана с учетом появления событий $A_1$ и $A_2$, то есть, по формуле полной вероятности:\n",
    "\n",
    "\n",
    "$$P(В)_{полн.} = P(А_{1}) \\cdot P(В\\:|\\:А_{1}) + P(А_{2}) \\cdot P(В\\:|\\:А_{2})$$"
   ]
  },
  {
   "cell_type": "markdown",
   "id": "58463888",
   "metadata": {},
   "source": [
    "Таким образом, вероятность того, что пациент болен при положительном тесте составляет:\n",
    "\n",
    "$$P(А_{1}\\:|\\:В) = \\frac{0.001 \\cdot 0.99}{0.001 \\cdot 0.99 + 0.999 \\cdot 0.01} = 0.090 = 9\\%$$"
   ]
  },
  {
   "cell_type": "code",
   "execution_count": null,
   "id": "8fd4249f",
   "metadata": {},
   "outputs": [],
   "source": []
  }
 ],
 "metadata": {
  "kernelspec": {
   "display_name": "Python 3 (ipykernel)",
   "language": "python",
   "name": "python3"
  },
  "language_info": {
   "codemirror_mode": {
    "name": "ipython",
    "version": 3
   },
   "file_extension": ".py",
   "mimetype": "text/x-python",
   "name": "python",
   "nbconvert_exporter": "python",
   "pygments_lexer": "ipython3",
   "version": "3.9.12"
  }
 },
 "nbformat": 4,
 "nbformat_minor": 5
}

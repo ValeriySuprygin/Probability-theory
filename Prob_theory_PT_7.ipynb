{
 "cells": [
  {
   "cell_type": "markdown",
   "id": "610e8f66",
   "metadata": {},
   "source": [
    "### Задание 1"
   ]
  },
  {
   "cell_type": "markdown",
   "id": "d35d462e",
   "metadata": {},
   "source": [
    "Дана матрица объект-признак\n",
    "\n",
    "X = [[ 1.22401313, 2.30868478, 3.03636353, 2.69287214],\n",
    "[-0.18757272, 1.30337355, 5.12093014, 3.46363202],\n",
    "[-0.81094525, 1.82463398, 5.79686488, 1.86159445],\n",
    "[ 0.75129018, 2.67392052, 3.65529809, 1.66746094],\n",
    "[ 0.00972362, 1.97367255, 2.50594319, 1.69755173],\n",
    "[-0.62972637, 0.77750764, 2.84124027, 4.54410559],\n",
    "[ 2.29536229, 1.81206697, 1.95026215, 1.51874636],\n",
    "[ 0.0920418 , 2.26971361, 7.47708735, 2.61081203],\n",
    "[ 2.39252799, 3.17563985, 3.61420599, 5.10773362],\n",
    "[ 0.54983815, 2.87988651, 1.65752765, 1.59635987]]\n",
    "\n",
    "и значения целевой переменной\n",
    "\n",
    "y = [ 9.26193358, 9.700363 , 8.67214805, 8.74796974, 6.18689108,\n",
    "7.53312713, 7.57643777, 12.44965478, 14.29010746, 6.68361218]\n",
    "1.\tПодберите два признака (из четырёх) так, чтобы уровень линейной зависимости целевой переменной от значений этих признаков был максимальным. Другими словами, модель линейной регрессии на этих признаках должна давать наилучший результат.\n",
    "2.\tЯвляется ли значимым получившееся уравнение регрессии?"
   ]
  },
  {
   "cell_type": "code",
   "execution_count": 1,
   "id": "b82b196f",
   "metadata": {},
   "outputs": [],
   "source": [
    "import pandas as pd\n",
    "import numpy as np"
   ]
  },
  {
   "cell_type": "code",
   "execution_count": 2,
   "id": "d809c030",
   "metadata": {},
   "outputs": [
    {
     "data": {
      "text/html": [
       "<div>\n",
       "<style scoped>\n",
       "    .dataframe tbody tr th:only-of-type {\n",
       "        vertical-align: middle;\n",
       "    }\n",
       "\n",
       "    .dataframe tbody tr th {\n",
       "        vertical-align: top;\n",
       "    }\n",
       "\n",
       "    .dataframe thead th {\n",
       "        text-align: right;\n",
       "    }\n",
       "</style>\n",
       "<table border=\"1\" class=\"dataframe\">\n",
       "  <thead>\n",
       "    <tr style=\"text-align: right;\">\n",
       "      <th></th>\n",
       "      <th>0</th>\n",
       "      <th>1</th>\n",
       "      <th>2</th>\n",
       "      <th>3</th>\n",
       "    </tr>\n",
       "  </thead>\n",
       "  <tbody>\n",
       "    <tr>\n",
       "      <th>0</th>\n",
       "      <td>1.224013</td>\n",
       "      <td>2.308685</td>\n",
       "      <td>3.036364</td>\n",
       "      <td>2.692872</td>\n",
       "    </tr>\n",
       "    <tr>\n",
       "      <th>1</th>\n",
       "      <td>-0.187573</td>\n",
       "      <td>1.303374</td>\n",
       "      <td>5.120930</td>\n",
       "      <td>3.463632</td>\n",
       "    </tr>\n",
       "    <tr>\n",
       "      <th>2</th>\n",
       "      <td>-0.810945</td>\n",
       "      <td>1.824634</td>\n",
       "      <td>5.796865</td>\n",
       "      <td>1.861594</td>\n",
       "    </tr>\n",
       "    <tr>\n",
       "      <th>3</th>\n",
       "      <td>0.751290</td>\n",
       "      <td>2.673921</td>\n",
       "      <td>3.655298</td>\n",
       "      <td>1.667461</td>\n",
       "    </tr>\n",
       "    <tr>\n",
       "      <th>4</th>\n",
       "      <td>0.009724</td>\n",
       "      <td>1.973673</td>\n",
       "      <td>2.505943</td>\n",
       "      <td>1.697552</td>\n",
       "    </tr>\n",
       "    <tr>\n",
       "      <th>5</th>\n",
       "      <td>-0.629726</td>\n",
       "      <td>0.777508</td>\n",
       "      <td>2.841240</td>\n",
       "      <td>4.544106</td>\n",
       "    </tr>\n",
       "    <tr>\n",
       "      <th>6</th>\n",
       "      <td>2.295362</td>\n",
       "      <td>1.812067</td>\n",
       "      <td>1.950262</td>\n",
       "      <td>1.518746</td>\n",
       "    </tr>\n",
       "    <tr>\n",
       "      <th>7</th>\n",
       "      <td>0.092042</td>\n",
       "      <td>2.269714</td>\n",
       "      <td>7.477087</td>\n",
       "      <td>2.610812</td>\n",
       "    </tr>\n",
       "    <tr>\n",
       "      <th>8</th>\n",
       "      <td>2.392528</td>\n",
       "      <td>3.175640</td>\n",
       "      <td>3.614206</td>\n",
       "      <td>5.107734</td>\n",
       "    </tr>\n",
       "    <tr>\n",
       "      <th>9</th>\n",
       "      <td>0.549838</td>\n",
       "      <td>2.879887</td>\n",
       "      <td>1.657528</td>\n",
       "      <td>1.596360</td>\n",
       "    </tr>\n",
       "  </tbody>\n",
       "</table>\n",
       "</div>"
      ],
      "text/plain": [
       "          0         1         2         3\n",
       "0  1.224013  2.308685  3.036364  2.692872\n",
       "1 -0.187573  1.303374  5.120930  3.463632\n",
       "2 -0.810945  1.824634  5.796865  1.861594\n",
       "3  0.751290  2.673921  3.655298  1.667461\n",
       "4  0.009724  1.973673  2.505943  1.697552\n",
       "5 -0.629726  0.777508  2.841240  4.544106\n",
       "6  2.295362  1.812067  1.950262  1.518746\n",
       "7  0.092042  2.269714  7.477087  2.610812\n",
       "8  2.392528  3.175640  3.614206  5.107734\n",
       "9  0.549838  2.879887  1.657528  1.596360"
      ]
     },
     "execution_count": 2,
     "metadata": {},
     "output_type": "execute_result"
    }
   ],
   "source": [
    "X = pd.DataFrame([[ 1.22401313, 2.30868478, 3.03636353, 2.69287214], [-0.18757272, 1.30337355, 5.12093014, 3.46363202], [-0.81094525, 1.82463398, 5.79686488, 1.86159445], [ 0.75129018, 2.67392052, 3.65529809, 1.66746094], [ 0.00972362, 1.97367255, 2.50594319, 1.69755173], [-0.62972637, 0.77750764, 2.84124027, 4.54410559], [ 2.29536229, 1.81206697, 1.95026215, 1.51874636], [ 0.0920418 , 2.26971361, 7.47708735, 2.61081203], [ 2.39252799, 3.17563985, 3.61420599, 5.10773362], [ 0.54983815, 2.87988651, 1.65752765, 1.59635987]])\n",
    "X"
   ]
  },
  {
   "cell_type": "code",
   "execution_count": 3,
   "id": "a07ad364",
   "metadata": {},
   "outputs": [
    {
     "data": {
      "text/html": [
       "<div>\n",
       "<style scoped>\n",
       "    .dataframe tbody tr th:only-of-type {\n",
       "        vertical-align: middle;\n",
       "    }\n",
       "\n",
       "    .dataframe tbody tr th {\n",
       "        vertical-align: top;\n",
       "    }\n",
       "\n",
       "    .dataframe thead th {\n",
       "        text-align: right;\n",
       "    }\n",
       "</style>\n",
       "<table border=\"1\" class=\"dataframe\">\n",
       "  <thead>\n",
       "    <tr style=\"text-align: right;\">\n",
       "      <th></th>\n",
       "      <th>0</th>\n",
       "    </tr>\n",
       "  </thead>\n",
       "  <tbody>\n",
       "    <tr>\n",
       "      <th>0</th>\n",
       "      <td>9.261934</td>\n",
       "    </tr>\n",
       "    <tr>\n",
       "      <th>1</th>\n",
       "      <td>9.700363</td>\n",
       "    </tr>\n",
       "    <tr>\n",
       "      <th>2</th>\n",
       "      <td>8.672148</td>\n",
       "    </tr>\n",
       "    <tr>\n",
       "      <th>3</th>\n",
       "      <td>8.747970</td>\n",
       "    </tr>\n",
       "    <tr>\n",
       "      <th>4</th>\n",
       "      <td>6.186891</td>\n",
       "    </tr>\n",
       "    <tr>\n",
       "      <th>5</th>\n",
       "      <td>7.533127</td>\n",
       "    </tr>\n",
       "    <tr>\n",
       "      <th>6</th>\n",
       "      <td>7.576438</td>\n",
       "    </tr>\n",
       "    <tr>\n",
       "      <th>7</th>\n",
       "      <td>12.449655</td>\n",
       "    </tr>\n",
       "    <tr>\n",
       "      <th>8</th>\n",
       "      <td>14.290107</td>\n",
       "    </tr>\n",
       "    <tr>\n",
       "      <th>9</th>\n",
       "      <td>6.683612</td>\n",
       "    </tr>\n",
       "  </tbody>\n",
       "</table>\n",
       "</div>"
      ],
      "text/plain": [
       "           0\n",
       "0   9.261934\n",
       "1   9.700363\n",
       "2   8.672148\n",
       "3   8.747970\n",
       "4   6.186891\n",
       "5   7.533127\n",
       "6   7.576438\n",
       "7  12.449655\n",
       "8  14.290107\n",
       "9   6.683612"
      ]
     },
     "execution_count": 3,
     "metadata": {},
     "output_type": "execute_result"
    }
   ],
   "source": [
    "y = pd.DataFrame([ 9.26193358, 9.700363 , 8.67214805, 8.74796974, 6.18689108, 7.53312713, 7.57643777, 12.44965478, 14.29010746, 6.68361218])\n",
    "y"
   ]
  },
  {
   "cell_type": "markdown",
   "id": "fca01ee5",
   "metadata": {},
   "source": [
    "#### 1."
   ]
  },
  {
   "cell_type": "markdown",
   "id": "8169b0cf",
   "metadata": {},
   "source": [
    "Из 4-х имеющихся признаков, можно получить следующие сочетания по 2-а признака:\n",
    "\n",
    "- x0_1\n",
    "- x0_2\n",
    "- x0_3\n",
    "- x1_2\n",
    "- x1_3\n",
    "- x2_3"
   ]
  },
  {
   "cell_type": "code",
   "execution_count": 4,
   "id": "47bdefa1",
   "metadata": {},
   "outputs": [
    {
     "data": {
      "text/plain": [
       "(          0         1\n",
       " 0  1.224013  2.308685\n",
       " 1 -0.187573  1.303374\n",
       " 2 -0.810945  1.824634\n",
       " 3  0.751290  2.673921\n",
       " 4  0.009724  1.973673\n",
       " 5 -0.629726  0.777508\n",
       " 6  2.295362  1.812067\n",
       " 7  0.092042  2.269714\n",
       " 8  2.392528  3.175640\n",
       " 9  0.549838  2.879887,\n",
       "           0         2\n",
       " 0  1.224013  3.036364\n",
       " 1 -0.187573  5.120930\n",
       " 2 -0.810945  5.796865\n",
       " 3  0.751290  3.655298\n",
       " 4  0.009724  2.505943\n",
       " 5 -0.629726  2.841240\n",
       " 6  2.295362  1.950262\n",
       " 7  0.092042  7.477087\n",
       " 8  2.392528  3.614206\n",
       " 9  0.549838  1.657528,\n",
       "           0         3\n",
       " 0  1.224013  2.692872\n",
       " 1 -0.187573  3.463632\n",
       " 2 -0.810945  1.861594\n",
       " 3  0.751290  1.667461\n",
       " 4  0.009724  1.697552\n",
       " 5 -0.629726  4.544106\n",
       " 6  2.295362  1.518746\n",
       " 7  0.092042  2.610812\n",
       " 8  2.392528  5.107734\n",
       " 9  0.549838  1.596360,\n",
       "           1         2\n",
       " 0  2.308685  3.036364\n",
       " 1  1.303374  5.120930\n",
       " 2  1.824634  5.796865\n",
       " 3  2.673921  3.655298\n",
       " 4  1.973673  2.505943\n",
       " 5  0.777508  2.841240\n",
       " 6  1.812067  1.950262\n",
       " 7  2.269714  7.477087\n",
       " 8  3.175640  3.614206\n",
       " 9  2.879887  1.657528,\n",
       "           1         3\n",
       " 0  2.308685  2.692872\n",
       " 1  1.303374  3.463632\n",
       " 2  1.824634  1.861594\n",
       " 3  2.673921  1.667461\n",
       " 4  1.973673  1.697552\n",
       " 5  0.777508  4.544106\n",
       " 6  1.812067  1.518746\n",
       " 7  2.269714  2.610812\n",
       " 8  3.175640  5.107734\n",
       " 9  2.879887  1.596360,\n",
       "           2         3\n",
       " 0  3.036364  2.692872\n",
       " 1  5.120930  3.463632\n",
       " 2  5.796865  1.861594\n",
       " 3  3.655298  1.667461\n",
       " 4  2.505943  1.697552\n",
       " 5  2.841240  4.544106\n",
       " 6  1.950262  1.518746\n",
       " 7  7.477087  2.610812\n",
       " 8  3.614206  5.107734\n",
       " 9  1.657528  1.596360)"
      ]
     },
     "execution_count": 4,
     "metadata": {},
     "output_type": "execute_result"
    }
   ],
   "source": [
    "x0_1, x0_2, x0_3, x1_2, x1_3, x2_3 = X[[0, 1]], X[[0, 2]], X[[0, 3]], X[[1, 2]], X[[1, 3]], X[[2, 3]]\n",
    "\n",
    "x0_1, x0_2, x0_3, x1_2, x1_3, x2_3"
   ]
  },
  {
   "cell_type": "code",
   "execution_count": 5,
   "id": "f7d64f87",
   "metadata": {},
   "outputs": [
    {
     "data": {
      "text/plain": [
       "0     9.261934\n",
       "1     9.700363\n",
       "2     8.672148\n",
       "3     8.747970\n",
       "4     6.186891\n",
       "5     7.533127\n",
       "6     7.576438\n",
       "7    12.449655\n",
       "8    14.290107\n",
       "9     6.683612\n",
       "Name: 0, dtype: float64"
      ]
     },
     "execution_count": 5,
     "metadata": {},
     "output_type": "execute_result"
    }
   ],
   "source": [
    "y_check = y[0]\n",
    "y_check"
   ]
  },
  {
   "cell_type": "code",
   "execution_count": 6,
   "id": "e744d3ee",
   "metadata": {},
   "outputs": [
    {
     "data": {
      "text/plain": [
       "(array([[ 1.        ,  1.22401313,  2.30868478],\n",
       "        [ 1.        , -0.18757272,  1.30337355],\n",
       "        [ 1.        , -0.81094525,  1.82463398],\n",
       "        [ 1.        ,  0.75129018,  2.67392052],\n",
       "        [ 1.        ,  0.00972362,  1.97367255],\n",
       "        [ 1.        , -0.62972637,  0.77750764],\n",
       "        [ 1.        ,  2.29536229,  1.81206697],\n",
       "        [ 1.        ,  0.0920418 ,  2.26971361],\n",
       "        [ 1.        ,  2.39252799,  3.17563985],\n",
       "        [ 1.        ,  0.54983815,  2.87988651]]),\n",
       " array([[ 1.        ,  1.22401313,  3.03636353],\n",
       "        [ 1.        , -0.18757272,  5.12093014],\n",
       "        [ 1.        , -0.81094525,  5.79686488],\n",
       "        [ 1.        ,  0.75129018,  3.65529809],\n",
       "        [ 1.        ,  0.00972362,  2.50594319],\n",
       "        [ 1.        , -0.62972637,  2.84124027],\n",
       "        [ 1.        ,  2.29536229,  1.95026215],\n",
       "        [ 1.        ,  0.0920418 ,  7.47708735],\n",
       "        [ 1.        ,  2.39252799,  3.61420599],\n",
       "        [ 1.        ,  0.54983815,  1.65752765]]),\n",
       " array([[ 1.        ,  1.22401313,  2.69287214],\n",
       "        [ 1.        , -0.18757272,  3.46363202],\n",
       "        [ 1.        , -0.81094525,  1.86159445],\n",
       "        [ 1.        ,  0.75129018,  1.66746094],\n",
       "        [ 1.        ,  0.00972362,  1.69755173],\n",
       "        [ 1.        , -0.62972637,  4.54410559],\n",
       "        [ 1.        ,  2.29536229,  1.51874636],\n",
       "        [ 1.        ,  0.0920418 ,  2.61081203],\n",
       "        [ 1.        ,  2.39252799,  5.10773362],\n",
       "        [ 1.        ,  0.54983815,  1.59635987]]),\n",
       " array([[1.        , 2.30868478, 3.03636353],\n",
       "        [1.        , 1.30337355, 5.12093014],\n",
       "        [1.        , 1.82463398, 5.79686488],\n",
       "        [1.        , 2.67392052, 3.65529809],\n",
       "        [1.        , 1.97367255, 2.50594319],\n",
       "        [1.        , 0.77750764, 2.84124027],\n",
       "        [1.        , 1.81206697, 1.95026215],\n",
       "        [1.        , 2.26971361, 7.47708735],\n",
       "        [1.        , 3.17563985, 3.61420599],\n",
       "        [1.        , 2.87988651, 1.65752765]]),\n",
       " array([[1.        , 2.30868478, 2.69287214],\n",
       "        [1.        , 1.30337355, 3.46363202],\n",
       "        [1.        , 1.82463398, 1.86159445],\n",
       "        [1.        , 2.67392052, 1.66746094],\n",
       "        [1.        , 1.97367255, 1.69755173],\n",
       "        [1.        , 0.77750764, 4.54410559],\n",
       "        [1.        , 1.81206697, 1.51874636],\n",
       "        [1.        , 2.26971361, 2.61081203],\n",
       "        [1.        , 3.17563985, 5.10773362],\n",
       "        [1.        , 2.87988651, 1.59635987]]),\n",
       " array([[1.        , 3.03636353, 2.69287214],\n",
       "        [1.        , 5.12093014, 3.46363202],\n",
       "        [1.        , 5.79686488, 1.86159445],\n",
       "        [1.        , 3.65529809, 1.66746094],\n",
       "        [1.        , 2.50594319, 1.69755173],\n",
       "        [1.        , 2.84124027, 4.54410559],\n",
       "        [1.        , 1.95026215, 1.51874636],\n",
       "        [1.        , 7.47708735, 2.61081203],\n",
       "        [1.        , 3.61420599, 5.10773362],\n",
       "        [1.        , 1.65752765, 1.59635987]]))"
      ]
     },
     "execution_count": 6,
     "metadata": {},
     "output_type": "execute_result"
    }
   ],
   "source": [
    "ones0_1 = np.ones((x0_1.shape[0], 1))\n",
    "x0_1 = np.hstack((ones0_1, x0_1))\n",
    "\n",
    "ones0_2 = np.ones((x0_2.shape[0], 1))\n",
    "x0_2 = np.hstack((ones0_2, x0_2))\n",
    "\n",
    "ones0_3 = np.ones((x0_3.shape[0], 1))\n",
    "x0_3 = np.hstack((ones0_3, x0_3))\n",
    "\n",
    "ones1_2 = np.ones((x1_2.shape[0], 1))\n",
    "x1_2 = np.hstack((ones1_2, x1_2))\n",
    "\n",
    "ones1_3 = np.ones((x1_3.shape[0], 1))\n",
    "x1_3 = np.hstack((ones1_3, x1_3))\n",
    "\n",
    "ones2_3 = np.ones((x2_3.shape[0], 1))\n",
    "x2_3 = np.hstack((ones2_3, x2_3))\n",
    "\n",
    "x0_1, x0_2, x0_3, x1_2, x1_3, x2_3"
   ]
  },
  {
   "cell_type": "code",
   "execution_count": 7,
   "id": "4e7bf641",
   "metadata": {},
   "outputs": [
    {
     "data": {
      "text/plain": [
       "(349.7782033818856,\n",
       " 2835.3600226240915,\n",
       " 1689.2124743606066,\n",
       " 1427.812577608152,\n",
       " 701.7327364453164,\n",
       " 4547.328074863321)"
      ]
     },
     "execution_count": 7,
     "metadata": {},
     "output_type": "execute_result"
    }
   ],
   "source": [
    "XTX0_1 = x0_1.T.dot(x0_1)\n",
    "XTX0_2 = x0_2.T.dot(x0_2)\n",
    "XTX0_3 = x0_3.T.dot(x0_3)\n",
    "XTX1_2 = x1_2.T.dot(x1_2)\n",
    "XTX1_3 = x1_3.T.dot(x1_3)\n",
    "XTX2_3 = x2_3.T.dot(x2_3)\n",
    "\n",
    "np.linalg.det(XTX0_1), np.linalg.det(XTX0_2), np.linalg.det(XTX0_3), np.linalg.det(XTX1_2), np.linalg.det(XTX1_3), np.linalg.det(XTX2_3)"
   ]
  },
  {
   "cell_type": "markdown",
   "id": "72f2e394",
   "metadata": {},
   "source": [
    "Определители матриц не близки к нулю, поэтому проблем с методом нет."
   ]
  },
  {
   "cell_type": "code",
   "execution_count": 8,
   "id": "6fdbff37",
   "metadata": {},
   "outputs": [
    {
     "name": "stdout",
     "output_type": "stream",
     "text": [
      "[6.70781579 0.40786841 1.03360247]\n",
      "[3.62455695 1.62531203 1.21134979]\n",
      "[5.70686123 0.68359949 1.12650707]\n",
      "[2.48896193 1.60611956 0.86269915]\n",
      "[1.91685221 1.74373667 1.31971882]\n",
      "[3.64001086 0.70753914 1.04851745]\n"
     ]
    }
   ],
   "source": [
    "XTX0_1_inv = np.linalg.inv(XTX0_1)\n",
    "XTX0_2_inv = np.linalg.inv(XTX0_2)\n",
    "XTX0_3_inv = np.linalg.inv(XTX0_3)\n",
    "XTX1_2_inv = np.linalg.inv(XTX1_2)\n",
    "XTX1_3_inv = np.linalg.inv(XTX1_3)\n",
    "XTX2_3_inv = np.linalg.inv(XTX2_3)\n",
    "\n",
    "b0_1 = XTX0_1_inv.dot(x0_1.T).dot(y_check)\n",
    "b0_2 = XTX0_2_inv.dot(x0_2.T).dot(y_check)\n",
    "b0_3 = XTX0_3_inv.dot(x0_3.T).dot(y_check)\n",
    "b1_2 = XTX1_2_inv.dot(x1_2.T).dot(y_check)\n",
    "b1_3 = XTX1_3_inv.dot(x1_3.T).dot(y_check)\n",
    "b2_3 = XTX2_3_inv.dot(x2_3.T).dot(y_check)\n",
    "\n",
    "print(f\"{b0_1}\\n{b0_2}\\n{b0_3}\\n{b1_2}\\n{b1_3}\\n{b2_3}\")"
   ]
  },
  {
   "cell_type": "markdown",
   "id": "eb079324",
   "metadata": {},
   "source": [
    "Проверяем с помощью встроенных методов:"
   ]
  },
  {
   "cell_type": "code",
   "execution_count": 9,
   "id": "1d588e14",
   "metadata": {},
   "outputs": [],
   "source": [
    "from sklearn.linear_model import LinearRegression"
   ]
  },
  {
   "cell_type": "code",
   "execution_count": 10,
   "id": "6d28f28a",
   "metadata": {},
   "outputs": [
    {
     "data": {
      "text/plain": [
       "(6.7078157904977385,\n",
       " array([0.        , 0.40786841, 1.03360247]),\n",
       " 3.6245569493851146,\n",
       " array([0.        , 1.62531203, 1.21134979]),\n",
       " 5.7068612323509935,\n",
       " array([0.        , 0.68359949, 1.12650707]),\n",
       " 2.488961928568429,\n",
       " array([0.        , 1.60611956, 0.86269915]),\n",
       " 1.916852207680499,\n",
       " array([0.        , 1.74373667, 1.31971882]),\n",
       " 3.6400108599141863,\n",
       " array([0.        , 0.70753914, 1.04851745]))"
      ]
     },
     "execution_count": 10,
     "metadata": {},
     "output_type": "execute_result"
    }
   ],
   "source": [
    "model0_1 = LinearRegression().fit(x0_1, y_check)\n",
    "model0_2 = LinearRegression().fit(x0_2, y_check)\n",
    "model0_3 = LinearRegression().fit(x0_3, y_check)\n",
    "model1_2 = LinearRegression().fit(x1_2, y_check)\n",
    "model1_3 = LinearRegression().fit(x1_3, y_check)\n",
    "model2_3 = LinearRegression().fit(x2_3, y_check)\n",
    "\n",
    "model0_1.intercept_, model0_1.coef_, model0_2.intercept_, model0_2.coef_, model0_3.intercept_, model0_3.coef_, model1_2.intercept_, model1_2.coef_, model1_3.intercept_, model1_3.coef_, model2_3.intercept_, model2_3.coef_"
   ]
  },
  {
   "cell_type": "markdown",
   "id": "1ad65089",
   "metadata": {},
   "source": [
    "Расчитываем коэффициент детерминации для каждого варианта:"
   ]
  },
  {
   "cell_type": "code",
   "execution_count": 11,
   "id": "f998a19f",
   "metadata": {},
   "outputs": [],
   "source": [
    "z0_1 = x0_1.dot(b0_1)\n",
    "z0_2 = x0_2.dot(b0_2)\n",
    "z0_3 = x0_3.dot(b0_3)\n",
    "z1_2 = x1_2.dot(b1_2)\n",
    "z1_3 = x1_3.dot(b1_3)\n",
    "z2_3 = x2_3.dot(b2_3)"
   ]
  },
  {
   "cell_type": "code",
   "execution_count": 12,
   "id": "16ee2be0",
   "metadata": {},
   "outputs": [],
   "source": [
    "sum_of_squares = ((y_check - y_check.mean()) ** 2).sum()"
   ]
  },
  {
   "cell_type": "code",
   "execution_count": 13,
   "id": "a6f29482",
   "metadata": {},
   "outputs": [
    {
     "data": {
      "text/plain": [
       "(0.18113594742585215,\n",
       " 0.7634246238793152,\n",
       " 0.45329667831440756,\n",
       " 0.5479482734039012,\n",
       " 0.6062055761129932,\n",
       " 0.6224419876505322)"
      ]
     },
     "execution_count": 13,
     "metadata": {},
     "output_type": "execute_result"
    }
   ],
   "source": [
    "R2_0_1 = 1 - ((y_check - z0_1)**2).sum() / sum_of_squares\n",
    "R2_0_2 = 1 - ((y_check - z0_2)**2).sum() / sum_of_squares\n",
    "R2_0_3 = 1 - ((y_check - z0_3)**2).sum() / sum_of_squares\n",
    "R2_1_2 = 1 - ((y_check - z1_2)**2).sum() / sum_of_squares\n",
    "R2_1_3 = 1 - ((y_check - z1_3)**2).sum() / sum_of_squares\n",
    "R2_2_3 = 1 - ((y_check - z2_3)**2).sum() / sum_of_squares\n",
    "\n",
    "R2_0_1, R2_0_2, R2_0_3, R2_1_2, R2_1_3, R2_2_3"
   ]
  },
  {
   "cell_type": "markdown",
   "id": "41c73975",
   "metadata": {},
   "source": [
    "Таким образом максимальный уровень линейной зависимости целевой переменной $y$ получается от значений 2-х признаков (x0_2) -  $X[0]$ и $X[2]$."
   ]
  },
  {
   "cell_type": "markdown",
   "id": "b7abd034",
   "metadata": {},
   "source": [
    "#### 2."
   ]
  },
  {
   "cell_type": "code",
   "execution_count": 14,
   "id": "d86cad21",
   "metadata": {},
   "outputs": [
    {
     "data": {
      "text/plain": [
       "(2, 5)"
      ]
     },
     "execution_count": 14,
     "metadata": {},
     "output_type": "execute_result"
    }
   ],
   "source": [
    "k1_0_2 = x0_2.shape[1] - 1\n",
    "k2_0_2 = x0_2.shape[0] - x0_2.shape[1] - 2\n",
    "\n",
    "k1_0_2, k2_0_2"
   ]
  },
  {
   "cell_type": "markdown",
   "id": "a42da1b1",
   "metadata": {},
   "source": [
    "Возьмём уровень значимости $\\alpha = 0.05$. Квантиль считаем с помощью функции `scipy.stats.f.ppf`:"
   ]
  },
  {
   "cell_type": "code",
   "execution_count": 15,
   "id": "e3204daf",
   "metadata": {},
   "outputs": [],
   "source": [
    "from scipy import stats"
   ]
  },
  {
   "cell_type": "code",
   "execution_count": 16,
   "id": "a72baccd",
   "metadata": {},
   "outputs": [
    {
     "data": {
      "text/plain": [
       "5.786135043349964"
      ]
     },
     "execution_count": 16,
     "metadata": {},
     "output_type": "execute_result"
    }
   ],
   "source": [
    "alpha = 0.05\n",
    "\n",
    "t0_2 = stats.f.ppf(1 - alpha, k1_0_2, k2_0_2)\n",
    "t0_2"
   ]
  },
  {
   "cell_type": "markdown",
   "id": "a9d2fd1c",
   "metadata": {},
   "source": [
    "Критическая область: $\\Omega_\\alpha = \\left( 5.786135043349964, \\infty \\right)$"
   ]
  },
  {
   "cell_type": "code",
   "execution_count": 17,
   "id": "7ef48b6d",
   "metadata": {},
   "outputs": [
    {
     "data": {
      "text/plain": [
       "8.067456516373321"
      ]
     },
     "execution_count": 17,
     "metadata": {},
     "output_type": "execute_result"
    }
   ],
   "source": [
    "F_0_2 = (R2_0_2 / k1_0_2) / ((1 - R2_0_2) / k2_0_2)\n",
    "F_0_2"
   ]
  },
  {
   "cell_type": "markdown",
   "id": "bc0a0355",
   "metadata": {},
   "source": [
    "Статистика попала в критическую область, поэтому уравнение регрессии признаётся значимым."
   ]
  },
  {
   "cell_type": "code",
   "execution_count": 18,
   "id": "efc03f6e",
   "metadata": {},
   "outputs": [
    {
     "name": "stdout",
     "output_type": "stream",
     "text": [
      "                            OLS Regression Results                            \n",
      "==============================================================================\n",
      "Dep. Variable:                      y   R-squared:                       0.763\n",
      "Model:                            OLS   Adj. R-squared:                  0.696\n",
      "Method:                 Least Squares   F-statistic:                     11.29\n",
      "Date:                Mon, 18 Jul 2022   Prob (F-statistic):            0.00644\n",
      "Time:                        15:41:09   Log-Likelihood:                -15.767\n",
      "No. Observations:                  10   AIC:                             37.53\n",
      "Df Residuals:                       7   BIC:                             38.44\n",
      "Df Model:                           2                                         \n",
      "Covariance Type:            nonrobust                                         \n",
      "==============================================================================\n",
      "                 coef    std err          t      P>|t|      [0.025      0.975]\n",
      "------------------------------------------------------------------------------\n",
      "const          3.6246      1.261      2.875      0.024       0.643       6.606\n",
      "x1             1.6253      0.459      3.542      0.009       0.540       2.710\n",
      "x2             1.2113      0.278      4.351      0.003       0.553       1.870\n",
      "==============================================================================\n",
      "Omnibus:                        1.625   Durbin-Watson:                   2.459\n",
      "Prob(Omnibus):                  0.444   Jarque-Bera (JB):                0.302\n",
      "Skew:                           0.418   Prob(JB):                        0.860\n",
      "Kurtosis:                       3.161   Cond. No.                         12.7\n",
      "==============================================================================\n",
      "\n",
      "Notes:\n",
      "[1] Standard Errors assume that the covariance matrix of the errors is correctly specified.\n"
     ]
    },
    {
     "name": "stderr",
     "output_type": "stream",
     "text": [
      "C:\\ProgramData\\Anaconda3\\lib\\site-packages\\scipy\\stats\\stats.py:1541: UserWarning: kurtosistest only valid for n>=20 ... continuing anyway, n=10\n",
      "  warnings.warn(\"kurtosistest only valid for n>=20 ... continuing \"\n"
     ]
    }
   ],
   "source": [
    "import statsmodels.api as sm\n",
    "model = sm.OLS(y_check, x0_2)\n",
    "results = model.fit()\n",
    "print(results.summary())"
   ]
  },
  {
   "cell_type": "markdown",
   "id": "4e5bb09a",
   "metadata": {},
   "source": [
    "### Задание 2"
   ]
  },
  {
   "cell_type": "markdown",
   "id": "ebc984fb",
   "metadata": {},
   "source": [
    "Даны значения величины заработной платы заемщиков банка (`salary`) и значения их поведенческого кредитного скоринга (`scoring`):\n",
    "```\n",
    "salary = [35, 45, 190, 200, 40, 70, 54, 150, 120, 110]\n",
    "scoring = [401, 574, 874, 919, 459, 739, 653, 902, 746, 832]\n",
    "```\n",
    "Возьмём в качестве признака значение `salary`, а в качестве целевой переменной - `scoring`.\n",
    "\n",
    "1. Найдите коэффициенты линейной регрессии с помощью формул для парной регрессии, а затем с помощью метода наименьших квадратов.\n",
    "2. Постройте `scatter plot` по данным и отметьте на нём прямую линейной регрессии, полученную в п. 1.\n",
    "3. Посчитайте коэффициент детерминации.\n",
    "4. Оцените построенное уравнение регрессии с помощью F-критерия Фишера.\n",
    "5. (доп) Посчитать среднюю ошибку аппроксимации"
   ]
  },
  {
   "cell_type": "code",
   "execution_count": 19,
   "id": "2b542723",
   "metadata": {},
   "outputs": [],
   "source": [
    "salary = np.array([35, 45, 190, 200, 40, 70, 54, 150, 120, 110])\n",
    "scoring = np.array([401, 574, 874, 919, 459, 739, 653, 902, 746, 832])"
   ]
  },
  {
   "cell_type": "markdown",
   "id": "a242995b",
   "metadata": {},
   "source": [
    "#### 1."
   ]
  },
  {
   "cell_type": "markdown",
   "id": "1a6fa711",
   "metadata": {},
   "source": [
    "Коэффициенты линейной регрессии по формулам для парной регрессии:"
   ]
  },
  {
   "cell_type": "code",
   "execution_count": 20,
   "id": "285f3cf5",
   "metadata": {},
   "outputs": [
    {
     "data": {
      "text/plain": [
       "(444.1773573243596, 2.620538882402765)"
      ]
     },
     "execution_count": 20,
     "metadata": {},
     "output_type": "execute_result"
    }
   ],
   "source": [
    "b1 = (np.mean(salary * scoring) - np.mean(salary) * np.mean(scoring)) / (np.mean(salary ** 2) - np.mean(salary) ** 2)\n",
    "b0 = np.mean(scoring) - b1 * np.mean(salary)\n",
    "\n",
    "b0, b1"
   ]
  },
  {
   "cell_type": "markdown",
   "id": "594e9503",
   "metadata": {},
   "source": [
    "Коэффициенты линейной регрессии с помощью метода наименьших квадратов:"
   ]
  },
  {
   "cell_type": "code",
   "execution_count": 21,
   "id": "38315d8c",
   "metadata": {},
   "outputs": [],
   "source": [
    "salary_2 = pd.DataFrame([35, 45, 190, 200, 40, 70, 54, 150, 120, 110])\n",
    "scoring_2 = pd.DataFrame([401, 574, 874, 919, 459, 739, 653, 902, 746, 832])"
   ]
  },
  {
   "cell_type": "code",
   "execution_count": 22,
   "id": "a938ad8b",
   "metadata": {},
   "outputs": [],
   "source": [
    "ones = np.ones((salary_2.shape[0], 1))\n",
    "salary_2 = np.hstack((ones, salary_2))"
   ]
  },
  {
   "cell_type": "code",
   "execution_count": 23,
   "id": "60ce6b91",
   "metadata": {},
   "outputs": [],
   "source": [
    "XTX = salary_2.T.dot(salary_2)"
   ]
  },
  {
   "cell_type": "code",
   "execution_count": 24,
   "id": "388f5a8c",
   "metadata": {},
   "outputs": [
    {
     "name": "stdout",
     "output_type": "stream",
     "text": [
      "[[444.17735732]\n",
      " [  2.62053888]]\n"
     ]
    }
   ],
   "source": [
    "XTX_inv = np.linalg.inv(XTX)\n",
    "\n",
    "b = XTX_inv.dot(salary_2.T).dot(scoring_2)\n",
    "\n",
    "print(b)"
   ]
  },
  {
   "cell_type": "markdown",
   "id": "3a3e0fd7",
   "metadata": {},
   "source": [
    "#### 2."
   ]
  },
  {
   "cell_type": "code",
   "execution_count": 25,
   "id": "41d78a9c",
   "metadata": {},
   "outputs": [],
   "source": [
    "from matplotlib import pyplot as plt\n",
    "plt.style.use('seaborn-whitegrid')"
   ]
  },
  {
   "cell_type": "code",
   "execution_count": 26,
   "id": "d3a3cae6",
   "metadata": {},
   "outputs": [
    {
     "data": {
      "image/png": "[encoded data removed]",
      "text/plain": [
       "<Figure size 432x288 with 1 Axes>"
      ]
     },
     "metadata": {},
     "output_type": "display_data"
    }
   ],
   "source": [
    "x = salary\n",
    "y = b0 + b1 * x\n",
    "\n",
    "plt.scatter(salary, scoring)\n",
    "plt.plot(x, y, color='red', alpha=0.5)\n",
    "\n",
    "plt.xlabel('salary')\n",
    "plt.ylabel('scoring');"
   ]
  },
  {
   "cell_type": "markdown",
   "id": "22fd5478",
   "metadata": {},
   "source": [
    "#### 3."
   ]
  },
  {
   "cell_type": "markdown",
   "id": "c02b06ff",
   "metadata": {},
   "source": [
    "Коэффициент детерминации:"
   ]
  },
  {
   "cell_type": "code",
   "execution_count": 27,
   "id": "2950038a",
   "metadata": {},
   "outputs": [],
   "source": [
    "z = b0 + b1 * salary"
   ]
  },
  {
   "cell_type": "code",
   "execution_count": 28,
   "id": "66082c9b",
   "metadata": {},
   "outputs": [],
   "source": [
    "sum_of_squares_scoring = ((scoring - scoring.mean()) ** 2).sum()"
   ]
  },
  {
   "cell_type": "code",
   "execution_count": 29,
   "id": "4d46f24b",
   "metadata": {},
   "outputs": [
    {
     "data": {
      "text/plain": [
       "0.7876386635293686"
      ]
     },
     "execution_count": 29,
     "metadata": {},
     "output_type": "execute_result"
    }
   ],
   "source": [
    "R = 1 - ((scoring - z)**2).sum() / sum_of_squares_scoring\n",
    "R"
   ]
  },
  {
   "cell_type": "markdown",
   "id": "8d1c3bac",
   "metadata": {},
   "source": [
    "#### 4."
   ]
  },
  {
   "cell_type": "code",
   "execution_count": 30,
   "id": "883f0523",
   "metadata": {},
   "outputs": [
    {
     "data": {
      "text/plain": [
       "(1, 8)"
      ]
     },
     "execution_count": 30,
     "metadata": {},
     "output_type": "execute_result"
    }
   ],
   "source": [
    "k1 = 1\n",
    "k2 = salary.shape[0] - 2\n",
    "\n",
    "k1, k2"
   ]
  },
  {
   "cell_type": "markdown",
   "id": "997b5949",
   "metadata": {},
   "source": [
    "Возьмём уровень значимости $\\alpha = 0.05$. Критическая область:"
   ]
  },
  {
   "cell_type": "code",
   "execution_count": 31,
   "id": "8a8e6092",
   "metadata": {},
   "outputs": [
    {
     "data": {
      "text/plain": [
       "5.317655071578714"
      ]
     },
     "execution_count": 31,
     "metadata": {},
     "output_type": "execute_result"
    }
   ],
   "source": [
    "t = stats.f.ppf(1 - alpha, k1, k2)\n",
    "t"
   ]
  },
  {
   "cell_type": "code",
   "execution_count": 32,
   "id": "2716e526",
   "metadata": {},
   "outputs": [
    {
     "data": {
      "text/plain": [
       "29.67164085966451"
      ]
     },
     "execution_count": 32,
     "metadata": {},
     "output_type": "execute_result"
    }
   ],
   "source": [
    "F = (R / k1) / ((1 - R) / k2)\n",
    "F"
   ]
  },
  {
   "cell_type": "markdown",
   "id": "7d1e2c91",
   "metadata": {},
   "source": [
    "Статистика попала в критическую область, уравнение регрессии признаётся значимым."
   ]
  },
  {
   "cell_type": "markdown",
   "id": "efcc7195",
   "metadata": {},
   "source": [
    "#### 5."
   ]
  },
  {
   "cell_type": "markdown",
   "id": "2d3140e9",
   "metadata": {},
   "source": [
    "Средняя ошибка аппроксимации:"
   ]
  },
  {
   "cell_type": "code",
   "execution_count": 33,
   "id": "c98e2a60",
   "metadata": {},
   "outputs": [
    {
     "data": {
      "text/plain": [
       "0.11469251843561709"
      ]
     },
     "execution_count": 33,
     "metadata": {},
     "output_type": "execute_result"
    }
   ],
   "source": [
    "np.abs((scoring - z) / scoring).mean()"
   ]
  },
  {
   "cell_type": "markdown",
   "id": "870e6220",
   "metadata": {},
   "source": [
    "Средняя ошибка аппроксимации превышает 8−10%, поэтому можно сказать, что теоретические значения не близки к тем, которые выдает модель линейной регрессии."
   ]
  },
  {
   "cell_type": "code",
   "execution_count": null,
   "id": "ea49e40f",
   "metadata": {},
   "outputs": [],
   "source": []
  }
 ],
 "metadata": {
  "kernelspec": {
   "display_name": "Python 3 (ipykernel)",
   "language": "python",
   "name": "python3"
  },
  "language_info": {
   "codemirror_mode": {
    "name": "ipython",
    "version": 3
   },
   "file_extension": ".py",
   "mimetype": "text/x-python",
   "name": "python",
   "nbconvert_exporter": "python",
   "pygments_lexer": "ipython3",
   "version": "3.9.12"
  }
 },
 "nbformat": 4,
 "nbformat_minor": 5
}

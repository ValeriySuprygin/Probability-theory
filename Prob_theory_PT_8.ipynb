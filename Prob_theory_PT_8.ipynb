{
 "cells": [
  {
   "cell_type": "markdown",
   "id": "784f8cf0",
   "metadata": {},
   "source": [
    "### Задание 1"
   ]
  },
  {
   "cell_type": "markdown",
   "id": "e5635a5c",
   "metadata": {},
   "source": [
    "Провести дисперсионный анализ для определения того, есть ли различия среднего роста среди взрослых футболистов, хоккеистов и штангистов. Даны значения роста в трех группах случайно выбранных спортсменов: \n",
    "```\n",
    "football_players = [173, 175, 180, 178, 177, 185, 183, 182]\n",
    "hockey_players = [177, 179, 180, 188, 177, 172, 171, 184, 180]\n",
    "lifters = [172, 173, 169, 177, 166, 180, 178, 177, 172, 166, 170]\n",
    "```"
   ]
  },
  {
   "cell_type": "markdown",
   "id": "0c34ecd6",
   "metadata": {},
   "source": [
    "Необходимо проверить гипотезу $H_0$ о __различии__ средних значений роста по данным выборкам среди взрослых футболистов, хоккеистов и штангистов"
   ]
  },
  {
   "cell_type": "markdown",
   "id": "f14d4f49",
   "metadata": {},
   "source": [
    "Для проверки гипотезы применим однофакторный дисперсионный анализ. В предположении верности гипотезы $H_0$ статистика $T$ будет иметь распределение Фишера с параметрами $k_1 = k - 1$, $k_2 = n - k$. Выберем уровень значимости $\\alpha = 0.05$, рассчитаем критическое значение $F_{crit}$, равное квантилю порядка $1 - \\alpha$ для распределения $F(k_1, k_2)$. Если $T > F_{crit}$, то гипотеза $H_0$ принимается."
   ]
  },
  {
   "cell_type": "code",
   "execution_count": 1,
   "id": "cb6d2b2e",
   "metadata": {},
   "outputs": [],
   "source": [
    "import numpy as np\n",
    "from scipy import stats\n",
    "from scipy.stats import f_oneway"
   ]
  },
  {
   "cell_type": "code",
   "execution_count": 2,
   "id": "e82d2ecd",
   "metadata": {},
   "outputs": [
    {
     "data": {
      "text/plain": [
       "(8, 9, 11)"
      ]
     },
     "execution_count": 2,
     "metadata": {},
     "output_type": "execute_result"
    }
   ],
   "source": [
    "football_players = np.array([173, 175, 180, 178, 177, 185, 183, 182], dtype=np.float64)\n",
    "hockey_players = np.array([177, 179, 180, 188, 177, 172, 171, 184, 180], dtype=np.float64)\n",
    "lifters = np.array([172, 173, 169, 177, 166, 180, 178, 177, 172, 166, 170], dtype=np.float64)\n",
    "\n",
    "n_Fp = football_players.shape[0]\n",
    "n_Hp = hockey_players.shape[0]\n",
    "n_Lf = lifters.shape[0]\n",
    "\n",
    "n_Fp, n_Hp, n_Lf"
   ]
  },
  {
   "cell_type": "markdown",
   "id": "4b0c03db",
   "metadata": {},
   "source": [
    "Выборочные средние по каждой группе:"
   ]
  },
  {
   "cell_type": "code",
   "execution_count": 3,
   "id": "0f21a0cf",
   "metadata": {},
   "outputs": [
    {
     "data": {
      "text/plain": [
       "(179.125, 178.66666666666666, 172.72727272727272)"
      ]
     },
     "execution_count": 3,
     "metadata": {},
     "output_type": "execute_result"
    }
   ],
   "source": [
    "y_Fp_mean = football_players.mean()\n",
    "y_Hp_mean = hockey_players.mean()\n",
    "y_Lf_mean = lifters.mean()\n",
    "\n",
    "y_Fp_mean, y_Hp_mean, y_Lf_mean"
   ]
  },
  {
   "cell_type": "markdown",
   "id": "7e81101b",
   "metadata": {},
   "source": [
    "Видно, что средний рост разнится не сильно."
   ]
  },
  {
   "cell_type": "code",
   "execution_count": 4,
   "id": "19695a91",
   "metadata": {},
   "outputs": [
    {
     "name": "stdout",
     "output_type": "stream",
     "text": [
      "[173. 175. 180. 178. 177. 185. 183. 182. 177. 179. 180. 188. 177. 172.\n",
      " 171. 184. 180. 172. 173. 169. 177. 166. 180. 178. 177. 172. 166. 170.]\n"
     ]
    }
   ],
   "source": [
    "y_height_sum = np.concatenate([football_players, hockey_players, lifters])\n",
    "\n",
    "print(y_height_sum)"
   ]
  },
  {
   "cell_type": "code",
   "execution_count": 5,
   "id": "e02271df",
   "metadata": {},
   "outputs": [
    {
     "data": {
      "text/plain": [
       "176.46428571428572"
      ]
     },
     "execution_count": 5,
     "metadata": {},
     "output_type": "execute_result"
    }
   ],
   "source": [
    "y_height_sum_mean = y_height_sum.mean()\n",
    "y_height_sum_mean"
   ]
  },
  {
   "cell_type": "markdown",
   "id": "2f77653f",
   "metadata": {},
   "source": [
    "Находим значения $S_b^2$ и $S_w^2$:"
   ]
  },
  {
   "cell_type": "code",
   "execution_count": 6,
   "id": "89bc0e85",
   "metadata": {},
   "outputs": [
    {
     "data": {
      "text/plain": [
       "(253.9074675324678, 577.0568181818182)"
      ]
     },
     "execution_count": 6,
     "metadata": {},
     "output_type": "execute_result"
    }
   ],
   "source": [
    "S2_b = n_Fp * (y_Fp_mean - y_height_sum_mean) ** 2 + n_Hp * (y_Hp_mean - y_height_sum_mean) ** 2 + n_Lf * (y_Lf_mean - y_height_sum_mean) ** 2\n",
    "\n",
    "S2_w = ((football_players - y_Fp_mean) ** 2).sum() + ((hockey_players - y_Hp_mean) ** 2).sum() + ((lifters - y_Lf_mean) ** 2).sum()\n",
    "\n",
    "S2_b, S2_w"
   ]
  },
  {
   "cell_type": "markdown",
   "id": "9fc0af12",
   "metadata": {},
   "source": [
    "Проверим выполнение равенства $S^2 = S_b^2 + S_w^2:$"
   ]
  },
  {
   "cell_type": "code",
   "execution_count": 7,
   "id": "c39ba816",
   "metadata": {},
   "outputs": [
    {
     "data": {
      "text/plain": [
       "True"
      ]
     },
     "execution_count": 7,
     "metadata": {},
     "output_type": "execute_result"
    }
   ],
   "source": [
    "round(S2_b + S2_w, 3) == round(((y_height_sum - y_height_sum_mean) ** 2).sum(), 3)"
   ]
  },
  {
   "cell_type": "code",
   "execution_count": 8,
   "id": "39a560a1",
   "metadata": {},
   "outputs": [
    {
     "data": {
      "text/plain": [
       "(126.9537337662339, 23.08227272727273)"
      ]
     },
     "execution_count": 8,
     "metadata": {},
     "output_type": "execute_result"
    }
   ],
   "source": [
    "k = 3\n",
    "n = n_Fp + n_Hp + n_Lf\n",
    "\n",
    "k1 = k - 1\n",
    "k2 = n - k\n",
    "\n",
    "sigma2_b = S2_b / k1\n",
    "sigma2_w = S2_w / k2\n",
    "\n",
    "sigma2_b, sigma2_w"
   ]
  },
  {
   "cell_type": "markdown",
   "id": "8eeade9d",
   "metadata": {},
   "source": [
    "Значение статистики $T$:"
   ]
  },
  {
   "cell_type": "code",
   "execution_count": 9,
   "id": "26b49c79",
   "metadata": {},
   "outputs": [
    {
     "data": {
      "text/plain": [
       "5.500053450812598"
      ]
     },
     "execution_count": 9,
     "metadata": {},
     "output_type": "execute_result"
    }
   ],
   "source": [
    "T = sigma2_b / sigma2_w\n",
    "T"
   ]
  },
  {
   "cell_type": "markdown",
   "id": "ddc72fa6",
   "metadata": {},
   "source": [
    "Находим критическое значение $F_{crit}$ для уровеня значимости $\\alpha = 0.05$:"
   ]
  },
  {
   "cell_type": "code",
   "execution_count": 10,
   "id": "6e3e6966",
   "metadata": {},
   "outputs": [
    {
     "data": {
      "text/plain": [
       "3.3851899614491687"
      ]
     },
     "execution_count": 10,
     "metadata": {},
     "output_type": "execute_result"
    }
   ],
   "source": [
    "alpha = 0.05\n",
    "\n",
    "F_crit = stats.f.ppf(1 - alpha, k1, k2)\n",
    "F_crit"
   ]
  },
  {
   "cell_type": "markdown",
   "id": "caebdd01",
   "metadata": {},
   "source": [
    "$Pvalue:$"
   ]
  },
  {
   "cell_type": "code",
   "execution_count": 11,
   "id": "8bae3c5d",
   "metadata": {},
   "outputs": [
    {
     "data": {
      "text/plain": [
       "0.010482206918698611"
      ]
     },
     "execution_count": 11,
     "metadata": {},
     "output_type": "execute_result"
    }
   ],
   "source": [
    "p = 1 - stats.f.cdf(T, k1, k2)\n",
    "p"
   ]
  },
  {
   "cell_type": "markdown",
   "id": "d85cff0e",
   "metadata": {},
   "source": [
    "$T > F_{crit}$, поэтому заключаем, что различия среднего роста является статистически значимым, поэтому гипотеза $H_0$ принимается (очевидно, что рост штангистов влияет на результат, так как штангисты по специфике спорта имеют средний рост ниже, чем у футболистов и хоккеистов, однако отличия не столь сильные, что показывают значения $T = 5.5$ и $F_{crit} = 3.4$)."
   ]
  },
  {
   "cell_type": "markdown",
   "id": "e07e0e47",
   "metadata": {},
   "source": [
    "Проверяем с помощью встроенного метода:"
   ]
  },
  {
   "cell_type": "code",
   "execution_count": 12,
   "id": "b8ba22d2",
   "metadata": {},
   "outputs": [
    {
     "data": {
      "text/plain": [
       "F_onewayResult(statistic=5.500053450812596, pvalue=0.010482206918698694)"
      ]
     },
     "execution_count": 12,
     "metadata": {},
     "output_type": "execute_result"
    }
   ],
   "source": [
    "f_oneway(football_players, hockey_players, lifters)"
   ]
  },
  {
   "cell_type": "code",
   "execution_count": null,
   "id": "6c35c914",
   "metadata": {},
   "outputs": [],
   "source": []
  }
 ],
 "metadata": {
  "kernelspec": {
   "display_name": "Python 3 (ipykernel)",
   "language": "python",
   "name": "python3"
  },
  "language_info": {
   "codemirror_mode": {
    "name": "ipython",
    "version": 3
   },
   "file_extension": ".py",
   "mimetype": "text/x-python",
   "name": "python",
   "nbconvert_exporter": "python",
   "pygments_lexer": "ipython3",
   "version": "3.9.12"
  }
 },
 "nbformat": 4,
 "nbformat_minor": 5
}

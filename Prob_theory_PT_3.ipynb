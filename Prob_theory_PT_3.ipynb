{
 "cells": [
  {
   "cell_type": "code",
   "execution_count": 1,
   "id": "b60775ce",
   "metadata": {},
   "outputs": [],
   "source": [
    "import warnings\n",
    "\n",
    "import numpy as np\n",
    "import pandas as pd\n",
    "from matplotlib import pyplot as plt\n",
    "\n",
    "warnings.filterwarnings('ignore')"
   ]
  },
  {
   "cell_type": "markdown",
   "id": "d20e562a",
   "metadata": {},
   "source": [
    "### Задание 1"
   ]
  },
  {
   "cell_type": "markdown",
   "id": "2e4312ee",
   "metadata": {},
   "source": [
    "Даны значения зарплат из выборки выпускников: \n",
    "```\n",
    "100, 80, 75, 77, 89, 33, 45, 25, 65, 17, 30, 24, 57, 55, 70, 75, 65, 84, 90, 150.\n",
    "```\n",
    "Без использования статистических функций вроде `mean`, `std`, `var`, посчитать среднее арифметическое, среднее квадратичное отклонение, смещенную и несмещенную оценки дисперсий для данной выборки.\n",
    "\n",
    "Можно затем посчитать те же значения с использованием статистических функций, чтобы проверить себя."
   ]
  },
  {
   "cell_type": "code",
   "execution_count": 2,
   "id": "9d81bb00",
   "metadata": {},
   "outputs": [
    {
     "name": "stdout",
     "output_type": "stream",
     "text": [
      "[100  80  75  77  89  33  45  25  65  17  30  24  57  55  70  75  65  84\n",
      "  90 150]\n"
     ]
    }
   ],
   "source": [
    "salary = np.array([100, 80, 75, 77, 89, 33, 45, 25, 65, 17, 30, 24, 57, 55, 70, 75, 65, 84, 90, 150])\n",
    "print(salary)"
   ]
  },
  {
   "cell_type": "markdown",
   "id": "6cc36e48",
   "metadata": {},
   "source": [
    "#### Среднее арифметическое:"
   ]
  },
  {
   "cell_type": "code",
   "execution_count": 3,
   "id": "7c596793",
   "metadata": {},
   "outputs": [
    {
     "data": {
      "text/plain": [
       "65.3"
      ]
     },
     "execution_count": 3,
     "metadata": {},
     "output_type": "execute_result"
    }
   ],
   "source": [
    "mean_salary = salary.sum() / len(salary)\n",
    "mean_salary"
   ]
  },
  {
   "cell_type": "markdown",
   "id": "72ea84db",
   "metadata": {},
   "source": [
    "#### Среднее квадратичное отклонение:"
   ]
  },
  {
   "cell_type": "code",
   "execution_count": 4,
   "id": "84ff8bd8",
   "metadata": {},
   "outputs": [
    {
     "data": {
      "text/plain": [
       "30.823854398825596"
      ]
     },
     "execution_count": 4,
     "metadata": {},
     "output_type": "execute_result"
    }
   ],
   "source": [
    "std_salary = np.sqrt(((salary - mean_salary) ** 2).sum() / len(salary))\n",
    "std_salary"
   ]
  },
  {
   "cell_type": "markdown",
   "id": "a9bc57c9",
   "metadata": {},
   "source": [
    "#### Смещенная оценка дисперсии"
   ]
  },
  {
   "cell_type": "code",
   "execution_count": 5,
   "id": "67428730",
   "metadata": {},
   "outputs": [
    {
     "data": {
      "text/plain": [
       "950.11"
      ]
     },
     "execution_count": 5,
     "metadata": {},
     "output_type": "execute_result"
    }
   ],
   "source": [
    "biased_var_salary = ((salary - mean_salary) ** 2).sum() / len(salary)\n",
    "biased_var_salary"
   ]
  },
  {
   "cell_type": "markdown",
   "id": "dda9d7b5",
   "metadata": {},
   "source": [
    "#### Несмещенная оценка дисперсии"
   ]
  },
  {
   "cell_type": "code",
   "execution_count": 6,
   "id": "2bbdb6c3",
   "metadata": {},
   "outputs": [
    {
     "data": {
      "text/plain": [
       "1000.1157894736842"
      ]
     },
     "execution_count": 6,
     "metadata": {},
     "output_type": "execute_result"
    }
   ],
   "source": [
    "unbiased_var_salary = ((salary - mean_salary) ** 2).sum() / (len(salary) - 1)\n",
    "unbiased_var_salary"
   ]
  },
  {
   "cell_type": "markdown",
   "id": "7a9f2566",
   "metadata": {},
   "source": [
    "#### Проверка встроенными методами:"
   ]
  },
  {
   "cell_type": "code",
   "execution_count": 7,
   "id": "6236488e",
   "metadata": {},
   "outputs": [
    {
     "data": {
      "text/plain": [
       "True"
      ]
     },
     "execution_count": 7,
     "metadata": {},
     "output_type": "execute_result"
    }
   ],
   "source": [
    "mean_salary_check = salary.mean()\n",
    "mean_salary == mean_salary_check"
   ]
  },
  {
   "cell_type": "code",
   "execution_count": 8,
   "id": "14250ff0",
   "metadata": {},
   "outputs": [
    {
     "data": {
      "text/plain": [
       "True"
      ]
     },
     "execution_count": 8,
     "metadata": {},
     "output_type": "execute_result"
    }
   ],
   "source": [
    "std_salary_check = salary.std(ddof=0)\n",
    "std_salary == std_salary_check"
   ]
  },
  {
   "cell_type": "code",
   "execution_count": 9,
   "id": "f4fbb258",
   "metadata": {},
   "outputs": [
    {
     "data": {
      "text/plain": [
       "True"
      ]
     },
     "execution_count": 9,
     "metadata": {},
     "output_type": "execute_result"
    }
   ],
   "source": [
    "biased_var_salary_check = salary.var(ddof=0)\n",
    "biased_var_salary == biased_var_salary_check"
   ]
  },
  {
   "cell_type": "code",
   "execution_count": 10,
   "id": "e54e5f88",
   "metadata": {},
   "outputs": [
    {
     "data": {
      "text/plain": [
       "True"
      ]
     },
     "execution_count": 10,
     "metadata": {},
     "output_type": "execute_result"
    }
   ],
   "source": [
    "unbiased_var_salary_check = salary.var(ddof=1)\n",
    "unbiased_var_salary == unbiased_var_salary_check"
   ]
  },
  {
   "cell_type": "markdown",
   "id": "be54af8e",
   "metadata": {},
   "source": [
    "### Задание 2"
   ]
  },
  {
   "cell_type": "markdown",
   "id": "fecfbce5",
   "metadata": {},
   "source": [
    "Для выборки из задачи 1 найти первый и третий квартили, интерквартильное расстояние. Найти выборсы в выборке, используя для этого \"усы\" из `boxplot`. В этой задаче можно использовать статистические функции."
   ]
  },
  {
   "cell_type": "code",
   "execution_count": 11,
   "id": "492dc9cc",
   "metadata": {},
   "outputs": [
    {
     "data": {
      "text/html": [
       "<div>\n",
       "<style scoped>\n",
       "    .dataframe tbody tr th:only-of-type {\n",
       "        vertical-align: middle;\n",
       "    }\n",
       "\n",
       "    .dataframe tbody tr th {\n",
       "        vertical-align: top;\n",
       "    }\n",
       "\n",
       "    .dataframe thead th {\n",
       "        text-align: right;\n",
       "    }\n",
       "</style>\n",
       "<table border=\"1\" class=\"dataframe\">\n",
       "  <thead>\n",
       "    <tr style=\"text-align: right;\">\n",
       "      <th></th>\n",
       "      <th>salary</th>\n",
       "    </tr>\n",
       "  </thead>\n",
       "  <tbody>\n",
       "    <tr>\n",
       "      <th>0</th>\n",
       "      <td>100</td>\n",
       "    </tr>\n",
       "    <tr>\n",
       "      <th>1</th>\n",
       "      <td>80</td>\n",
       "    </tr>\n",
       "    <tr>\n",
       "      <th>2</th>\n",
       "      <td>75</td>\n",
       "    </tr>\n",
       "    <tr>\n",
       "      <th>3</th>\n",
       "      <td>77</td>\n",
       "    </tr>\n",
       "    <tr>\n",
       "      <th>4</th>\n",
       "      <td>89</td>\n",
       "    </tr>\n",
       "    <tr>\n",
       "      <th>5</th>\n",
       "      <td>33</td>\n",
       "    </tr>\n",
       "    <tr>\n",
       "      <th>6</th>\n",
       "      <td>45</td>\n",
       "    </tr>\n",
       "    <tr>\n",
       "      <th>7</th>\n",
       "      <td>25</td>\n",
       "    </tr>\n",
       "    <tr>\n",
       "      <th>8</th>\n",
       "      <td>65</td>\n",
       "    </tr>\n",
       "    <tr>\n",
       "      <th>9</th>\n",
       "      <td>17</td>\n",
       "    </tr>\n",
       "    <tr>\n",
       "      <th>10</th>\n",
       "      <td>30</td>\n",
       "    </tr>\n",
       "    <tr>\n",
       "      <th>11</th>\n",
       "      <td>24</td>\n",
       "    </tr>\n",
       "    <tr>\n",
       "      <th>12</th>\n",
       "      <td>57</td>\n",
       "    </tr>\n",
       "    <tr>\n",
       "      <th>13</th>\n",
       "      <td>55</td>\n",
       "    </tr>\n",
       "    <tr>\n",
       "      <th>14</th>\n",
       "      <td>70</td>\n",
       "    </tr>\n",
       "    <tr>\n",
       "      <th>15</th>\n",
       "      <td>75</td>\n",
       "    </tr>\n",
       "    <tr>\n",
       "      <th>16</th>\n",
       "      <td>65</td>\n",
       "    </tr>\n",
       "    <tr>\n",
       "      <th>17</th>\n",
       "      <td>84</td>\n",
       "    </tr>\n",
       "    <tr>\n",
       "      <th>18</th>\n",
       "      <td>90</td>\n",
       "    </tr>\n",
       "    <tr>\n",
       "      <th>19</th>\n",
       "      <td>150</td>\n",
       "    </tr>\n",
       "  </tbody>\n",
       "</table>\n",
       "</div>"
      ],
      "text/plain": [
       "    salary\n",
       "0      100\n",
       "1       80\n",
       "2       75\n",
       "3       77\n",
       "4       89\n",
       "5       33\n",
       "6       45\n",
       "7       25\n",
       "8       65\n",
       "9       17\n",
       "10      30\n",
       "11      24\n",
       "12      57\n",
       "13      55\n",
       "14      70\n",
       "15      75\n",
       "16      65\n",
       "17      84\n",
       "18      90\n",
       "19     150"
      ]
     },
     "execution_count": 11,
     "metadata": {},
     "output_type": "execute_result"
    }
   ],
   "source": [
    "salary_df = pd.DataFrame(salary, columns=['salary'])\n",
    "salary_df"
   ]
  },
  {
   "cell_type": "code",
   "execution_count": 12,
   "id": "19142c51",
   "metadata": {},
   "outputs": [
    {
     "data": {
      "text/plain": [
       "<AxesSubplot:>"
      ]
     },
     "execution_count": 12,
     "metadata": {},
     "output_type": "execute_result"
    },
    {
     "data": {
      "image/png": "[encoded data removed]",
      "text/plain": [
       "<Figure size 432x288 with 1 Axes>"
      ]
     },
     "metadata": {
      "needs_background": "light"
     },
     "output_type": "display_data"
    }
   ],
   "source": [
    "salary_df[['salary']].boxplot()"
   ]
  },
  {
   "cell_type": "code",
   "execution_count": 13,
   "id": "f33ed08e",
   "metadata": {},
   "outputs": [
    {
     "data": {
      "text/plain": [
       "42.0"
      ]
     },
     "execution_count": 13,
     "metadata": {},
     "output_type": "execute_result"
    }
   ],
   "source": [
    "q1 = salary_df['salary'].quantile(0.25)\n",
    "q1"
   ]
  },
  {
   "cell_type": "code",
   "execution_count": 14,
   "id": "ff89864d",
   "metadata": {},
   "outputs": [
    {
     "data": {
      "text/plain": [
       "81.0"
      ]
     },
     "execution_count": 14,
     "metadata": {},
     "output_type": "execute_result"
    }
   ],
   "source": [
    "q3 = salary_df['salary'].quantile(0.75)\n",
    "q3"
   ]
  },
  {
   "cell_type": "code",
   "execution_count": 15,
   "id": "bf88e2f2",
   "metadata": {},
   "outputs": [
    {
     "data": {
      "text/plain": [
       "39.0"
      ]
     },
     "execution_count": 15,
     "metadata": {},
     "output_type": "execute_result"
    }
   ],
   "source": [
    "iqr_length = q3 - q1\n",
    "iqr_length"
   ]
  },
  {
   "cell_type": "code",
   "execution_count": 16,
   "id": "b5561333",
   "metadata": {},
   "outputs": [
    {
     "data": {
      "text/plain": [
       "(-16.5, 139.5)"
      ]
     },
     "execution_count": 16,
     "metadata": {},
     "output_type": "execute_result"
    }
   ],
   "source": [
    "boxplot_range = (q1 - 1.5 * iqr_length, q3 + 1.5 * iqr_length)\n",
    "boxplot_range"
   ]
  },
  {
   "cell_type": "code",
   "execution_count": 17,
   "id": "a1ed9de2",
   "metadata": {},
   "outputs": [
    {
     "data": {
      "text/plain": [
       "1"
      ]
     },
     "execution_count": 17,
     "metadata": {},
     "output_type": "execute_result"
    }
   ],
   "source": [
    "outliers = salary_df.loc[(salary_df['salary'] < boxplot_range[0]) | (salary_df['salary'] > boxplot_range[1])]\n",
    "\n",
    "outliers.shape[0]"
   ]
  },
  {
   "cell_type": "markdown",
   "id": "bccb2ff9",
   "metadata": {},
   "source": [
    "Доля выбросов:"
   ]
  },
  {
   "cell_type": "code",
   "execution_count": 18,
   "id": "e8fac22e",
   "metadata": {},
   "outputs": [
    {
     "data": {
      "text/plain": [
       "0.05"
      ]
     },
     "execution_count": 18,
     "metadata": {},
     "output_type": "execute_result"
    }
   ],
   "source": [
    "outliers.shape[0] / salary_df.shape[0]"
   ]
  },
  {
   "cell_type": "markdown",
   "id": "6a5b62f4",
   "metadata": {},
   "source": [
    "### Задание 3"
   ]
  },
  {
   "cell_type": "markdown",
   "id": "88f9138d",
   "metadata": {},
   "source": [
    "В университет на факультеты A и B поступило равное количество студентов, а на факультет C студентов поступило столько же, сколько на A и B вместе. Вероятность того, что студент факультета A сдаст первую сессию, равна 0.8. Для студента факультета B эта вероятность равна 0.7, а для студента факультета C - 0.9. Студент сдал первую сессию. Какова вероятность, что он учится: a) на факультете A? б) на факультете B? в) на факультете C?"
   ]
  },
  {
   "cell_type": "markdown",
   "id": "806854ca",
   "metadata": {},
   "source": [
    "Обозначим событие \"студент сдал первую сессию\" как $X$, вероятность которого представляет собой полную вероятность с учетом всех факультетов. Условные вероятности события $X$ по отношению к каждому факультету можно получить как отношение количества участников в каждом факультете к общему количеству студентов. Обозначим количесво студентов факультета $A$ как $a$, тогда, исходя из условия задачи, общее количество студентов равно $4a$ и вероятности соответственно:\n",
    "\n",
    "$$P(X\\:|\\:A) = \\frac{a}{4a} = \\frac{1}{4}$$\n",
    "\n",
    "$$P(X\\:|\\:B) = \\frac{a}{4a} = \\frac{1}{4}$$\n",
    "\n",
    "$$P(X\\:|\\:C) = \\frac{2a}{4a} = \\frac{1}{2}$$ "
   ]
  },
  {
   "cell_type": "markdown",
   "id": "68a9eb58",
   "metadata": {},
   "source": [
    "Таким образом $P(X)$ равно:"
   ]
  },
  {
   "cell_type": "code",
   "execution_count": 19,
   "id": "3b02be8c",
   "metadata": {},
   "outputs": [
    {
     "data": {
      "text/plain": [
       "0.825"
      ]
     },
     "execution_count": 19,
     "metadata": {},
     "output_type": "execute_result"
    }
   ],
   "source": [
    "P_X = 1 / 4 * 0.8 + 1 / 4 * 0.7 + 1 / 2 * 0.9\n",
    "P_X"
   ]
  },
  {
   "cell_type": "markdown",
   "id": "bbb3b07a",
   "metadata": {},
   "source": [
    "Вероятности того, что студент учится на определенном факультете считаем по формуле Байеса:"
   ]
  },
  {
   "cell_type": "markdown",
   "id": "f6dc646f",
   "metadata": {},
   "source": [
    "#### a) на факультете А"
   ]
  },
  {
   "cell_type": "code",
   "execution_count": 20,
   "id": "6450440b",
   "metadata": {},
   "outputs": [
    {
     "data": {
      "text/plain": [
       "0.24"
      ]
     },
     "execution_count": 20,
     "metadata": {},
     "output_type": "execute_result"
    }
   ],
   "source": [
    "round(((1 / 4 * 0.8) / P_X), 2)"
   ]
  },
  {
   "cell_type": "markdown",
   "id": "49f14dbe",
   "metadata": {},
   "source": [
    "#### б) на факультете В"
   ]
  },
  {
   "cell_type": "code",
   "execution_count": 21,
   "id": "093760a9",
   "metadata": {},
   "outputs": [
    {
     "data": {
      "text/plain": [
       "0.21"
      ]
     },
     "execution_count": 21,
     "metadata": {},
     "output_type": "execute_result"
    }
   ],
   "source": [
    "round(((1 / 4 * 0.7) / P_X), 2)"
   ]
  },
  {
   "cell_type": "markdown",
   "id": "34dfce86",
   "metadata": {},
   "source": [
    "#### в) на факультете С"
   ]
  },
  {
   "cell_type": "code",
   "execution_count": 22,
   "id": "731074e3",
   "metadata": {},
   "outputs": [
    {
     "data": {
      "text/plain": [
       "0.55"
      ]
     },
     "execution_count": 22,
     "metadata": {},
     "output_type": "execute_result"
    }
   ],
   "source": [
    "round(((1 / 2 * 0.9) / P_X), 2)"
   ]
  },
  {
   "cell_type": "code",
   "execution_count": null,
   "id": "91caf086",
   "metadata": {},
   "outputs": [],
   "source": []
  }
 ],
 "metadata": {
  "kernelspec": {
   "display_name": "Python 3 (ipykernel)",
   "language": "python",
   "name": "python3"
  },
  "language_info": {
   "codemirror_mode": {
    "name": "ipython",
    "version": 3
   },
   "file_extension": ".py",
   "mimetype": "text/x-python",
   "name": "python",
   "nbconvert_exporter": "python",
   "pygments_lexer": "ipython3",
   "version": "3.9.12"
  }
 },
 "nbformat": 4,
 "nbformat_minor": 5
}

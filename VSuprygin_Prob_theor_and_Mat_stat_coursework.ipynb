{
 "cells": [
  {
   "cell_type": "markdown",
   "id": "1502a9b7",
   "metadata": {},
   "source": [
    "## Курсовая работа"
   ]
  },
  {
   "cell_type": "markdown",
   "id": "162c1967",
   "metadata": {},
   "source": [
    "#### *Студент*:\n",
    "Супрыгин В.Н.\n",
    "#### *Тема*:\n",
    "Решение задач по исследованию данных о супермаркетах США с помощью методик, изученных на курсе \"Теория вероятностей и математическая статистика\"\n",
    "#### *Задачи*:\n",
    "\n",
    "1. Проверка на нормальность. Взаимосвязь величин. Показатели корреляции. Корреляционный анализ.\n",
    "2. Уравнение регрессии и статистический анализ уравнения регрессии\n",
    "3. Однофакторный дисперсионный анализ\n",
    "\n",
    "#### *Данные*:\n",
    "1. Данные используемые в курсовом взяты с ресурса [kaggle](https://www.kaggle.com/)\n",
    "2. Датасет: [Supermarket store branches sales analysis](https://www.kaggle.com/datasets/surajjha101/stores-area-and-sales-data)\n",
    "\n",
    "#### *Описание датасета*:\n",
    "1. __Store ID__: (Index) ID of the particular store - идентификационный номер супермаркета\n",
    "2. __Store_Area__: Physical Area of the store in yard square - площадь супермаркета в квадратных ярдах\n",
    "3. __Items_Available__: Number of different items available in the corresponding store - количество разных наименований товаров доступных в соответствующем супермаркете\n",
    "4. __DailyCustomerCount__: Number of customers who visited to stores on an average over month - количество покупателей, посетивших супермармаркет в среднем за месяц\n",
    "5. __Store_Sales__: Sales in (US dollars) that stores made - продажи супермаркетов в долларах США "
   ]
  },
  {
   "cell_type": "markdown",
   "id": "6f514bce",
   "metadata": {},
   "source": [
    "### Подготовка"
   ]
  },
  {
   "cell_type": "code",
   "execution_count": 1,
   "id": "9b9c9ec2",
   "metadata": {},
   "outputs": [],
   "source": [
    "# Загружаем необходимые инструменты\n",
    "\n",
    "import pandas as pd\n",
    "import numpy as np\n",
    "from matplotlib import pyplot as plt\n",
    "from scipy import stats\n",
    "from scipy.stats import f_oneway\n",
    "from sklearn.linear_model import LinearRegression\n",
    "import statsmodels.api as sm\n",
    "import warnings\n",
    "warnings.filterwarnings(\"ignore\")"
   ]
  },
  {
   "cell_type": "code",
   "execution_count": 2,
   "id": "cccd456b",
   "metadata": {},
   "outputs": [
    {
     "data": {
      "text/html": [
       "<div>\n",
       "<style scoped>\n",
       "    .dataframe tbody tr th:only-of-type {\n",
       "        vertical-align: middle;\n",
       "    }\n",
       "\n",
       "    .dataframe tbody tr th {\n",
       "        vertical-align: top;\n",
       "    }\n",
       "\n",
       "    .dataframe thead th {\n",
       "        text-align: right;\n",
       "    }\n",
       "</style>\n",
       "<table border=\"1\" class=\"dataframe\">\n",
       "  <thead>\n",
       "    <tr style=\"text-align: right;\">\n",
       "      <th></th>\n",
       "      <th>Store ID</th>\n",
       "      <th>Store_Area</th>\n",
       "      <th>Items_Available</th>\n",
       "      <th>Daily_Customer_Count</th>\n",
       "      <th>Store_Sales</th>\n",
       "    </tr>\n",
       "  </thead>\n",
       "  <tbody>\n",
       "    <tr>\n",
       "      <th>0</th>\n",
       "      <td>1</td>\n",
       "      <td>1659</td>\n",
       "      <td>1961</td>\n",
       "      <td>530</td>\n",
       "      <td>66490</td>\n",
       "    </tr>\n",
       "    <tr>\n",
       "      <th>1</th>\n",
       "      <td>2</td>\n",
       "      <td>1461</td>\n",
       "      <td>1752</td>\n",
       "      <td>210</td>\n",
       "      <td>39820</td>\n",
       "    </tr>\n",
       "    <tr>\n",
       "      <th>2</th>\n",
       "      <td>3</td>\n",
       "      <td>1340</td>\n",
       "      <td>1609</td>\n",
       "      <td>720</td>\n",
       "      <td>54010</td>\n",
       "    </tr>\n",
       "    <tr>\n",
       "      <th>3</th>\n",
       "      <td>4</td>\n",
       "      <td>1451</td>\n",
       "      <td>1748</td>\n",
       "      <td>620</td>\n",
       "      <td>53730</td>\n",
       "    </tr>\n",
       "    <tr>\n",
       "      <th>4</th>\n",
       "      <td>5</td>\n",
       "      <td>1770</td>\n",
       "      <td>2111</td>\n",
       "      <td>450</td>\n",
       "      <td>46620</td>\n",
       "    </tr>\n",
       "    <tr>\n",
       "      <th>...</th>\n",
       "      <td>...</td>\n",
       "      <td>...</td>\n",
       "      <td>...</td>\n",
       "      <td>...</td>\n",
       "      <td>...</td>\n",
       "    </tr>\n",
       "    <tr>\n",
       "      <th>891</th>\n",
       "      <td>892</td>\n",
       "      <td>1582</td>\n",
       "      <td>1910</td>\n",
       "      <td>1080</td>\n",
       "      <td>66390</td>\n",
       "    </tr>\n",
       "    <tr>\n",
       "      <th>892</th>\n",
       "      <td>893</td>\n",
       "      <td>1387</td>\n",
       "      <td>1663</td>\n",
       "      <td>850</td>\n",
       "      <td>82080</td>\n",
       "    </tr>\n",
       "    <tr>\n",
       "      <th>893</th>\n",
       "      <td>894</td>\n",
       "      <td>1200</td>\n",
       "      <td>1436</td>\n",
       "      <td>1060</td>\n",
       "      <td>76440</td>\n",
       "    </tr>\n",
       "    <tr>\n",
       "      <th>894</th>\n",
       "      <td>895</td>\n",
       "      <td>1299</td>\n",
       "      <td>1560</td>\n",
       "      <td>770</td>\n",
       "      <td>96610</td>\n",
       "    </tr>\n",
       "    <tr>\n",
       "      <th>895</th>\n",
       "      <td>896</td>\n",
       "      <td>1174</td>\n",
       "      <td>1429</td>\n",
       "      <td>1110</td>\n",
       "      <td>54340</td>\n",
       "    </tr>\n",
       "  </tbody>\n",
       "</table>\n",
       "<p>896 rows × 5 columns</p>\n",
       "</div>"
      ],
      "text/plain": [
       "     Store ID   Store_Area  Items_Available  Daily_Customer_Count  Store_Sales\n",
       "0            1        1659             1961                   530        66490\n",
       "1            2        1461             1752                   210        39820\n",
       "2            3        1340             1609                   720        54010\n",
       "3            4        1451             1748                   620        53730\n",
       "4            5        1770             2111                   450        46620\n",
       "..         ...         ...              ...                   ...          ...\n",
       "891        892        1582             1910                  1080        66390\n",
       "892        893        1387             1663                   850        82080\n",
       "893        894        1200             1436                  1060        76440\n",
       "894        895        1299             1560                   770        96610\n",
       "895        896        1174             1429                  1110        54340\n",
       "\n",
       "[896 rows x 5 columns]"
      ]
     },
     "execution_count": 2,
     "metadata": {},
     "output_type": "execute_result"
    }
   ],
   "source": [
    "# Загружаем датасет\n",
    "\n",
    "stores = pd.read_csv('E:/GB учеба/Datasets/Stores.csv')\n",
    "stores"
   ]
  },
  {
   "cell_type": "code",
   "execution_count": 3,
   "id": "bc6f79d1",
   "metadata": {},
   "outputs": [
    {
     "name": "stdout",
     "output_type": "stream",
     "text": [
      "<class 'pandas.core.frame.DataFrame'>\n",
      "RangeIndex: 896 entries, 0 to 895\n",
      "Data columns (total 5 columns):\n",
      " #   Column                Non-Null Count  Dtype\n",
      "---  ------                --------------  -----\n",
      " 0   Store ID              896 non-null    int64\n",
      " 1   Store_Area            896 non-null    int64\n",
      " 2   Items_Available       896 non-null    int64\n",
      " 3   Daily_Customer_Count  896 non-null    int64\n",
      " 4   Store_Sales           896 non-null    int64\n",
      "dtypes: int64(5)\n",
      "memory usage: 35.1 KB\n"
     ]
    }
   ],
   "source": [
    "# Смотрим на наличие пропусков\n",
    "\n",
    "stores.info()"
   ]
  },
  {
   "cell_type": "code",
   "execution_count": 4,
   "id": "936084bf",
   "metadata": {},
   "outputs": [
    {
     "data": {
      "text/plain": [
       "(896, 5)"
      ]
     },
     "execution_count": 4,
     "metadata": {},
     "output_type": "execute_result"
    }
   ],
   "source": [
    "# Размерность\n",
    "\n",
    "stores.shape"
   ]
  },
  {
   "cell_type": "markdown",
   "id": "b6e23e69",
   "metadata": {},
   "source": [
    "Для исследования будем использовать все признаки, кроме \"Store ID\", который не несет смысловой нагрузки."
   ]
  },
  {
   "cell_type": "markdown",
   "id": "d9063577",
   "metadata": {},
   "source": [
    "### Задача №1 "
   ]
  },
  {
   "cell_type": "markdown",
   "id": "e88bd932",
   "metadata": {},
   "source": [
    "#### 1.1 Проверка на нормальность"
   ]
  },
  {
   "cell_type": "markdown",
   "id": "795a5070",
   "metadata": {},
   "source": [
    "Примем гипотезу $H_0$ - распределение каждого из признаков в датасете имеет нормальный вид."
   ]
  },
  {
   "cell_type": "markdown",
   "id": "035b2bcf",
   "metadata": {},
   "source": [
    "Построим гистограммы признаков из датасета. Поверх них нарисуем функции плотностей для нормальных распределений с соответствующими параметрами:"
   ]
  },
  {
   "cell_type": "code",
   "execution_count": 5,
   "id": "d1ced493",
   "metadata": {},
   "outputs": [
    {
     "data": {
      "image/png": "[encoded data removed]",
      "text/plain": [
       "<Figure size 1152x720 with 4 Axes>"
      ]
     },
     "metadata": {
      "needs_background": "light"
     },
     "output_type": "display_data"
    }
   ],
   "source": [
    "keys = ['Store_Area', 'Items_Available', 'Daily_Customer_Count', 'Store_Sales']\n",
    "\n",
    "fig, axes = plt.subplots(ncols=2, nrows=2)\n",
    "fig.set_size_inches(4 * len(keys), 10)\n",
    "fig.subplots_adjust(wspace=0.3, hspace=0.3)\n",
    "axes = axes.flatten()\n",
    "\n",
    "for key, ax in zip(keys, axes):\n",
    "    ax.hist(stores[key], density=True, bins=20)\n",
    "    \n",
    "    loc = stores[key].mean()\n",
    "    scale = stores[key].std()\n",
    "    \n",
    "    x_left, x_right = ax.get_xlim()\n",
    "    x = np.linspace(x_left, x_right, 1000)\n",
    "    y = stats.norm.pdf(x, loc=loc, scale=scale)\n",
    "    \n",
    "    ax.plot(x, y)\n",
    "    ax.set_title(key)"
   ]
  },
  {
   "cell_type": "markdown",
   "id": "10b91739",
   "metadata": {},
   "source": [
    "В первом приближении можно сказать, что распределения имеют нормальный вид, гипотеза $H_0$ остается в силе."
   ]
  },
  {
   "cell_type": "markdown",
   "id": "820945f5",
   "metadata": {},
   "source": [
    "Посмотрим **Q-Q** кривую:"
   ]
  },
  {
   "cell_type": "code",
   "execution_count": 6,
   "id": "db397c99",
   "metadata": {},
   "outputs": [
    {
     "data": {
      "image/png": "[encoded data removed]",
      "text/plain": [
       "<Figure size 1152x720 with 4 Axes>"
      ]
     },
     "metadata": {
      "needs_background": "light"
     },
     "output_type": "display_data"
    }
   ],
   "source": [
    "fig, axes = plt.subplots(ncols=2, nrows=2)\n",
    "fig.set_size_inches(4 * len(keys), 10)\n",
    "fig.subplots_adjust(wspace=0.3, hspace=0.3)\n",
    "axes = axes.flatten()\n",
    "\n",
    "for key, ax in zip(keys, axes):\n",
    "    samples = stores[key]\n",
    "    \n",
    "    loc = samples.mean()\n",
    "    scale = samples.std()\n",
    "    \n",
    "    interval = np.linspace(0, 1, samples.shape[0])[1:-1]\n",
    "    x = stats.norm.ppf(interval, loc=loc, scale=scale)\n",
    "    y = np.quantile(samples, interval)\n",
    "    \n",
    "    ax.scatter(x, y, s=5)\n",
    "    ax.plot(x, x, color='C1')\n",
    "    \n",
    "    ax.set_title(key)\n",
    "    ax.set_xlabel('теоретические квантили')\n",
    "    ax.set_ylabel('квантили выборки')"
   ]
  },
  {
   "cell_type": "markdown",
   "id": "dc582985",
   "metadata": {},
   "source": [
    "Как и в случае гистограмм, в первом приближении можно сказать, что распределения имеют нормальный вид, гипотеза  $H_0$ остается в силе."
   ]
  },
  {
   "cell_type": "markdown",
   "id": "55742826",
   "metadata": {},
   "source": [
    "Выполним проверку по правилу сигм:"
   ]
  },
  {
   "cell_type": "code",
   "execution_count": 7,
   "id": "fab1b9b5",
   "metadata": {},
   "outputs": [
    {
     "name": "stdout",
     "output_type": "stream",
     "text": [
      "Store_Area\n",
      "1 sigma(s)\n",
      "\ttheoretical:\t0.6826894921370859\n",
      "\tsample:\t\t0.6551339285714286\n",
      "2 sigma(s)\n",
      "\ttheoretical:\t0.9544997361036416\n",
      "\tsample:\t\t0.9587053571428571\n",
      "3 sigma(s)\n",
      "\ttheoretical:\t0.9973002039367398\n",
      "\tsample:\t\t1.0\n",
      "\n",
      "Items_Available\n",
      "1 sigma(s)\n",
      "\ttheoretical:\t0.6826894921370859\n",
      "\tsample:\t\t0.6551339285714286\n",
      "2 sigma(s)\n",
      "\ttheoretical:\t0.9544997361036416\n",
      "\tsample:\t\t0.9564732142857143\n",
      "3 sigma(s)\n",
      "\ttheoretical:\t0.9973002039367398\n",
      "\tsample:\t\t1.0\n",
      "\n",
      "Daily_Customer_Count\n",
      "1 sigma(s)\n",
      "\ttheoretical:\t0.6826894921370859\n",
      "\tsample:\t\t0.6729910714285714\n",
      "2 sigma(s)\n",
      "\ttheoretical:\t0.9544997361036416\n",
      "\tsample:\t\t0.9575892857142857\n",
      "3 sigma(s)\n",
      "\ttheoretical:\t0.9973002039367398\n",
      "\tsample:\t\t1.0\n",
      "\n",
      "Store_Sales\n",
      "1 sigma(s)\n",
      "\ttheoretical:\t0.6826894921370859\n",
      "\tsample:\t\t0.6495535714285714\n",
      "2 sigma(s)\n",
      "\ttheoretical:\t0.9544997361036416\n",
      "\tsample:\t\t0.9631696428571429\n",
      "3 sigma(s)\n",
      "\ttheoretical:\t0.9973002039367398\n",
      "\tsample:\t\t0.9988839285714286\n",
      "\n"
     ]
    }
   ],
   "source": [
    "for key in keys:\n",
    "    print(key)\n",
    "    \n",
    "    samples = stores[key]\n",
    "    \n",
    "    loc = samples.mean()\n",
    "    scale = samples.std()\n",
    "\n",
    "    for i in range(1, 4):\n",
    "        true_value = stats.norm.cdf(i) - stats.norm.cdf(-i)\n",
    "        sample_value = ((samples >= loc - i * scale) & (samples <= loc + i * scale)).sum() / samples.shape[0]\n",
    "        \n",
    "        print(f'{i} sigma(s)')\n",
    "        print(f'\\ttheoretical:\\t{true_value}')\n",
    "        print(f'\\tsample:\\t\\t{sample_value}')\n",
    "        \n",
    "    print()"
   ]
  },
  {
   "cell_type": "markdown",
   "id": "0407856a",
   "metadata": {},
   "source": [
    "И снова, в первом приближении можно сказать, что распределения имеют нормальный вид, гипотеза  $H_0$ остается в силе."
   ]
  },
  {
   "cell_type": "markdown",
   "id": "bdb1bb1d",
   "metadata": {},
   "source": [
    "Проведем проверку с помощью `stats.normaltest`, примем $\\alpha = 0.05$:"
   ]
  },
  {
   "cell_type": "code",
   "execution_count": 8,
   "id": "8b502d98",
   "metadata": {},
   "outputs": [
    {
     "name": "stdout",
     "output_type": "stream",
     "text": [
      "Statistics_Store_Area =  3.963 \t\t\tp-value_Store_Area =  0.13788\n",
      "Statistics_Items_Available =  3.955 \t\tp-value_Items_Available =  0.13842\n",
      "Statistics_Daily_Customer_Count =  3.96 \tp-value_Daily_Customer_Count =  0.13808\n",
      "Statistics_Store_Sales =  16.225 \t\tp-value_Store_Sales =  0.0003\n"
     ]
    }
   ],
   "source": [
    "# alpha = 0.05\n",
    "\n",
    "stat_1, p_1 = stats.normaltest(stores['Store_Area'])\n",
    "stat_2, p_2 = stats.normaltest(stores['Items_Available'])\n",
    "stat_3, p_3 = stats.normaltest(stores['Daily_Customer_Count'])\n",
    "stat_4, p_4 = stats.normaltest(stores['Store_Sales'])\n",
    "print('Statistics_Store_Area = ', round(stat_1, 3),  '\\t\\t\\tp-value_Store_Area = ', round(p_1, 5))\n",
    "print('Statistics_Items_Available = ', round(stat_2, 3),  '\\t\\tp-value_Items_Available = ', round(p_2, 5))\n",
    "print('Statistics_Daily_Customer_Count = ', round(stat_3, 3),  '\\tp-value_Daily_Customer_Count = ', round(p_3, 5))\n",
    "print('Statistics_Store_Sales = ', round(stat_4, 3),  '\\t\\tp-value_Store_Sales = ', round(p_4, 5))"
   ]
  },
  {
   "cell_type": "markdown",
   "id": "c4e0f347",
   "metadata": {},
   "source": [
    "Итоговый вывод следующий:\n",
    "1. Для признаков `Store_Area`, `Items_Available`, `Daily_Customer_Count` получившееся значения $p-value$ больше заданного уровня значимости $\\alpha = 0.05$, поэтому гипотеза $H_0$ для этих признаков принимается и они имееют нормальное рапределение.\n",
    "2. Для признака `Store_Sales` получившееся значение $p-value$ меньше заданного уровня значимости $\\alpha = 0.05$, поэтому гипотеза $H_0$ для этого признака не принимается. Признак `Store_Sales` не имеет нормального рапределения."
   ]
  },
  {
   "cell_type": "markdown",
   "id": "82428db5",
   "metadata": {},
   "source": [
    "#### 1.2 Взаимосвязь величин. Показатели корреляции. Корреляционный анализ."
   ]
  },
  {
   "cell_type": "markdown",
   "id": "2ec562bc",
   "metadata": {},
   "source": [
    "Посмотрим корреляцию признаков:"
   ]
  },
  {
   "cell_type": "code",
   "execution_count": 9,
   "id": "ca0365d0",
   "metadata": {},
   "outputs": [
    {
     "data": {
      "text/html": [
       "<div>\n",
       "<style scoped>\n",
       "    .dataframe tbody tr th:only-of-type {\n",
       "        vertical-align: middle;\n",
       "    }\n",
       "\n",
       "    .dataframe tbody tr th {\n",
       "        vertical-align: top;\n",
       "    }\n",
       "\n",
       "    .dataframe thead th {\n",
       "        text-align: right;\n",
       "    }\n",
       "</style>\n",
       "<table border=\"1\" class=\"dataframe\">\n",
       "  <thead>\n",
       "    <tr style=\"text-align: right;\">\n",
       "      <th></th>\n",
       "      <th>Store_Area</th>\n",
       "      <th>Items_Available</th>\n",
       "      <th>Daily_Customer_Count</th>\n",
       "      <th>Store_Sales</th>\n",
       "    </tr>\n",
       "  </thead>\n",
       "  <tbody>\n",
       "    <tr>\n",
       "      <th>Store_Area</th>\n",
       "      <td>1.000000</td>\n",
       "      <td>0.998891</td>\n",
       "      <td>-0.041423</td>\n",
       "      <td>0.097474</td>\n",
       "    </tr>\n",
       "    <tr>\n",
       "      <th>Items_Available</th>\n",
       "      <td>0.998891</td>\n",
       "      <td>1.000000</td>\n",
       "      <td>-0.040978</td>\n",
       "      <td>0.098849</td>\n",
       "    </tr>\n",
       "    <tr>\n",
       "      <th>Daily_Customer_Count</th>\n",
       "      <td>-0.041423</td>\n",
       "      <td>-0.040978</td>\n",
       "      <td>1.000000</td>\n",
       "      <td>0.008629</td>\n",
       "    </tr>\n",
       "    <tr>\n",
       "      <th>Store_Sales</th>\n",
       "      <td>0.097474</td>\n",
       "      <td>0.098849</td>\n",
       "      <td>0.008629</td>\n",
       "      <td>1.000000</td>\n",
       "    </tr>\n",
       "  </tbody>\n",
       "</table>\n",
       "</div>"
      ],
      "text/plain": [
       "                      Store_Area  Items_Available  Daily_Customer_Count  \\\n",
       "Store_Area              1.000000         0.998891             -0.041423   \n",
       "Items_Available         0.998891         1.000000             -0.040978   \n",
       "Daily_Customer_Count   -0.041423        -0.040978              1.000000   \n",
       "Store_Sales             0.097474         0.098849              0.008629   \n",
       "\n",
       "                      Store_Sales  \n",
       "Store_Area               0.097474  \n",
       "Items_Available          0.098849  \n",
       "Daily_Customer_Count     0.008629  \n",
       "Store_Sales              1.000000  "
      ]
     },
     "execution_count": 9,
     "metadata": {},
     "output_type": "execute_result"
    }
   ],
   "source": [
    "stores[['Store_Area', 'Items_Available', 'Daily_Customer_Count', 'Store_Sales']].corr()"
   ]
  },
  {
   "cell_type": "markdown",
   "id": "e2d3d2fa",
   "metadata": {},
   "source": [
    "Как видно из получившейся матрицы, у признаков `Store_Area` и `Items_Available` наблюдается наличие *линейной зависимости*, что, в принципе логично, при увеличении площади супермаркета - увеличивается и количество наименований товаров, которые там можно разместить. С другой стороны эти признаки не коррелируются с посещаемостью покупателей и продажами, так как продажи как выяснено выше не имеют нормальго распределения. "
   ]
  },
  {
   "cell_type": "markdown",
   "id": "548af335",
   "metadata": {},
   "source": [
    "Посмотрим ранговую корреляцию:"
   ]
  },
  {
   "cell_type": "code",
   "execution_count": 10,
   "id": "fbc91051",
   "metadata": {},
   "outputs": [
    {
     "data": {
      "text/html": [
       "<div>\n",
       "<style scoped>\n",
       "    .dataframe tbody tr th:only-of-type {\n",
       "        vertical-align: middle;\n",
       "    }\n",
       "\n",
       "    .dataframe tbody tr th {\n",
       "        vertical-align: top;\n",
       "    }\n",
       "\n",
       "    .dataframe thead th {\n",
       "        text-align: right;\n",
       "    }\n",
       "</style>\n",
       "<table border=\"1\" class=\"dataframe\">\n",
       "  <thead>\n",
       "    <tr style=\"text-align: right;\">\n",
       "      <th></th>\n",
       "      <th>Store_Area</th>\n",
       "      <th>Items_Available</th>\n",
       "      <th>Daily_Customer_Count</th>\n",
       "      <th>Store_Sales</th>\n",
       "    </tr>\n",
       "  </thead>\n",
       "  <tbody>\n",
       "    <tr>\n",
       "      <th>Store_Area</th>\n",
       "      <td>1.000000</td>\n",
       "      <td>0.971571</td>\n",
       "      <td>-0.024767</td>\n",
       "      <td>0.060132</td>\n",
       "    </tr>\n",
       "    <tr>\n",
       "      <th>Items_Available</th>\n",
       "      <td>0.971571</td>\n",
       "      <td>1.000000</td>\n",
       "      <td>-0.024281</td>\n",
       "      <td>0.061631</td>\n",
       "    </tr>\n",
       "    <tr>\n",
       "      <th>Daily_Customer_Count</th>\n",
       "      <td>-0.024767</td>\n",
       "      <td>-0.024281</td>\n",
       "      <td>1.000000</td>\n",
       "      <td>0.013662</td>\n",
       "    </tr>\n",
       "    <tr>\n",
       "      <th>Store_Sales</th>\n",
       "      <td>0.060132</td>\n",
       "      <td>0.061631</td>\n",
       "      <td>0.013662</td>\n",
       "      <td>1.000000</td>\n",
       "    </tr>\n",
       "  </tbody>\n",
       "</table>\n",
       "</div>"
      ],
      "text/plain": [
       "                      Store_Area  Items_Available  Daily_Customer_Count  \\\n",
       "Store_Area              1.000000         0.971571             -0.024767   \n",
       "Items_Available         0.971571         1.000000             -0.024281   \n",
       "Daily_Customer_Count   -0.024767        -0.024281              1.000000   \n",
       "Store_Sales             0.060132         0.061631              0.013662   \n",
       "\n",
       "                      Store_Sales  \n",
       "Store_Area               0.060132  \n",
       "Items_Available          0.061631  \n",
       "Daily_Customer_Count     0.013662  \n",
       "Store_Sales              1.000000  "
      ]
     },
     "execution_count": 10,
     "metadata": {},
     "output_type": "execute_result"
    }
   ],
   "source": [
    "stores[['Store_Area', 'Items_Available', 'Daily_Customer_Count', 'Store_Sales']].corr(method='kendall')"
   ]
  },
  {
   "cell_type": "markdown",
   "id": "2885d92c",
   "metadata": {},
   "source": [
    "Из получившейся матрицы видно, что картина не сильно изменилась по сравнению с расчетом по методу Пирсона, поэтому общий вывод можно сделать следующий:\n",
    "- Вероятно, что между признаками `Store_Area` и `Items_Available` есть линейная зависимость;\n",
    "- Несмотря на то, что в совокупности между признаками `Daily_Customer_Count` и `Store_Sales` нет линейной зависимости с признаками `Store_Area` и `Items_Available`, возможно есть нелинейная зависимость, которую не улавливают коэффициенты корреляции."
   ]
  },
  {
   "cell_type": "markdown",
   "id": "9e7a6edc",
   "metadata": {},
   "source": [
    "### Задача №2 "
   ]
  },
  {
   "cell_type": "markdown",
   "id": "9403803b",
   "metadata": {},
   "source": [
    "Проверим гипотезы, что признаки `Store_Area` и `Items_Available` имеют линейную зависимость и, применимости модели линейной регрессии к предсказаниям продаж супермаркетов, исходя из имеющихся признаков."
   ]
  },
  {
   "cell_type": "markdown",
   "id": "ae13ea35",
   "metadata": {},
   "source": [
    "#### 2.1 Уравнение регрессии"
   ]
  },
  {
   "cell_type": "markdown",
   "id": "ed04bf2f",
   "metadata": {},
   "source": [
    "Построим для признаков `Store_Area` и `Items_Available` модель линейной регрессии (парной регресии):"
   ]
  },
  {
   "cell_type": "code",
   "execution_count": 11,
   "id": "0deb65b5",
   "metadata": {},
   "outputs": [],
   "source": [
    "x1 = np.array(stores['Store_Area'])\n",
    "y1 = np.array(stores['Items_Available'])"
   ]
  },
  {
   "cell_type": "code",
   "execution_count": 12,
   "id": "b39ac75b",
   "metadata": {},
   "outputs": [
    {
     "data": {
      "text/plain": [
       "(3.96648569731974, 1.1970228485974073)"
      ]
     },
     "execution_count": 12,
     "metadata": {},
     "output_type": "execute_result"
    }
   ],
   "source": [
    "# Коэффициенты линейной регрессии\n",
    "\n",
    "b1 = (np.mean(x1 * y1) - np.mean(x1) * np.mean(y1)) / (np.mean(x1 ** 2) - np.mean(x1) ** 2)\n",
    "b0 = np.mean(y1) - b1 * np.mean(x1)\n",
    "\n",
    "b0, b1"
   ]
  },
  {
   "cell_type": "markdown",
   "id": "1589271a",
   "metadata": {},
   "source": [
    "Таким образом модель регрессии имеет вид:\n",
    "$$y_1 = 3.97 + 1.20 \\cdot x_1$$\n",
    "где\n",
    "- $x_1$ — площадь супермаркета,\n",
    "- $y_1$ — количество наименований товара.\n",
    "\n",
    "то есть с увеличением площади супермаркета на 1 квадратный ярд количество наименований товара возрастет на 1.20."
   ]
  },
  {
   "cell_type": "markdown",
   "id": "0d648349",
   "metadata": {},
   "source": [
    "Посмотрим полученные результаты на графике:"
   ]
  },
  {
   "cell_type": "code",
   "execution_count": 13,
   "id": "945acc60",
   "metadata": {},
   "outputs": [
    {
     "data": {
      "text/plain": [
       "Text(0, 0.5, 'Количество наименований товара')"
      ]
     },
     "execution_count": 13,
     "metadata": {},
     "output_type": "execute_result"
    },
    {
     "data": {
      "image/png": "[encoded data removed]",
      "text/plain": [
       "<Figure size 432x288 with 1 Axes>"
      ]
     },
     "metadata": {
      "needs_background": "light"
     },
     "output_type": "display_data"
    }
   ],
   "source": [
    "ox = x1\n",
    "oy = b0 + b1 * ox\n",
    "\n",
    "plt.scatter(x1, y1)\n",
    "plt.plot(ox, oy, color='red', alpha=0.5)\n",
    "\n",
    "plt.xlabel('Площадь супермаркета')\n",
    "plt.ylabel('Количество наименований товара')"
   ]
  },
  {
   "cell_type": "markdown",
   "id": "d819f4c1",
   "metadata": {},
   "source": [
    "Теперь попробуем построить модель регрессии, которая будет предсказывать продажи супермаркета в зависимости от его площади, количества наименований товара и посещаемости покупателей:"
   ]
  },
  {
   "cell_type": "code",
   "execution_count": 14,
   "id": "f6126639",
   "metadata": {},
   "outputs": [],
   "source": [
    "x2 = stores[['Store_Area', 'Items_Available', 'Daily_Customer_Count']].values\n",
    "y2 = stores['Store_Sales'].values"
   ]
  },
  {
   "cell_type": "code",
   "execution_count": 15,
   "id": "16f2458f",
   "metadata": {},
   "outputs": [
    {
     "data": {
      "text/plain": [
       "((896, 3), (896,))"
      ]
     },
     "execution_count": 15,
     "metadata": {},
     "output_type": "execute_result"
    }
   ],
   "source": [
    "x2.shape, y2.shape"
   ]
  },
  {
   "cell_type": "markdown",
   "id": "844c1cf0",
   "metadata": {},
   "source": [
    "К массиву `x2` добавляем столбец из $1$, соответствующий фиктивному фактору, чтобы избавиться от линейно зависимых признаков `Store_Area`, `Items_Available`:"
   ]
  },
  {
   "cell_type": "code",
   "execution_count": 16,
   "id": "43b4e4b2",
   "metadata": {},
   "outputs": [
    {
     "data": {
      "text/plain": [
       "array([[1.000e+00, 1.659e+03, 1.961e+03, 5.300e+02],\n",
       "       [1.000e+00, 1.461e+03, 1.752e+03, 2.100e+02],\n",
       "       [1.000e+00, 1.340e+03, 1.609e+03, 7.200e+02],\n",
       "       ...,\n",
       "       [1.000e+00, 1.200e+03, 1.436e+03, 1.060e+03],\n",
       "       [1.000e+00, 1.299e+03, 1.560e+03, 7.700e+02],\n",
       "       [1.000e+00, 1.174e+03, 1.429e+03, 1.110e+03]])"
      ]
     },
     "execution_count": 16,
     "metadata": {},
     "output_type": "execute_result"
    }
   ],
   "source": [
    "ones = np.ones((x2.shape[0], 1))\n",
    "x2 = np.hstack((ones, x2))\n",
    "x2"
   ]
  },
  {
   "cell_type": "code",
   "execution_count": 17,
   "id": "31a25054",
   "metadata": {},
   "outputs": [
    {
     "data": {
      "text/plain": [
       "(896, 4)"
      ]
     },
     "execution_count": 17,
     "metadata": {},
     "output_type": "execute_result"
    }
   ],
   "source": [
    "x2.shape"
   ]
  },
  {
   "cell_type": "code",
   "execution_count": 18,
   "id": "09c9c546",
   "metadata": {},
   "outputs": [
    {
     "data": {
      "text/plain": [
       "5.6384543368396826e+23"
      ]
     },
     "execution_count": 18,
     "metadata": {},
     "output_type": "execute_result"
    }
   ],
   "source": [
    "# Определитель матрицы  𝑋⊤𝑋\n",
    "\n",
    "XTX = x2.T.dot(x2)\n",
    "\n",
    "np.linalg.det(XTX)"
   ]
  },
  {
   "cell_type": "markdown",
   "id": "9abf301b",
   "metadata": {},
   "source": [
    "Определитель достаточно близок к нулю, поэтому вероятны проблемы с методом."
   ]
  },
  {
   "cell_type": "code",
   "execution_count": 19,
   "id": "b0164fff",
   "metadata": {},
   "outputs": [
    {
     "name": "stdout",
     "output_type": "stream",
     "text": [
      "[ 4.85677788e+04 -3.90355699e+01  3.82341546e+01  8.04613301e-01]\n"
     ]
    }
   ],
   "source": [
    "XTX_inv = np.linalg.inv(XTX)\n",
    "\n",
    "b = XTX_inv.dot(x2.T).dot(y2)\n",
    "\n",
    "print(b)"
   ]
  },
  {
   "cell_type": "code",
   "execution_count": 20,
   "id": "f107097d",
   "metadata": {},
   "outputs": [
    {
     "data": {
      "text/plain": [
       "(48567.77884482471,\n",
       " array([  0.        , -39.03556986,  38.23415464,   0.8046133 ]))"
      ]
     },
     "execution_count": 20,
     "metadata": {},
     "output_type": "execute_result"
    }
   ],
   "source": [
    "# Проверяем втроенным методом\n",
    "\n",
    "model = LinearRegression().fit(x2, y2)\n",
    "model.intercept_, model.coef_"
   ]
  },
  {
   "cell_type": "markdown",
   "id": "159fca9b",
   "metadata": {},
   "source": [
    "Таким образом модель регрессии имеет вид:\n",
    "$$y = 48567.78 -39.036 \\cdot x_1 + 38.234 \\cdot x_2 + 0.805 \\cdot x_3$$\n",
    "где\n",
    "- $x_1$ — площадь супермаркета,\n",
    "- $x_2$ — количество наименований товара,\n",
    "- $x_3$ — посещаемость покупателями."
   ]
  },
  {
   "cell_type": "markdown",
   "id": "2ed1aecb",
   "metadata": {},
   "source": [
    "Определим коэффициенты детерминации для полученных выше моделей:"
   ]
  },
  {
   "cell_type": "code",
   "execution_count": 21,
   "id": "9afc045e",
   "metadata": {},
   "outputs": [],
   "source": [
    "# 1-ая модель\n",
    "\n",
    "z1 = b0 + b1 * x1"
   ]
  },
  {
   "cell_type": "code",
   "execution_count": 22,
   "id": "2444408c",
   "metadata": {},
   "outputs": [],
   "source": [
    "def sum_of_squares(samples):\n",
    "    return ((samples - samples.mean()) ** 2).sum()"
   ]
  },
  {
   "cell_type": "code",
   "execution_count": 23,
   "id": "47a83675",
   "metadata": {},
   "outputs": [
    {
     "data": {
      "text/plain": [
       "0.9977827319395582"
      ]
     },
     "execution_count": 23,
     "metadata": {},
     "output_type": "execute_result"
    }
   ],
   "source": [
    "R1 = 1 - ((y1 - z1)**2).sum() / sum_of_squares(y1)\n",
    "R1"
   ]
  },
  {
   "cell_type": "markdown",
   "id": "cc36c95d",
   "metadata": {},
   "source": [
    "Коэффициент детерминации практически равен $1$, что означает, что практически $100 \\%$ дисперсии переменной $y_1$ учитывается или объясняется моделью (что лишь подтверждает выводы выше)."
   ]
  },
  {
   "cell_type": "code",
   "execution_count": 24,
   "id": "150747e8",
   "metadata": {},
   "outputs": [],
   "source": [
    "# 2-ая модель\n",
    "\n",
    "z2 = x2.dot(b)"
   ]
  },
  {
   "cell_type": "code",
   "execution_count": 25,
   "id": "c77c2bc1",
   "metadata": {},
   "outputs": [
    {
     "data": {
      "text/plain": [
       "0.0106480710451613"
      ]
     },
     "execution_count": 25,
     "metadata": {},
     "output_type": "execute_result"
    }
   ],
   "source": [
    "R2 = 1 - ((y2 - z2) ** 2).sum() / sum_of_squares(y2)\n",
    "R2"
   ]
  },
  {
   "cell_type": "markdown",
   "id": "d8dde8e1",
   "metadata": {},
   "source": [
    "Как видно, коэффициент детерминации для второй модели оказался очень низок. Выбранные признаки объясняют очень малый процент дисперсии переменной $y_2$ (что подтверждает выводы выше)."
   ]
  },
  {
   "cell_type": "markdown",
   "id": "51625f75",
   "metadata": {},
   "source": [
    "#### 2.2 Статистический анализ уравнения регрессии"
   ]
  },
  {
   "cell_type": "markdown",
   "id": "f429ca9e",
   "metadata": {},
   "source": [
    "Определим значимый уровень соответствия модели данным с помощью теста Фишера, где уровень значимости принимаем $\\alpha = 0.05$ и квантиль считаем с помощью функции `scipy.stats.f.ppf`:"
   ]
  },
  {
   "cell_type": "code",
   "execution_count": 26,
   "id": "bdcc1b50",
   "metadata": {},
   "outputs": [
    {
     "data": {
      "text/plain": [
       "(1, 894)"
      ]
     },
     "execution_count": 26,
     "metadata": {},
     "output_type": "execute_result"
    }
   ],
   "source": [
    "# 1-ая модель\n",
    "\n",
    "n = x1.shape[0]\n",
    "m = 1\n",
    "\n",
    "k1_1 = m\n",
    "k2_1 = n - m - 1\n",
    "\n",
    "k1_1, k2_1"
   ]
  },
  {
   "cell_type": "code",
   "execution_count": 27,
   "id": "7045d11b",
   "metadata": {},
   "outputs": [
    {
     "data": {
      "text/plain": [
       "3.8518814520547737"
      ]
     },
     "execution_count": 27,
     "metadata": {},
     "output_type": "execute_result"
    }
   ],
   "source": [
    "# Критическая область\n",
    "\n",
    "alpha = 0.05\n",
    "\n",
    "t_1 = stats.f.ppf(1 - alpha, k1_1, k2_1)\n",
    "t_1"
   ]
  },
  {
   "cell_type": "code",
   "execution_count": 28,
   "id": "d3214063",
   "metadata": {},
   "outputs": [
    {
     "data": {
      "text/plain": [
       "402304.88061792764"
      ]
     },
     "execution_count": 28,
     "metadata": {},
     "output_type": "execute_result"
    }
   ],
   "source": [
    "# Статистика\n",
    "\n",
    "F_1 = (R1 / k1_1) / ((1 - R1) / k2_1)\n",
    "F_1"
   ]
  },
  {
   "cell_type": "markdown",
   "id": "02c90309",
   "metadata": {},
   "source": [
    "Статистика попала в критическую область, 1-ое уравнение регрессии признаётся значимым. Таким образом можно сделать вывод, что признаки `Store_Area` и `Items_Available` имеют линейную зависимость. "
   ]
  },
  {
   "cell_type": "code",
   "execution_count": 29,
   "id": "f2660d39",
   "metadata": {},
   "outputs": [
    {
     "data": {
      "text/plain": [
       "(3, 892)"
      ]
     },
     "execution_count": 29,
     "metadata": {},
     "output_type": "execute_result"
    }
   ],
   "source": [
    "# 2-ая модель\n",
    "\n",
    "n = x2.shape[0]\n",
    "m = x2.shape[1] - 1  # убираем фиктивный столбец\n",
    "\n",
    "k1_2 = m\n",
    "k2_2 = n - m - 1\n",
    "\n",
    "k1_2, k2_2"
   ]
  },
  {
   "cell_type": "code",
   "execution_count": 30,
   "id": "19aa1fd2",
   "metadata": {},
   "outputs": [
    {
     "data": {
      "text/plain": [
       "2.6148829691472524"
      ]
     },
     "execution_count": 30,
     "metadata": {},
     "output_type": "execute_result"
    }
   ],
   "source": [
    "# Критическая область\n",
    "\n",
    "t_2 = stats.f.ppf(1 - alpha, k1_2, k2_2)\n",
    "t_2"
   ]
  },
  {
   "cell_type": "code",
   "execution_count": 31,
   "id": "1a1c05ca",
   "metadata": {},
   "outputs": [
    {
     "data": {
      "text/plain": [
       "3.200101364104664"
      ]
     },
     "execution_count": 31,
     "metadata": {},
     "output_type": "execute_result"
    }
   ],
   "source": [
    "# Статистика\n",
    "\n",
    "F_2 = (R2 / k1_2) / ((1 - R2) / k2_2)\n",
    "F_2"
   ]
  },
  {
   "cell_type": "code",
   "execution_count": 32,
   "id": "1ae7f56f",
   "metadata": {},
   "outputs": [
    {
     "name": "stdout",
     "output_type": "stream",
     "text": [
      "                            OLS Regression Results                            \n",
      "==============================================================================\n",
      "Dep. Variable:                      y   R-squared:                       0.011\n",
      "Model:                            OLS   Adj. R-squared:                  0.007\n",
      "Method:                 Least Squares   F-statistic:                     3.200\n",
      "Date:                Thu, 04 Aug 2022   Prob (F-statistic):             0.0228\n",
      "Time:                        10:30:29   Log-Likelihood:                -10004.\n",
      "No. Observations:                 896   AIC:                         2.002e+04\n",
      "Df Residuals:                     892   BIC:                         2.004e+04\n",
      "Df Model:                           3                                         \n",
      "Covariance Type:            nonrobust                                         \n",
      "==============================================================================\n",
      "                 coef    std err          t      P>|t|      [0.025      0.975]\n",
      "------------------------------------------------------------------------------\n",
      "const       4.857e+04   3908.828     12.425      0.000    4.09e+04    5.62e+04\n",
      "x1           -39.0356     48.590     -0.803      0.422    -134.400      56.329\n",
      "x2            38.2342     40.547      0.943      0.346     -41.344     117.813\n",
      "x3             0.8046      2.159      0.373      0.710      -3.433       5.042\n",
      "==============================================================================\n",
      "Omnibus:                       15.314   Durbin-Watson:                   1.939\n",
      "Prob(Omnibus):                  0.000   Jarque-Bera (JB):               10.990\n",
      "Skew:                           0.157   Prob(JB):                      0.00411\n",
      "Kurtosis:                       2.557   Cond. No.                     1.69e+04\n",
      "==============================================================================\n",
      "\n",
      "Notes:\n",
      "[1] Standard Errors assume that the covariance matrix of the errors is correctly specified.\n",
      "[2] The condition number is large, 1.69e+04. This might indicate that there are\n",
      "strong multicollinearity or other numerical problems.\n"
     ]
    }
   ],
   "source": [
    "model_ = sm.OLS(y2, x2)\n",
    "results = model_.fit()\n",
    "print(results.summary())"
   ]
  },
  {
   "cell_type": "markdown",
   "id": "74e80c03",
   "metadata": {},
   "source": [
    "Статистика попала в критическую область, можно сказать, что 2-ое уравнение регрессии можно признать значимым, однако в полученном `summary()` видно, что для признаков `Store_Area`, `Items_Available` и `Daily_Customer_Count` и `Store_Sales` $p-value$ больше заданного уровня значимости $\\alpha = 0.05$, соответственно признаки признаются *незначимыми* и не вносят вклада в модель. Таким образом можно сделать вывод, что\n",
    "- Модель линейной регрессии на используемом датасете не может быть применена для корректного прогнозирования продаж супермаркетов;\n",
    "- Необходимо привнести другие признаки, либо использовать другие типы моделей."
   ]
  },
  {
   "cell_type": "markdown",
   "id": "6e3eb081",
   "metadata": {},
   "source": [
    "### Задача №3"
   ]
  },
  {
   "cell_type": "code",
   "execution_count": 33,
   "id": "fb0d4a96",
   "metadata": {},
   "outputs": [],
   "source": [
    "# stores[stores[\"Items_Available\"] <= 1000] - 2 значения;\n",
    "\n",
    "# stores[(stores[\"Items_Available\"] > 1000) & (stores[\"Items_Available\"] <= 1500)] - 170 значений;\n",
    "\n",
    "# stores[(stores[\"Items_Available\"] > 1500) & (stores[\"Items_Available\"] <= 2000)] - 511 значений;\n",
    "\n",
    "# stores[stores[\"Items_Available\"] > 2000] - 213 значений."
   ]
  },
  {
   "cell_type": "markdown",
   "id": "baf09f25",
   "metadata": {},
   "source": [
    "Проведем однофакторный дисперсионный анализ для проверки гипотезы о равенстве средней посещаемости покупателями для групп супермаркетов с количеством наименований товаров:\n",
    "- от 1000 до 1500;\n",
    "- от 1500 до 2000;\n",
    "- свыше 2000."
   ]
  },
  {
   "cell_type": "markdown",
   "id": "17c6876b",
   "metadata": {},
   "source": [
    "Сделаем выборки:"
   ]
  },
  {
   "cell_type": "code",
   "execution_count": 34,
   "id": "cdbd5b83",
   "metadata": {},
   "outputs": [],
   "source": [
    "DCC_1000_1500 = stores[(stores[\"Items_Available\"] >= 1000) & (stores[\"Items_Available\"] <= 1500)][\"Daily_Customer_Count\"].values\n",
    "\n",
    "DCC_1500_2000 = stores[(stores[\"Items_Available\"] > 1500) & (stores[\"Items_Available\"] <= 2000)][\"Daily_Customer_Count\"].values\n",
    "\n",
    "DCC_2000 = stores[stores[\"Items_Available\"] > 2000][\"Daily_Customer_Count\"].values"
   ]
  },
  {
   "cell_type": "markdown",
   "id": "17519d16",
   "metadata": {},
   "source": [
    "Выборочные средние по каждой группе:"
   ]
  },
  {
   "cell_type": "code",
   "execution_count": 35,
   "id": "a73aa4e1",
   "metadata": {},
   "outputs": [
    {
     "data": {
      "text/plain": [
       "(804.4705882352941, 778.8258317025441, 788.4976525821596)"
      ]
     },
     "execution_count": 35,
     "metadata": {},
     "output_type": "execute_result"
    }
   ],
   "source": [
    "DCC_1000_1500_mean = DCC_1000_1500.mean()\n",
    "DCC_1500_2000_mean = DCC_1500_2000.mean()\n",
    "DCC_2000_mean = DCC_2000.mean()\n",
    "\n",
    "DCC_1000_1500_mean, DCC_1500_2000_mean, DCC_2000_mean"
   ]
  },
  {
   "cell_type": "markdown",
   "id": "034ec584",
   "metadata": {},
   "source": [
    "Видно, что средние значения посещаемости не сильно разнятся. Проверим статистическую значимость этого отличия:"
   ]
  },
  {
   "cell_type": "code",
   "execution_count": 36,
   "id": "1ce623eb",
   "metadata": {},
   "outputs": [
    {
     "data": {
      "text/plain": [
       "786.006711409396"
      ]
     },
     "execution_count": 36,
     "metadata": {},
     "output_type": "execute_result"
    }
   ],
   "source": [
    "DCC_concat = np.concatenate([DCC_1000_1500, DCC_1500_2000, DCC_2000])\n",
    "\n",
    "DCC_concat_mean = DCC_concat.mean()\n",
    "DCC_concat_mean"
   ]
  },
  {
   "cell_type": "markdown",
   "id": "ff341a74",
   "metadata": {},
   "source": [
    "Значения $S_b$ и $S_{w}$:"
   ]
  },
  {
   "cell_type": "code",
   "execution_count": 37,
   "id": "f5bafa88",
   "metadata": {},
   "outputs": [
    {
     "data": {
      "text/plain": [
       "(87097.39368105165, 62858217.100788996)"
      ]
     },
     "execution_count": 37,
     "metadata": {},
     "output_type": "execute_result"
    }
   ],
   "source": [
    "n1 = DCC_1000_1500.shape[0]\n",
    "n2 = DCC_1500_2000.shape[0]\n",
    "n3 = DCC_2000[0]\n",
    "\n",
    "\n",
    "S2_b = n1 * (DCC_1000_1500_mean - DCC_concat_mean) ** 2 + n2 * (DCC_1500_2000_mean - DCC_concat_mean) ** 2 + n3 * (DCC_2000_mean - DCC_concat_mean) ** 2\n",
    "\n",
    "S2_w = ((DCC_1000_1500 - DCC_1000_1500_mean) ** 2).sum() + ((DCC_1500_2000 - DCC_1500_2000_mean) ** 2).sum() + ((DCC_2000 - DCC_2000_mean) ** 2).sum()\n",
    "\n",
    "S2_b, S2_w"
   ]
  },
  {
   "cell_type": "code",
   "execution_count": 38,
   "id": "b3a9a74d",
   "metadata": {},
   "outputs": [
    {
     "name": "stdout",
     "output_type": "stream",
     "text": [
      "62945314.494470045\n"
     ]
    }
   ],
   "source": [
    "print(S2_b + S2_w)"
   ]
  },
  {
   "cell_type": "code",
   "execution_count": 39,
   "id": "4ebecb78",
   "metadata": {},
   "outputs": [
    {
     "name": "stdout",
     "output_type": "stream",
     "text": [
      "62943843.95973155\n"
     ]
    }
   ],
   "source": [
    "print(((DCC_concat - DCC_concat_mean) ** 2).sum())"
   ]
  },
  {
   "cell_type": "code",
   "execution_count": 40,
   "id": "7c60b96b",
   "metadata": {},
   "outputs": [],
   "source": [
    "# значения не строго равны, затрудняюсь найти объяснение, но полагаю, что можно принять как выполнение равенства"
   ]
  },
  {
   "cell_type": "markdown",
   "id": "c449496a",
   "metadata": {},
   "source": [
    "Оценки дисперсий:"
   ]
  },
  {
   "cell_type": "code",
   "execution_count": 41,
   "id": "2b316dda",
   "metadata": {},
   "outputs": [
    {
     "data": {
      "text/plain": [
       "(43548.69684052582, 55725.36977020301)"
      ]
     },
     "execution_count": 41,
     "metadata": {},
     "output_type": "execute_result"
    }
   ],
   "source": [
    "k = 3\n",
    "n = n1 + n2 + n3\n",
    "\n",
    "k1 = k - 1\n",
    "k2 = n - k\n",
    "\n",
    "sigma2_b = S2_b / k1\n",
    "sigma2_w = S2_w / k2\n",
    "\n",
    "sigma2_b, sigma2_w"
   ]
  },
  {
   "cell_type": "markdown",
   "id": "53480623",
   "metadata": {},
   "source": [
    "Значение статистики $T$:"
   ]
  },
  {
   "cell_type": "code",
   "execution_count": 42,
   "id": "cc8b9dcc",
   "metadata": {},
   "outputs": [
    {
     "data": {
      "text/plain": [
       "0.781487803851448"
      ]
     },
     "execution_count": 42,
     "metadata": {},
     "output_type": "execute_result"
    }
   ],
   "source": [
    "T = sigma2_b / sigma2_w\n",
    "T"
   ]
  },
  {
   "cell_type": "markdown",
   "id": "3bec29af",
   "metadata": {},
   "source": [
    "Зададим уровень значимости $\\alpha = 0.05$ и определяем критическое значение $F_{crit}$:"
   ]
  },
  {
   "cell_type": "code",
   "execution_count": 43,
   "id": "9b4f5fbd",
   "metadata": {},
   "outputs": [
    {
     "data": {
      "text/plain": [
       "3.0037024175415845"
      ]
     },
     "execution_count": 43,
     "metadata": {},
     "output_type": "execute_result"
    }
   ],
   "source": [
    "alpha = 0.05\n",
    "\n",
    "F_crit = stats.f.ppf(1 - alpha, k1, k2)\n",
    "F_crit"
   ]
  },
  {
   "cell_type": "code",
   "execution_count": 44,
   "id": "f51d8b82",
   "metadata": {},
   "outputs": [
    {
     "data": {
      "text/plain": [
       "0.4579721602475516"
      ]
     },
     "execution_count": 44,
     "metadata": {},
     "output_type": "execute_result"
    }
   ],
   "source": [
    "p = 1 - stats.f.cdf(T, k1, k2)\n",
    "p"
   ]
  },
  {
   "cell_type": "code",
   "execution_count": 45,
   "id": "8c48cc01",
   "metadata": {},
   "outputs": [
    {
     "data": {
      "text/plain": [
       "False"
      ]
     },
     "execution_count": 45,
     "metadata": {},
     "output_type": "execute_result"
    }
   ],
   "source": [
    "T > F_crit"
   ]
  },
  {
   "cell_type": "markdown",
   "id": "adfb9e03",
   "metadata": {},
   "source": [
    "Видим, что $T < F_{crit}$, поэтому заключаем, что отличие средней посещаемости не является статистически значимым, поэтому гипотеза о равенстве средней посещаемости покупателями принимается (что, в принципе, логично, если предположить, что количество \"нужных\" для покупателей наименований товаров в супермаркетах примерно одинаково и разница по остальным наименованиям не особо влияет на посещаемость, понятно, что на посещаемость могут влиять и множества других признаков (количество населения, удаленность, рэйтинг и т.д.))."
   ]
  },
  {
   "cell_type": "markdown",
   "id": "e0384174",
   "metadata": {},
   "source": [
    "Проверим втроенным методом:"
   ]
  },
  {
   "cell_type": "code",
   "execution_count": 46,
   "id": "2f9fc24d",
   "metadata": {},
   "outputs": [
    {
     "data": {
      "text/plain": [
       "F_onewayResult(statistic=0.606869991201628, pvalue=0.5452793644611091)"
      ]
     },
     "execution_count": 46,
     "metadata": {},
     "output_type": "execute_result"
    }
   ],
   "source": [
    "f_oneway(DCC_1000_1500, DCC_1500_2000, DCC_2000)"
   ]
  },
  {
   "cell_type": "code",
   "execution_count": 47,
   "id": "3ed856ca",
   "metadata": {},
   "outputs": [],
   "source": [
    "# значения немного отличаются от расчитанных вручную, но общий вывод совпадает"
   ]
  },
  {
   "cell_type": "code",
   "execution_count": null,
   "id": "430c832f",
   "metadata": {},
   "outputs": [],
   "source": []
  }
 ],
 "metadata": {
  "kernelspec": {
   "display_name": "Python 3 (ipykernel)",
   "language": "python",
   "name": "python3"
  },
  "language_info": {
   "codemirror_mode": {
    "name": "ipython",
    "version": 3
   },
   "file_extension": ".py",
   "mimetype": "text/x-python",
   "name": "python",
   "nbconvert_exporter": "python",
   "pygments_lexer": "ipython3",
   "version": "3.9.12"
  }
 },
 "nbformat": 4,
 "nbformat_minor": 5
}

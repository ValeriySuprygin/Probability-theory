{
 "cells": [
  {
   "cell_type": "markdown",
   "id": "88392fc9",
   "metadata": {},
   "source": [
    "### Задание 1"
   ]
  },
  {
   "cell_type": "markdown",
   "id": "dd290200",
   "metadata": {},
   "source": [
    "Даны значения величины заработной платы заемщиков банка (salary) и значения их поведенческого кредитного скоринга (scoring):\n",
    "\n",
    "salary = [35, 45, 190, 200, 40, 70, 54, 150, 120, 110]\n",
    "scoring = [401, 574, 874, 919, 459, 739, 653, 902, 746, 832]\n",
    "\n",
    "1. Найдите ковариацию этих двух величин: сначала без использования специальных функций, а затем с помощью функции numpy.cov. Полученные значения должны быть равны.\n",
    "2. Найдите коэффициент корреляции Пирсона: с помощью ковариации и средних квадратических отклонений двух признаков, а затем с помощью специальных функций из библиотек numpy и pandas."
   ]
  },
  {
   "cell_type": "code",
   "execution_count": 1,
   "id": "030196ca",
   "metadata": {},
   "outputs": [],
   "source": [
    "import numpy as np"
   ]
  },
  {
   "cell_type": "code",
   "execution_count": 2,
   "id": "919f9c51",
   "metadata": {},
   "outputs": [
    {
     "name": "stdout",
     "output_type": "stream",
     "text": [
      "[ 35  45 190 200  40  70  54 150 120 110] [401 574 874 919 459 739 653 902 746 832]\n"
     ]
    }
   ],
   "source": [
    "salary = np.array([35, 45, 190, 200, 40, 70, 54, 150, 120, 110])\n",
    "scoring = np.array([401, 574, 874, 919, 459, 739, 653, 902, 746, 832])\n",
    "\n",
    "print(salary, scoring)"
   ]
  },
  {
   "cell_type": "markdown",
   "id": "3f12a9d0",
   "metadata": {},
   "source": [
    "#### 1."
   ]
  },
  {
   "cell_type": "markdown",
   "id": "2e31eb45",
   "metadata": {},
   "source": [
    "Считаем ковариацию без специальных функций:"
   ]
  },
  {
   "cell_type": "code",
   "execution_count": 3,
   "id": "477a1573",
   "metadata": {},
   "outputs": [
    {
     "data": {
      "text/plain": [
       "10175.37777777778"
      ]
     },
     "execution_count": 3,
     "metadata": {},
     "output_type": "execute_result"
    }
   ],
   "source": [
    "M_salary = salary.mean()\n",
    "M_scoring = scoring.mean()\n",
    "\n",
    "cov = ((salary - M_salary) * (scoring - M_scoring)).sum() / (len(salary) - 1)\n",
    "cov"
   ]
  },
  {
   "cell_type": "markdown",
   "id": "ccb28da8",
   "metadata": {},
   "source": [
    "Считаем ковариацию с помощью функции numpy.cov:"
   ]
  },
  {
   "cell_type": "code",
   "execution_count": 4,
   "id": "11625104",
   "metadata": {},
   "outputs": [
    {
     "data": {
      "text/plain": [
       "array([[ 3882.93333333, 10175.37777778],\n",
       "       [10175.37777778, 33854.32222222]])"
      ]
     },
     "execution_count": 4,
     "metadata": {},
     "output_type": "execute_result"
    }
   ],
   "source": [
    "np.cov(salary, scoring)"
   ]
  },
  {
   "cell_type": "markdown",
   "id": "038ec313",
   "metadata": {},
   "source": [
    "Значение попарных ковариаций лежит вне диагонали и равно 10175.37777778, что совпадает с полученным при расчете без специальной функции."
   ]
  },
  {
   "cell_type": "markdown",
   "id": "e7e2e472",
   "metadata": {},
   "source": [
    "#### 2."
   ]
  },
  {
   "cell_type": "markdown",
   "id": "435925b9",
   "metadata": {},
   "source": [
    "Считаем коэффициент корреляции Пирсона с помощью ковариации и средних квадратических отклонений двух признаков:"
   ]
  },
  {
   "cell_type": "code",
   "execution_count": 5,
   "id": "21ba3558",
   "metadata": {},
   "outputs": [
    {
     "data": {
      "text/plain": [
       "0.8874900920739164"
      ]
     },
     "execution_count": 5,
     "metadata": {},
     "output_type": "execute_result"
    }
   ],
   "source": [
    "corr = cov / (salary.std(ddof = 1) * scoring.std(ddof = 1))\n",
    "corr"
   ]
  },
  {
   "cell_type": "markdown",
   "id": "88070e03",
   "metadata": {},
   "source": [
    "Считаем коэффициент корреляции Пирсона с помощью функции numpy.corrcoef:"
   ]
  },
  {
   "cell_type": "code",
   "execution_count": 6,
   "id": "5b479929",
   "metadata": {},
   "outputs": [
    {
     "data": {
      "text/plain": [
       "array([[1.        , 0.88749009],\n",
       "       [0.88749009, 1.        ]])"
      ]
     },
     "execution_count": 6,
     "metadata": {},
     "output_type": "execute_result"
    }
   ],
   "source": [
    "np.corrcoef(salary, scoring)"
   ]
  },
  {
   "cell_type": "markdown",
   "id": "ac155456",
   "metadata": {},
   "source": [
    "Значение попарных корреляций лежит вне диагонали и равно 0.88749009, что совпадает с полученным при расчете без специальной функции."
   ]
  },
  {
   "cell_type": "markdown",
   "id": "d6e40c8c",
   "metadata": {},
   "source": [
    "### Задание 2"
   ]
  },
  {
   "cell_type": "markdown",
   "id": "a647b772",
   "metadata": {},
   "source": [
    "Измерены значения IQ выборки студентов, обучающихся в местных технических вузах:\n",
    "\n",
    "131, 125, 115, 122, 131, 115, 107, 99, 125, 111\n",
    "\n",
    "Известно, что в генеральной совокупности IQ распределен нормально. Найдите доверительный интервал для математического ожидания с надежностью 0.95."
   ]
  },
  {
   "cell_type": "markdown",
   "id": "5e57e0f3",
   "metadata": {},
   "source": [
    "Из условия задачи дано:\n",
    "\n",
    "- генеральная совокупность IQ распределена нормально\n",
    "- значения IQ выборки студентов, обучающихся в местных технических вузах: 131, 125, 115, 122, 131, 115, 107, 99, 125, 111\n",
    "- $\\sigma$ - неизвестна\n",
    "- $p = 0.95$\n",
    "- $\\alpha = 1 - p = 0.05$"
   ]
  },
  {
   "cell_type": "markdown",
   "id": "a53a2d5c",
   "metadata": {},
   "source": [
    "Так как рапределение нормальное и дисперсия неизвестна, то для расчета доверительного интервала будем применять $t$ статистику:"
   ]
  },
  {
   "cell_type": "code",
   "execution_count": 7,
   "id": "1025b6f9",
   "metadata": {},
   "outputs": [],
   "source": [
    "from scipy import stats"
   ]
  },
  {
   "cell_type": "code",
   "execution_count": 8,
   "id": "c18d23da",
   "metadata": {},
   "outputs": [
    {
     "data": {
      "text/plain": [
       "(10, 118.1, 10.54566788359614)"
      ]
     },
     "execution_count": 8,
     "metadata": {},
     "output_type": "execute_result"
    }
   ],
   "source": [
    "IQ = np.array([131, 125, 115, 122, 131, 115, 107, 99, 125, 111])\n",
    "\n",
    "n = len(IQ)\n",
    "mean = IQ.mean()\n",
    "std = IQ.std(ddof=1)\n",
    "\n",
    "n, mean, std"
   ]
  },
  {
   "cell_type": "markdown",
   "id": "ce889665",
   "metadata": {},
   "source": [
    "Расчитываем квантили:"
   ]
  },
  {
   "cell_type": "code",
   "execution_count": 9,
   "id": "b0716118",
   "metadata": {},
   "outputs": [
    {
     "data": {
      "text/plain": [
       "(-2.262157162740992, 2.2621571627409915)"
      ]
     },
     "execution_count": 9,
     "metadata": {},
     "output_type": "execute_result"
    }
   ],
   "source": [
    "alpha = 0.05\n",
    "\n",
    "t1 = stats.t.ppf(alpha / 2, df=n - 1)\n",
    "t2 = stats.t.ppf(1 - alpha / 2, df=n - 1)\n",
    "\n",
    "t1, t2"
   ]
  },
  {
   "cell_type": "markdown",
   "id": "2c2735b3",
   "metadata": {},
   "source": [
    "Доверительный интервал для математического ожидания генеральной совокупности IQ с надежностью 0.95:"
   ]
  },
  {
   "cell_type": "code",
   "execution_count": 10,
   "id": "66cdacbb",
   "metadata": {},
   "outputs": [
    {
     "data": {
      "text/plain": [
       "(110.55608365158724, 125.64391634841274)"
      ]
     },
     "execution_count": 10,
     "metadata": {},
     "output_type": "execute_result"
    }
   ],
   "source": [
    "(mean + t1 * std / np.sqrt(n), mean + t2 * std / np.sqrt(n))"
   ]
  },
  {
   "cell_type": "markdown",
   "id": "0baa24d8",
   "metadata": {},
   "source": [
    "### Задание 3"
   ]
  },
  {
   "cell_type": "markdown",
   "id": "ce5dd4d8",
   "metadata": {},
   "source": [
    "Известно, что рост футболистов в сборной распределен нормально с известной дисперсией 25. На выборке объёма 27 выборочное среднее составило 174.2. Найдите доверительный интервал для математического ожидания с надежностью 0.95."
   ]
  },
  {
   "cell_type": "markdown",
   "id": "dc114ba9",
   "metadata": {},
   "source": [
    "Из условия задачи дано:\n",
    "\n",
    "- рост футболистов в сборной распределен нормально\n",
    "- $D(X) = 25$\n",
    "- $p = 0.95$\n",
    "- $\\alpha = 1 - p = 0.05$\n",
    "- $\\overline{X} = 174.2$\n",
    "- $n = 27$"
   ]
  },
  {
   "cell_type": "markdown",
   "id": "acf7b898",
   "metadata": {},
   "source": [
    "Так как рапределение нормальное и дисперсия известна, то для расчета доверительного интервала будем применять $Z$ статистику:"
   ]
  },
  {
   "cell_type": "code",
   "execution_count": 11,
   "id": "b80b60f6",
   "metadata": {},
   "outputs": [],
   "source": [
    "mean = 174.2\n",
    "sigma = np.sqrt(25)\n",
    "n = 27\n",
    "alpha = 0.05"
   ]
  },
  {
   "cell_type": "markdown",
   "id": "aeedfdb5",
   "metadata": {},
   "source": [
    "Расчитываем квантили:"
   ]
  },
  {
   "cell_type": "code",
   "execution_count": 12,
   "id": "8251b797",
   "metadata": {},
   "outputs": [
    {
     "data": {
      "text/plain": [
       "(-1.9599639845400545, 1.959963984540054)"
      ]
     },
     "execution_count": 12,
     "metadata": {},
     "output_type": "execute_result"
    }
   ],
   "source": [
    "q1 = stats.norm.ppf(alpha / 2)\n",
    "q2 = stats.norm.ppf(1 - alpha / 2)\n",
    "\n",
    "q1, q2"
   ]
  },
  {
   "cell_type": "markdown",
   "id": "bf843dad",
   "metadata": {},
   "source": [
    "Доверительный интервал для математического ожидания роста футболистов с надежностью 0.95:"
   ]
  },
  {
   "cell_type": "code",
   "execution_count": 13,
   "id": "0c511169",
   "metadata": {},
   "outputs": [
    {
     "data": {
      "text/plain": [
       "(172.3140237765397, 176.08597622346028)"
      ]
     },
     "execution_count": 13,
     "metadata": {},
     "output_type": "execute_result"
    }
   ],
   "source": [
    "(mean + q1 * (sigma / (n ** 0.5)), mean + q2 * (sigma / (n ** 0.5)))"
   ]
  },
  {
   "cell_type": "code",
   "execution_count": null,
   "id": "36d88223",
   "metadata": {},
   "outputs": [],
   "source": []
  }
 ],
 "metadata": {
  "kernelspec": {
   "display_name": "Python 3 (ipykernel)",
   "language": "python",
   "name": "python3"
  },
  "language_info": {
   "codemirror_mode": {
    "name": "ipython",
    "version": 3
   },
   "file_extension": ".py",
   "mimetype": "text/x-python",
   "name": "python",
   "nbconvert_exporter": "python",
   "pygments_lexer": "ipython3",
   "version": "3.9.12"
  }
 },
 "nbformat": 4,
 "nbformat_minor": 5
}

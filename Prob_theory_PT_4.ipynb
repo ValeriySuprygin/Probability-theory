{
 "cells": [
  {
   "cell_type": "markdown",
   "id": "7d6ad29e",
   "metadata": {},
   "source": [
    "### Задание 1"
   ]
  },
  {
   "cell_type": "markdown",
   "id": "17449075",
   "metadata": {},
   "source": [
    "О непрерывной равномерно распределенной случайной величине B известно, что ее дисперсия равна 0.2. Можно ли найти правую границу величины B и ее среднее значение зная, что левая граница равна 0.5? Если да, найдите ее."
   ]
  },
  {
   "cell_type": "markdown",
   "id": "9d57091a",
   "metadata": {},
   "source": [
    "По условию задачи дано: величина $B$ - непрерывная равномерно распределенная случайная величина, с параметрами: $D(X) = 0.2$, $a = 0.5$"
   ]
  },
  {
   "cell_type": "markdown",
   "id": "933afe1f",
   "metadata": {},
   "source": [
    "В этом случае дисперсия выражается по формуле: $$D(X) = \\dfrac{(b - a)^2}{12}$$"
   ]
  },
  {
   "cell_type": "markdown",
   "id": "9e686f33",
   "metadata": {},
   "source": [
    "Поскольку в формуле для определения дисперсии только один неизвестный параметр - $b$ - левая граница, то его вычленить путем преобразования: $$D(X) = \\dfrac{(b - a)^2}{12} = {(b - a)^2} = D(X) \\cdot 12$$,\n",
    "$$b = \\sqrt{D(X) \\cdot 12} + a$$"
   ]
  },
  {
   "cell_type": "code",
   "execution_count": 1,
   "id": "9f9d8b5f",
   "metadata": {},
   "outputs": [
    {
     "data": {
      "text/plain": [
       "2.049193338482967"
      ]
     },
     "execution_count": 1,
     "metadata": {},
     "output_type": "execute_result"
    }
   ],
   "source": [
    "b = (0.2 * 12) ** 0.5 + 0.5\n",
    "b "
   ]
  },
  {
   "cell_type": "markdown",
   "id": "4f255e36",
   "metadata": {},
   "source": [
    "Среднее значение величины $B$ - это мат ожидание, которое вычисляется по формуле: $$M(X) = \\dfrac{a + b}{2}$$"
   ]
  },
  {
   "cell_type": "code",
   "execution_count": 2,
   "id": "ef4e4302",
   "metadata": {},
   "outputs": [
    {
     "data": {
      "text/plain": [
       "1.2745966692414834"
      ]
     },
     "execution_count": 2,
     "metadata": {},
     "output_type": "execute_result"
    }
   ],
   "source": [
    "M_X = (0.5 + b) / 2\n",
    "M_X"
   ]
  },
  {
   "cell_type": "markdown",
   "id": "38f1cdff",
   "metadata": {},
   "source": [
    "### Задание 2"
   ]
  },
  {
   "cell_type": "markdown",
   "id": "c22329a0",
   "metadata": {},
   "source": [
    "Рост взрослого населения города `X` имеет нормальное распределение, причем, средний рост равен 174 см, а среднее квадратическое отклонение равно 8 см. посчитайте, какова вероятность того, что случайным образом выбранный взрослый человек имеет рост:\n",
    "\n",
    "1. больше 182 см?\n",
    "2. больше 190 см?\n",
    "3. от 166 см до 190 см?\n",
    "4. от 166 см до 182 см?\n",
    "5. от 158 см до 190 см?\n",
    "6. не выше 150 см или не ниже 190 см?\n",
    "7. не выше 150 см или не ниже 198 см?\n",
    "8. ниже 166 см?\n",
    "\n",
    "Задачу можно решить двумя способами: без использования сторонних библиотек (`numpy`, `scipy`, `pandas` и пр.), а затем проверить себя с помощью встроенных функций."
   ]
  },
  {
   "cell_type": "markdown",
   "id": "a3c51ffa",
   "metadata": {},
   "source": [
    "По условиям задачи дано:\n",
    "- рост взрослого населения имеет нормальное распределение, то есть для нахождения вероятностей будем применять соответствующую функцию распределения вероятностей и применимые правила (cdf и правила 2-х, 3-х сигм);\n",
    "- $\\mu = 174$;\n",
    "- $\\sigma = 8$\n"
   ]
  },
  {
   "cell_type": "markdown",
   "id": "b2f988d6",
   "metadata": {},
   "source": [
    "Если я все правильно понял, применим правила следующим образом:\n",
    "\n",
    "* Интервал от $\\mu - \\sigma$ до $\\mu + \\sigma$ содержит около 0.683 вероятностной массы, отсюда оставшаяся вероятностная масса равна 1 - 0.683 = 0.317, а так как распределение нормальное, то можно принять, что вероятности попадания случайной непрерывной величины в интервалы $X < \\mu - \\sigma$ или $X > \\mu + \\sigma$ равны и составляют половину от оставшейся вероятностной массы, то есть $P(X < \\mu - \\sigma) = P(X > \\mu + \\sigma)$ = 0.317 / 2 = 0.1585. Тоже справедливо и для правил 2-х и 3-х сигм.\n",
    "* Интервал от $\\mu - 2\\sigma$ до $\\mu + 2\\sigma$ — около 0.954 массы. $P(X < \\mu - 2\\sigma) = P(X > \\mu + 2\\sigma)$ = 0.046 / 2 = 0.023\n",
    "* Интервал от $\\mu - 3\\sigma$ до $\\mu + 3\\sigma$ — около 0.997 массы. $P(X < \\mu - 3\\sigma) = P(X > \\mu + 3\\sigma)$ = 0.003 / 2 = 0.0015"
   ]
  },
  {
   "cell_type": "markdown",
   "id": "1289736b",
   "metadata": {},
   "source": [
    "Расчитаем интервалы по данным задачи:\n",
    "\n",
    "1. Интервал от $\\mu - \\sigma$ до $\\mu + \\sigma$: 174 - 8, 174 + 8 -> от 166 до 182;\n",
    "2. Интервал от $\\mu - 2\\sigma$ до $\\mu + 2\\sigma$: 174 - 2 * 8, 174 + 2 * 8 -> от 158 до 190;\n",
    "3. Интервал от $\\mu - 3\\sigma$ до $\\mu + 3\\sigma$: 174 - 3 * 8, 174 + 3 * 8 -> от 150 до 198;"
   ]
  },
  {
   "cell_type": "markdown",
   "id": "83d47dac",
   "metadata": {},
   "source": [
    "Теперь можно определить искомые вероятности:\n",
    "\n",
    "1. больше 182 см (P_182_X_sigma) - Х попадает в интервал оставшейся вероятностной массы от расчетного интервала №1, таким образом вероятность равна 0.1585.\n",
    "2. больше 190 см (P_190_X_sigma) - Х попадает в интервал оставшейся вероятностной массы от расчетного интервала №2, таким образом вероятность равна 0.023.\n",
    "3. от 166 см до 190 см (P_166_X_190_sigma) - так как здесь затрагиваются 2 интервала - №1 и №2, то считаем следующим образом: вычитаем из вероятности интервала №2 вероятность интервала №1, делим остаток на 2 и этот остаток прибавляем к вероятности интервала №1, таким образом вероятность равна 0.8185.\n",
    "4. от 166 см до 182 см (P_166_X_182_sigma) - Х попадает в интервал №1 вероятностной массы, таким образом вероятность равна 0.683.\n",
    "5. от 158 см до 190 см (P_158_X_190_sigma) - Х попадает в интервал №2 вероятностной массы, таким образом вероятность равна 0.954.\n",
    "6. не выше 150 см или не ниже 190 см (P_X_150_190_X_sigma) - Х попадает в интервал оставшейся вероятностной массы от расчетного интервала №3 ИЛИ интервал оставшейся вероятностной массы от расчетного интервала №2, таким образом вероятность равна 0.15% + 2.3% = 0.0245.\n",
    "7. не выше 150 см или не ниже 198 см (P_X_150_198_X_sigma) - Х попадает в оба интервала оставшейся вероятностной массы от расчетного интервала №3, таким образом вероятность равна 0.003.\n",
    "8. ниже 166 см (P_X_166_sigma) - Х попадает в интервал оставшейся вероятностной массы от расчетного интервала №1, таким образом вероятность равна 0.1585.\n",
    "\n",
    "Итоговые вероятности расчитанные по правилам сигм:"
   ]
  },
  {
   "cell_type": "code",
   "execution_count": 3,
   "id": "a4b0ab43",
   "metadata": {},
   "outputs": [],
   "source": [
    "P_182_X_sigma = 0.1585\n",
    "P_190_X_sigma = 0.023\n",
    "P_166_X_190_sigma = 0.8185\n",
    "P_166_X_182_sigma = 0.683\n",
    "P_158_X_190_sigma = 0.954\n",
    "P_X_150_190_X_sigma = 0.0245\n",
    "P_X_150_198_X_sigma = 0.003\n",
    "P_X_166_sigma = 0.1585"
   ]
  },
  {
   "cell_type": "markdown",
   "id": "b79833fb",
   "metadata": {},
   "source": [
    "Теперь расчитаем с помощью функции распределения вероятностей cdf, где $\\mu = 174$ и $\\sigma = 8$ - это параметры loc и scale для соответственно. Для подсчета вероятностей разберем условия:\n",
    "\n",
    "1. рост больше 182 см - $P(X > 182) = 1 - P(X < 182) = 1 - cdf(182)$\n",
    "2. рост больше 190 см - $P(X > 190) = 1 - P(X < 190) = 1 - cdf(190)$\n",
    "3. рост от 166 см до 190 см - $P(166 < X < 190) = P(X < 190) - P(X < 166) = cdf(190) - cdf(166)$\n",
    "4. рост от 166 см до 182 см - $P(166 < X < 182) = P(X < 182) - P(X < 166) = cdf(182) - cdf(166)$\n",
    "5. рост от 158 см до 190 см - $P(158 < X < 190) = P(X < 190) - P(X < 158) = cdf(190) - cdf(158)$\n",
    "6. рост не выше 150 см или не ниже 190 см - $P(X < 150 \\text{ } ИЛИ \\text{ } X > 190) = P(X < 150) + 1 - P(X < 190) = cdf(150) + 1 - cdf(190)$\n",
    "7. рост не выше 150 см или не ниже 198 см - $P(X < 150 \\text{ } ИЛИ \\text{ } X > 198) = P(X < 150) + 1 - P(X < 198) = cdf(150) + 1 - cdf(198)$\n",
    "8. рост ниже 166 см - $P(X < 166) = P(X < 166) = cdf(166)$"
   ]
  },
  {
   "cell_type": "markdown",
   "id": "514afa5a",
   "metadata": {},
   "source": [
    "#### Результаты расчета вероятностей методом scipy.stats.norm.cdf и сравнение с полученными по правилам сигм"
   ]
  },
  {
   "cell_type": "code",
   "execution_count": 4,
   "id": "dee20f31",
   "metadata": {},
   "outputs": [],
   "source": [
    "from scipy import stats"
   ]
  },
  {
   "cell_type": "code",
   "execution_count": 5,
   "id": "634c4bce",
   "metadata": {},
   "outputs": [],
   "source": [
    "norm = stats.norm(loc=174, scale=8)"
   ]
  },
  {
   "cell_type": "markdown",
   "id": "cc6e0ad2",
   "metadata": {},
   "source": [
    "#### 1."
   ]
  },
  {
   "cell_type": "code",
   "execution_count": 6,
   "id": "4cb692c3",
   "metadata": {},
   "outputs": [
    {
     "name": "stdout",
     "output_type": "stream",
     "text": [
      "P_182_X:\t0.1587\n",
      "P_182_X_sigma:  0.1585\n"
     ]
    }
   ],
   "source": [
    "P_182_X = 1 - norm.cdf(182)\n",
    "print(f\"P_182_X:\\t{round(P_182_X, 4)}\\nP_182_X_sigma:  {P_182_X_sigma}\")"
   ]
  },
  {
   "cell_type": "markdown",
   "id": "d4e6e606",
   "metadata": {},
   "source": [
    "#### 2."
   ]
  },
  {
   "cell_type": "code",
   "execution_count": 7,
   "id": "545c4371",
   "metadata": {},
   "outputs": [
    {
     "name": "stdout",
     "output_type": "stream",
     "text": [
      "P_190_X:\t0.023\n",
      "P_190_X_sigma:  0.023\n"
     ]
    }
   ],
   "source": [
    "P_190_X = 1 - norm.cdf(190)\n",
    "print(f\"P_190_X:\\t{round(P_190_X, 3)}\\nP_190_X_sigma:  {P_190_X_sigma}\")"
   ]
  },
  {
   "cell_type": "markdown",
   "id": "dbe1655a",
   "metadata": {},
   "source": [
    "#### 3."
   ]
  },
  {
   "cell_type": "code",
   "execution_count": 8,
   "id": "a4476911",
   "metadata": {},
   "outputs": [
    {
     "name": "stdout",
     "output_type": "stream",
     "text": [
      "P_166_X_190:\t   0.8186\n",
      "P_166_X_190_sigma: 0.8185\n"
     ]
    }
   ],
   "source": [
    "P_166_X_190 = norm.cdf(190) - norm.cdf(166)\n",
    "print(f\"P_166_X_190:\\t   {round(P_166_X_190, 4)}\\nP_166_X_190_sigma: {P_166_X_190_sigma}\")"
   ]
  },
  {
   "cell_type": "markdown",
   "id": "4bcdbdad",
   "metadata": {},
   "source": [
    "#### 4."
   ]
  },
  {
   "cell_type": "code",
   "execution_count": 9,
   "id": "6e53d395",
   "metadata": {},
   "outputs": [
    {
     "name": "stdout",
     "output_type": "stream",
     "text": [
      "P_166_X_182:\t   0.683\n",
      "P_166_X_182_sigma: 0.683\n"
     ]
    }
   ],
   "source": [
    "P_166_X_182 = norm.cdf(182) - norm.cdf(166)\n",
    "print(f\"P_166_X_182:\\t   {round(P_166_X_182, 3)}\\nP_166_X_182_sigma: {P_166_X_182_sigma}\")"
   ]
  },
  {
   "cell_type": "markdown",
   "id": "b13c6294",
   "metadata": {},
   "source": [
    "#### 5."
   ]
  },
  {
   "cell_type": "code",
   "execution_count": 10,
   "id": "812d4ab5",
   "metadata": {},
   "outputs": [
    {
     "name": "stdout",
     "output_type": "stream",
     "text": [
      "P_158_X_190:\t   0.954\n",
      "P_158_X_190_sigma: 0.954\n"
     ]
    }
   ],
   "source": [
    "P_158_X_190 = norm.cdf(190) - norm.cdf(158)\n",
    "print(f\"P_158_X_190:\\t   {round(P_158_X_190, 3)}\\nP_158_X_190_sigma: {P_158_X_190_sigma}\")"
   ]
  },
  {
   "cell_type": "markdown",
   "id": "bb88a441",
   "metadata": {},
   "source": [
    "#### 6."
   ]
  },
  {
   "cell_type": "code",
   "execution_count": 11,
   "id": "ad3025eb",
   "metadata": {},
   "outputs": [
    {
     "name": "stdout",
     "output_type": "stream",
     "text": [
      "P_X_150_190_X:\t     0.0241\n",
      "P_X_150_190_X_sigma: 0.0245\n"
     ]
    }
   ],
   "source": [
    "P_X_150_190_X = norm.cdf(150) + P_190_X\n",
    "print(f\"P_X_150_190_X:\\t     {round(P_X_150_190_X, 4)}\\nP_X_150_190_X_sigma: {P_X_150_190_X_sigma}\")"
   ]
  },
  {
   "cell_type": "markdown",
   "id": "83e9528d",
   "metadata": {},
   "source": [
    "#### 7."
   ]
  },
  {
   "cell_type": "code",
   "execution_count": 12,
   "id": "189294d6",
   "metadata": {},
   "outputs": [
    {
     "name": "stdout",
     "output_type": "stream",
     "text": [
      "P_X_150_198_X:\t     0.003\n",
      "P_X_150_198_X_sigma: 0.003\n"
     ]
    }
   ],
   "source": [
    "P_X_150_198_X = norm.cdf(150) + (1 - norm.cdf(198))\n",
    "print(f\"P_X_150_198_X:\\t     {round(P_X_150_198_X, 3)}\\nP_X_150_198_X_sigma: {P_X_150_198_X_sigma}\")"
   ]
  },
  {
   "cell_type": "markdown",
   "id": "10faec14",
   "metadata": {},
   "source": [
    "#### 8."
   ]
  },
  {
   "cell_type": "code",
   "execution_count": 13,
   "id": "2790adc0",
   "metadata": {},
   "outputs": [
    {
     "name": "stdout",
     "output_type": "stream",
     "text": [
      "P_X_166:\t0.1587\n",
      "P_X_166_sigma:  0.1585\n"
     ]
    }
   ],
   "source": [
    "P_X_166 = norm.cdf(166)\n",
    "print(f\"P_X_166:\\t{round(P_X_166, 4)}\\nP_X_166_sigma:  {P_X_166_sigma}\")"
   ]
  },
  {
   "cell_type": "markdown",
   "id": "95637366",
   "metadata": {},
   "source": [
    "### Задание 3"
   ]
  },
  {
   "cell_type": "markdown",
   "id": "12ec1b57",
   "metadata": {},
   "source": [
    "Коробки с шоколадом упаковываются автоматически. Их средняя масса равна 1.06 кг. Известно, что 5% коробок имеют массу, меньшую 1 кг. Найдите: а) среднее квадратическое отклонение массы коробки, б) процент коробок, имеющих массу больше 1.1 кг.\n",
    "\n",
    "_Подсказка_. 1. Можно считать, что распределение массы коробки нормальное. 2. Найдите такое значение `scale`, для которого значение `cdf(x=1, loc=1.06, scale=scale)` близко к 0.05. Точности 0.0001 будет достаточно."
   ]
  },
  {
   "cell_type": "markdown",
   "id": "0b0a5363",
   "metadata": {},
   "source": [
    "По условиям задачи дано:\n",
    "\n",
    "* распределение масс коробок - нормальное;\n",
    "* $\\mu = 1.06$;\n",
    "* $p1 = P(X < 1) = 0.05$;\n",
    "* Точность для $\\sigma = 0.0001$."
   ]
  },
  {
   "cell_type": "markdown",
   "id": "35b01d46",
   "metadata": {},
   "source": [
    "#### а)"
   ]
  },
  {
   "cell_type": "markdown",
   "id": "cbfd138a",
   "metadata": {},
   "source": [
    "Подбор $\\sigma$ сделаем в цикле:"
   ]
  },
  {
   "cell_type": "code",
   "execution_count": 14,
   "id": "d52e8c5a",
   "metadata": {},
   "outputs": [
    {
     "name": "stdout",
     "output_type": "stream",
     "text": [
      "Сигма равна: 0.0365, при вероятности равной: 0.05010508110149503\n"
     ]
    }
   ],
   "source": [
    "p1 = 0\n",
    "i = 0.0001\n",
    "while p1 < 0.05:\n",
    "    i += 0.0001\n",
    "    p1 = stats.norm.cdf(1, loc=1.06, scale=i)\n",
    "print(f\"Сигма равна: {round(i, 4)}, при вероятности равной: {p1}\")"
   ]
  },
  {
   "cell_type": "markdown",
   "id": "409a60dd",
   "metadata": {},
   "source": [
    "#### б)"
   ]
  },
  {
   "cell_type": "code",
   "execution_count": 15,
   "id": "129731cb",
   "metadata": {},
   "outputs": [
    {
     "data": {
      "text/plain": [
       "0.13656336797447755"
      ]
     },
     "execution_count": 15,
     "metadata": {},
     "output_type": "execute_result"
    }
   ],
   "source": [
    "p2 = stats.norm.cdf(1.1, loc=1.06, scale=0.0365)\n",
    "1 - p2"
   ]
  },
  {
   "cell_type": "code",
   "execution_count": null,
   "id": "b1ceb99d",
   "metadata": {},
   "outputs": [],
   "source": []
  }
 ],
 "metadata": {
  "kernelspec": {
   "display_name": "Python 3 (ipykernel)",
   "language": "python",
   "name": "python3"
  },
  "language_info": {
   "codemirror_mode": {
    "name": "ipython",
    "version": 3
   },
   "file_extension": ".py",
   "mimetype": "text/x-python",
   "name": "python",
   "nbconvert_exporter": "python",
   "pygments_lexer": "ipython3",
   "version": "3.9.12"
  }
 },
 "nbformat": 4,
 "nbformat_minor": 5
}

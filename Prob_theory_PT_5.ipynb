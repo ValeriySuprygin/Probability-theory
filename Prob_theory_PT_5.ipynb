{
 "cells": [
  {
   "cell_type": "markdown",
   "id": "e1eed4d9",
   "metadata": {},
   "source": [
    "### Задание 1"
   ]
  },
  {
   "cell_type": "markdown",
   "id": "72951ace",
   "metadata": {},
   "source": [
    "Известно, что генеральная совокупность распределена нормально с известным средним квадратическим отклонением 16. Найти доверительный интервал для оценки математического ожидания `mu` с надёжностью 0.95 (доверительная информация), если выборочное среднее равно 80, а объём равен 256."
   ]
  },
  {
   "cell_type": "markdown",
   "id": "baea8881",
   "metadata": {},
   "source": [
    "Из условия задачи дано:\n",
    "\n",
    "- генеральная совокупность распределена нормально\n",
    "- $\\sigma = 16$\n",
    "- $p = 0.95$\n",
    "- $\\alpha = 1 - p = 0.05$\n",
    "- $\\overline{X} = 80$\n",
    "- $n = 256$"
   ]
  },
  {
   "cell_type": "markdown",
   "id": "28c4fd0b",
   "metadata": {},
   "source": [
    "Поскольку $\\sigma$ известна, то для расчета доверительного интервала для $\\mu$ используем статистику $Z$ и считаем по следующей формуле:\n",
    "\n",
    "<center>\n",
    "    <div style=\"width: 350px;border:1px solid black;\">\n",
    "        $P \\left( \\overline{X} + t_{\\alpha / 2} \\cdot \\dfrac{\\sigma}{\\sqrt{n}} \\leq \\mu \\leq \\overline{X} + t_{1 - \\alpha / 2} \\cdot \\dfrac{\\sigma}{\\sqrt{n}} \\right) = p$\n",
    "    </div>\n",
    "</center>"
   ]
  },
  {
   "cell_type": "code",
   "execution_count": 1,
   "id": "419e1374",
   "metadata": {},
   "outputs": [],
   "source": [
    "from scipy import stats"
   ]
  },
  {
   "cell_type": "code",
   "execution_count": 2,
   "id": "b66bfba7",
   "metadata": {},
   "outputs": [
    {
     "data": {
      "text/plain": [
       "(78.04003601545995, 81.95996398454005)"
      ]
     },
     "execution_count": 2,
     "metadata": {},
     "output_type": "execute_result"
    }
   ],
   "source": [
    "sigma = 16\n",
    "alpha = 0.05\n",
    "mean = 80\n",
    "n = 256\n",
    "\n",
    "t1 = stats.norm.ppf(alpha / 2)\n",
    "t2 = stats.norm.ppf(1 - alpha / 2)\n",
    "\n",
    "(mean + t1 * (sigma / pow(n, 0.5)), mean + t2 * (sigma / pow(n, 0.5)))"
   ]
  },
  {
   "cell_type": "markdown",
   "id": "640bd3ae",
   "metadata": {},
   "source": [
    "### Задание 2"
   ]
  },
  {
   "cell_type": "markdown",
   "id": "14ab44bb",
   "metadata": {},
   "source": [
    "Продавец утверждает, что средний вес пачки печенья составляет 200 г. Из партии извлечена выборка из 10 пачек. Вес каждой пачки составляет:\n",
    "```\n",
    "202, 203, 199, 197, 195, 201, 200, 204, 194, 190\n",
    "```\n",
    "Известно, что их веса распределены нормально. \n",
    "1. Верно ли утверждение продавца, если учитывать, что уровень значимости равен 1%? \n",
    "2. Найдите P-значение для данного теста."
   ]
  },
  {
   "cell_type": "markdown",
   "id": "6aefb661",
   "metadata": {},
   "source": [
    "Из условия задачи дано:\n",
    "\n",
    "- веса пачек печенья распределены нормально\n",
    "- гипотеза $H_0$, что $\\mu_0 = 200$\n",
    "- $\\sigma$ - неизвестна\n",
    "- $\\alpha = 0.01$\n",
    "- выборка: 202, 203, 199, 197, 195, 201, 200, 204, 194, 190\n",
    "- $n = 10$"
   ]
  },
  {
   "cell_type": "markdown",
   "id": "99ee030d",
   "metadata": {},
   "source": [
    "Поскольку $\\sigma$ неизвестна, то будем применять $t$ статистику."
   ]
  },
  {
   "cell_type": "markdown",
   "id": "75a82f9b",
   "metadata": {},
   "source": [
    "#### 1."
   ]
  },
  {
   "cell_type": "code",
   "execution_count": 3,
   "id": "8c327f5f",
   "metadata": {},
   "outputs": [],
   "source": [
    "import numpy as np"
   ]
  },
  {
   "cell_type": "code",
   "execution_count": 4,
   "id": "425d8984",
   "metadata": {},
   "outputs": [],
   "source": [
    "packs_weight = np.array([202, 203, 199, 197, 195, 201, 200, 204, 194, 190])"
   ]
  },
  {
   "cell_type": "code",
   "execution_count": 5,
   "id": "6931b56a",
   "metadata": {},
   "outputs": [
    {
     "data": {
      "text/plain": [
       "True"
      ]
     },
     "execution_count": 5,
     "metadata": {},
     "output_type": "execute_result"
    }
   ],
   "source": [
    "n = 10\n",
    "n == packs_weight.shape[0]"
   ]
  },
  {
   "cell_type": "code",
   "execution_count": 6,
   "id": "fab24fb0",
   "metadata": {},
   "outputs": [],
   "source": [
    "def t_statistic(packs_weight):\n",
    "    return (packs_weight.mean() - 200) / (packs_weight.std(ddof=1) / np.sqrt(n))"
   ]
  },
  {
   "cell_type": "code",
   "execution_count": 7,
   "id": "cc2e01b0",
   "metadata": {},
   "outputs": [
    {
     "data": {
      "text/plain": [
       "(-3.24983554401537, 3.2498355440153697)"
      ]
     },
     "execution_count": 7,
     "metadata": {},
     "output_type": "execute_result"
    }
   ],
   "source": [
    "alpha = 0.01\n",
    "\n",
    "t1 = stats.t.ppf(alpha / 2, df=n - 1)\n",
    "t2 = stats.t.ppf(1 - alpha / 2, df=n - 1)\n",
    "\n",
    "t1, t2"
   ]
  },
  {
   "cell_type": "code",
   "execution_count": 8,
   "id": "f524bff2",
   "metadata": {},
   "outputs": [
    {
     "data": {
      "text/plain": [
       "-1.0651074037450896"
      ]
     },
     "execution_count": 8,
     "metadata": {},
     "output_type": "execute_result"
    }
   ],
   "source": [
    "S_t = t_statistic(packs_weight)\n",
    "S_t"
   ]
  },
  {
   "cell_type": "markdown",
   "id": "de5bcc5f",
   "metadata": {},
   "source": [
    "Значение статистики не попало в критическую область, значит, гипотеза $H_0$, что $\\mu_0 = 200$ остаётся в силе."
   ]
  },
  {
   "cell_type": "markdown",
   "id": "8bca9540",
   "metadata": {},
   "source": [
    "#### 2."
   ]
  },
  {
   "cell_type": "markdown",
   "id": "468d27dd",
   "metadata": {},
   "source": [
    "Поскольку критическая область двухсторонняя, считаем P-значение по формуле:\n",
    "$$P = 2 \\cdot \\min (P_l, P_r)$$"
   ]
  },
  {
   "cell_type": "code",
   "execution_count": 9,
   "id": "1a545e07",
   "metadata": {},
   "outputs": [
    {
     "data": {
      "text/plain": [
       "0.31456660352472854"
      ]
     },
     "execution_count": 9,
     "metadata": {},
     "output_type": "execute_result"
    }
   ],
   "source": [
    "p_left = stats.t.cdf(S_t, df=n - 1)\n",
    "p_right = 1 - stats.t.cdf(S_t, df=n - 1)\n",
    "\n",
    "pvalue = 2 * min(p_left, p_right)\n",
    "\n",
    "pvalue"
   ]
  },
  {
   "cell_type": "code",
   "execution_count": 10,
   "id": "c6feac70",
   "metadata": {},
   "outputs": [
    {
     "data": {
      "text/plain": [
       "True"
      ]
     },
     "execution_count": 10,
     "metadata": {},
     "output_type": "execute_result"
    }
   ],
   "source": [
    "alpha < pvalue"
   ]
  },
  {
   "cell_type": "markdown",
   "id": "7f054833",
   "metadata": {},
   "source": [
    "Значение заданного в задаче уровня значимости $\\alpha = 0.01$ меньше, чем получившееся P-значение, поэтому гипотеза $H_0$ принимается."
   ]
  },
  {
   "cell_type": "markdown",
   "id": "1d49675b",
   "metadata": {},
   "source": [
    "### Задание 3"
   ]
  },
  {
   "cell_type": "markdown",
   "id": "27240812",
   "metadata": {},
   "source": [
    "Утверждается, что шарики для подшипников, изготовленные автоматическим станком, имеют средний диаметр 17 мм. Используя уровень значимости 0.025 и правостороннюю критическую область, проверить данную гипотезу при условии, что в выборке из 100 шариков средний диаметр оказался равным 17.5 мм, а дисперсия известна и равна 4 мм."
   ]
  },
  {
   "cell_type": "markdown",
   "id": "3613f70d",
   "metadata": {},
   "source": [
    "Из условия задачи дано:\n",
    "\n",
    "- диаметры шариков распределены нормально\n",
    "- критическая облать - правосторонняя\n",
    "- гипотеза $H_0$, что $\\mu_0 = 17$\n",
    "- $D(X) = 4$\n",
    "- $\\alpha = 0.025$\n",
    "- $\\overline{X} = 17.5$\n",
    "- $n = 100$"
   ]
  },
  {
   "cell_type": "markdown",
   "id": "7598a3c3",
   "metadata": {},
   "source": [
    "Поскольку дисперсия известна, то будем применять $Z$ статистику."
   ]
  },
  {
   "cell_type": "code",
   "execution_count": 11,
   "id": "bd9ed6d6",
   "metadata": {},
   "outputs": [
    {
     "data": {
      "text/plain": [
       "2.5"
      ]
     },
     "execution_count": 11,
     "metadata": {},
     "output_type": "execute_result"
    }
   ],
   "source": [
    "Z = (17.5 - 17) / (pow(4, 0.5) / pow(100, 0.5))\n",
    "Z "
   ]
  },
  {
   "cell_type": "markdown",
   "id": "dd6fcfa9",
   "metadata": {},
   "source": [
    "Поскольку критическая область правосторонняя, при расчете квантиля используем $1 - \\alpha$:"
   ]
  },
  {
   "cell_type": "code",
   "execution_count": 12,
   "id": "210cbfa8",
   "metadata": {},
   "outputs": [
    {
     "data": {
      "text/plain": [
       "1.959963984540054"
      ]
     },
     "execution_count": 12,
     "metadata": {},
     "output_type": "execute_result"
    }
   ],
   "source": [
    "alpha = 0.025\n",
    "t_right = stats.norm.ppf(1 - alpha)\n",
    "t_right"
   ]
  },
  {
   "cell_type": "markdown",
   "id": "25e40e65",
   "metadata": {},
   "source": [
    "Значение статистики попало в критическую область, значит, гипотеза $H_0$, что $\\mu_0 = 17$ не принимается."
   ]
  },
  {
   "cell_type": "markdown",
   "id": "333fd4ce",
   "metadata": {},
   "source": [
    "Посчитаем P-значение по формуле для правосторонней области:\n",
    "$$P_r = 1 - F_S(S)$$"
   ]
  },
  {
   "cell_type": "code",
   "execution_count": 13,
   "id": "76c15dce",
   "metadata": {},
   "outputs": [
    {
     "data": {
      "text/plain": [
       "0.006209665325776159"
      ]
     },
     "execution_count": 13,
     "metadata": {},
     "output_type": "execute_result"
    }
   ],
   "source": [
    "p_right = 1 - stats.norm.cdf(Z)\n",
    "p_right"
   ]
  },
  {
   "cell_type": "markdown",
   "id": "d5a70ed7",
   "metadata": {},
   "source": [
    "Значение заданного в задаче уровня значимости $\\alpha = 0.025$ больше, чем получившееся P-значение, поэтому гипотеза $H_0$ не принимается."
   ]
  },
  {
   "cell_type": "markdown",
   "id": "145fb65d",
   "metadata": {},
   "source": [
    "### Задание 4"
   ]
  },
  {
   "cell_type": "markdown",
   "id": "96a768a0",
   "metadata": {},
   "source": [
    "Дана выборка диаметров подшипников из примера 1 с занятия 5:\n",
    "```\n",
    "samples = [0.6603, 0.9466, 0.5968, 1.3792, 1.5481, 0.7515, 1.0681, 1.1134,\n",
    "           1.2088, 1.701 , 1.0282, 1.3579, 1.0191, 1.1784, 1.1168, 1.1372,\n",
    "           0.7273, 1.3958, 0.8665, 1.5112, 1.161 , 1.0232, 1.0865, 1.02]\n",
    "```\n",
    "Предполагая, что диаметры подшипников распределены нормально, проверьте гипотезу о том, что дисперсия случайной величины равна `0.0625` при уровне значимости `alpha = 0.05`. Что для этого нужно знать:\n",
    "1. Альтернативная гипотеза двухсторонняя.\n",
    "2. Статистика для теста: `H = (n - 1) * sample_variance / variance`, где `n` - число элементов в выборке, `sample_variance` - несмещённая оценка дисперсии, `variance` - утверждаемая нулевой гипотезой дисперсия.\n",
    "3. Эта статистика в предположении верности нулевой гипотезы имеет распределение хи-квадрат с параметром `df = n - 1`. Её квантили можно найти с помощью функции `scipy.stats.chi2.ppf`."
   ]
  },
  {
   "cell_type": "markdown",
   "id": "50ac2b64",
   "metadata": {},
   "source": [
    "Из условия задачи дано:\n",
    "\n",
    "- диаметры подшипников распределены нормально\n",
    "- альтернативная гипотеза - двусторонняя\n",
    "- гипотеза $H_0$, что $D(X) = 0.0625$\n",
    "- $\\alpha = 0.05$\n",
    "- статистика для теста: `H = (n - 1) * sample_variance / variance`, где `n` - число элементов в выборке, `sample_variance` - несмещённая оценка дисперсии, `variance` - утверждаемая нулевой гипотезой дисперсия.\n",
    "- статистика в предположении верности нулевой гипотезы имеет распределение хи-квадрат с параметром `df = n - 1`. Её квантили можно найти с помощью функции `scipy.stats.chi2.ppf`"
   ]
  },
  {
   "cell_type": "code",
   "execution_count": 14,
   "id": "afa2a941",
   "metadata": {},
   "outputs": [],
   "source": [
    "samples = np.array([0.6603, 0.9466, 0.5968, 1.3792, 1.5481, 0.7515, 1.0681, 1.1134,\n",
    "           1.2088, 1.701 , 1.0282, 1.3579, 1.0191, 1.1784, 1.1168, 1.1372,\n",
    "           0.7273, 1.3958, 0.8665, 1.5112, 1.161 , 1.0232, 1.0865, 1.02])"
   ]
  },
  {
   "cell_type": "code",
   "execution_count": 15,
   "id": "d1ce5337",
   "metadata": {},
   "outputs": [
    {
     "data": {
      "text/plain": [
       "24"
      ]
     },
     "execution_count": 15,
     "metadata": {},
     "output_type": "execute_result"
    }
   ],
   "source": [
    "n = samples.shape[0]\n",
    "n"
   ]
  },
  {
   "cell_type": "code",
   "execution_count": 16,
   "id": "cc3228ce",
   "metadata": {},
   "outputs": [
    {
     "name": "stdout",
     "output_type": "stream",
     "text": [
      "0.0625 0.07804495041666669\n"
     ]
    }
   ],
   "source": [
    "variance = 0.0625\n",
    "sample_variance = samples.var(ddof=1)\n",
    "print(variance, sample_variance)"
   ]
  },
  {
   "cell_type": "markdown",
   "id": "0b9d69be",
   "metadata": {},
   "source": [
    "Определяем статистику по формуле заданной в условии задачи:"
   ]
  },
  {
   "cell_type": "code",
   "execution_count": 17,
   "id": "1985edfe",
   "metadata": {},
   "outputs": [
    {
     "data": {
      "text/plain": [
       "28.720541753333343"
      ]
     },
     "execution_count": 17,
     "metadata": {},
     "output_type": "execute_result"
    }
   ],
   "source": [
    "H = (n - 1) * sample_variance / variance\n",
    "H"
   ]
  },
  {
   "cell_type": "markdown",
   "id": "43117b1b",
   "metadata": {},
   "source": [
    "Поскольку альтернативная гипотеза по условию задачи - двухсторонняя, критическая область также будет двухсторонней. Для её построения определим квантили по функции заданной в условии задачи:"
   ]
  },
  {
   "cell_type": "code",
   "execution_count": 18,
   "id": "633214a3",
   "metadata": {},
   "outputs": [
    {
     "data": {
      "text/plain": [
       "(11.688551922452438, 38.0756272503558)"
      ]
     },
     "execution_count": 18,
     "metadata": {},
     "output_type": "execute_result"
    }
   ],
   "source": [
    "alpha = 0.05\n",
    "\n",
    "t_left = stats.chi2.ppf(alpha / 2, df=n - 1)\n",
    "t_right = stats.chi2.ppf(1 - alpha / 2, df=n - 1)\n",
    "\n",
    "t_left, t_right"
   ]
  },
  {
   "cell_type": "markdown",
   "id": "768e5026",
   "metadata": {},
   "source": [
    "Значение статистики H не попало в критическую область, значит, гипотеза $H_0$, что $D(X) = 0.0625$ принимается."
   ]
  },
  {
   "cell_type": "code",
   "execution_count": null,
   "id": "8b1d2f83",
   "metadata": {},
   "outputs": [],
   "source": []
  }
 ],
 "metadata": {
  "kernelspec": {
   "display_name": "Python 3 (ipykernel)",
   "language": "python",
   "name": "python3"
  },
  "language_info": {
   "codemirror_mode": {
    "name": "ipython",
    "version": 3
   },
   "file_extension": ".py",
   "mimetype": "text/x-python",
   "name": "python",
   "nbconvert_exporter": "python",
   "pygments_lexer": "ipython3",
   "version": "3.9.12"
  }
 },
 "nbformat": 4,
 "nbformat_minor": 5
}
